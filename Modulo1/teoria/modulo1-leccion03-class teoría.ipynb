{
 "cells": [
  {
   "cell_type": "markdown",
   "metadata": {},
   "source": [
    "***CLASES***"
   ]
  },
  {
   "cell_type": "code",
   "execution_count": 39,
   "metadata": {},
   "outputs": [],
   "source": [
    "#Las funciones de dentro se llaman métodos y lo de dentro de las funciones atributos que serían los parámetros(color,especie etc) \n",
    "#Me falta meter los apuntes del cuaderno\n",
    "#Los controles de errores van dentro de los métodos \n",
    "#Solo se usa para características generales porque cuando hay características específicas por ejemplo la largura del pelo, esto no incluiría a los periquitos porq tienen plumas\n",
    "\n",
    "class Mascota:\n",
    "    def __init__(self, color, especie, tamanio, edad):#Este def forma parte del constructor .El init es como apertura para el resto de métodos porque es lo general (por eso solo se pone en el primero)\n",
    "        self.color= color                             #Si quieres que por ejemplo edad no tenga ningún valor se pondrí dentro del parentesis edad= None\n",
    "        self.epecie= especie\n",
    "        self.tamanio= tamanio\n",
    "        self.edad= edad\n",
    "\n",
    "\n",
    "    def cumple(self):  #el self sirve para que los distintos métododos se comuniquen (hacer uso de variables de otro método)\n",
    "        self.edad += 1\n",
    "        return self.edad\n",
    "    \n",
    "    def vacunas(self, numero_vacunas):\n",
    "        self.numero_vacunas= numero_vacunas #Si no vamos a tener que utilizar número de vacunas en otro método,no s epone el self (se deja en local) y si por lo que sea se necesita en otro método entonces si que se pone self (se pasa a global)\n",
    "        numero_vacunas += 1                 #Este cambio se ha hecho a nivel local porque no tiene el self\n",
    "        print(\"print del self\", self.numero_vacunas)    #si se le da numero de vacunas = 2 aquí nos printea 2 \n",
    "        print(\"print sin self\", numero_vacunas)         #si se le da numero de vacaciones = 2 aquí nos printea 3 porque se cumple lo local (VER comprobacion del efecto del self)\n",
    "\n",
    "    def probar_vacunas(self):\n",
    "        print(self.numero_vacunas)                    #Aquí hay que ponerle el self 100% porque es otro método distinto porque sino no se comunica con el otro método donde está numero_vacunas\n",
    "           \n",
    "    def llamamiento_metodo_en_metodo(self):\n",
    "        if self.vacunas() == 2:                               #Es necesario incluir self también cuando en un método se llama a otro método\n",
    "            print(\"Tenemos dos vacunas\")\n",
    "        else:\n",
    "            print(\"Tenemos otro número de vacunas\")                             \n",
    "\n",
    "\n",
    "\n",
    "\n",
    "\n",
    "        "
   ]
  },
  {
   "cell_type": "code",
   "execution_count": 40,
   "metadata": {},
   "outputs": [
    {
     "data": {
      "text/plain": [
       "10"
      ]
     },
     "execution_count": 40,
     "metadata": {},
     "output_type": "execute_result"
    }
   ],
   "source": [
    "felix= Mascota(\"marron\",\"gato\", \"pequeño\", 2)\n",
    "nero= Mascota(\"negro\", \"gato\",\"pequeño\", 10)\n",
    "nero.edad                 #Hay que especificar que quieres exactamente que te devuelva (el atributo que quieres)"
   ]
  },
  {
   "cell_type": "code",
   "execution_count": 46,
   "metadata": {},
   "outputs": [
    {
     "data": {
      "text/plain": [
       "11"
      ]
     },
     "execution_count": 46,
     "metadata": {},
     "output_type": "execute_result"
    }
   ],
   "source": [
    "nero.cumple()      #Hay que recordar que cuando se creen nuevos métodos hay que volver a ejecutar el código para que python sepa los cambios (como si se borrara la clase y se volviera a abrir pero ya con los cambios)"
   ]
  },
  {
   "cell_type": "code",
   "execution_count": 47,
   "metadata": {},
   "outputs": [
    {
     "data": {
      "text/plain": [
       "11"
      ]
     },
     "execution_count": 47,
     "metadata": {},
     "output_type": "execute_result"
    }
   ],
   "source": [
    "nero.edad      #Se ha actualizado gracias al return self.edad"
   ]
  },
  {
   "cell_type": "markdown",
   "metadata": {},
   "source": [
    "***Comprobación del efecto del self (local global)*** "
   ]
  },
  {
   "cell_type": "code",
   "execution_count": 41,
   "metadata": {},
   "outputs": [
    {
     "name": "stdout",
     "output_type": "stream",
     "text": [
      "print del self 2\n",
      "print sin self 3\n"
     ]
    }
   ],
   "source": [
    "\n",
    "nero.vacunas(2)"
   ]
  },
  {
   "cell_type": "markdown",
   "metadata": {},
   "source": [
    "***Demostración de la dependencia entre los métodos (El orden importa)***"
   ]
  },
  {
   "cell_type": "code",
   "execution_count": 42,
   "metadata": {},
   "outputs": [
    {
     "name": "stdout",
     "output_type": "stream",
     "text": [
      "2\n"
     ]
    }
   ],
   "source": [
    "#Comprobación de si usamos otro método donde se hace referencia a la variable global dentro de otro método (no se hace el += 1)\n",
    "#Es necesario haber ejecutado .vacunas (la celda anterior) para que funcione\n",
    "nero.probar_vacunas()"
   ]
  },
  {
   "cell_type": "markdown",
   "metadata": {},
   "source": [
    "***Ejemplo de lo de local y global***"
   ]
  },
  {
   "cell_type": "code",
   "execution_count": 43,
   "metadata": {},
   "outputs": [],
   "source": [
    "def vacunas(self, numero_vacunas):#IGUAL SE PUEDE BORRAR\n",
    "        self.numero_vacunas= numero_vacunas    #Se le pone self porque se va a querer utilizar numero_vacunas en otro método\n",
    "        esta_vacunado= True                    #No se pone el self porque es una variable/atributo que solo se va a utilizar localmente (dentro de este método)\n",
    "\n",
    "        if self.especie == \"gato\":\n",
    "                if numero_vacunas  < 3:   #Aqui no ponemos el self porque numero de vacunas está en este mismo método\n",
    "                    return \"Deberias ponerle todas la vacunas\"\n",
    "                else:\n",
    "                    return \"El gatito está protegido\"   \n",
    "        if esta_vacunado:\n",
    "              print(\"lolo\")           "
   ]
  },
  {
   "cell_type": "code",
   "execution_count": 45,
   "metadata": {},
   "outputs": [
    {
     "name": "stdout",
     "output_type": "stream",
     "text": [
      "print del self 2\n",
      "print sin self 3\n"
     ]
    }
   ],
   "source": [
    "nero= Mascota(\"negro\", \"gato\",\"pequeño\", 10)\n",
    "nero.vacunas(2)\n"
   ]
  },
  {
   "cell_type": "markdown",
   "metadata": {},
   "source": [
    "***Herencias***"
   ]
  },
  {
   "cell_type": "code",
   "execution_count": 58,
   "metadata": {},
   "outputs": [],
   "source": [
    "#Cuando hay características específicas por ejemplo la largura del pelo (que no incluiriía a los periquitos porq tienen plumas)\n",
    "#Es una clase hija que incluye las carecterísticas de la clase madre más algunas características propia\n",
    "class Gatos(Mascota):\n",
    " def __init__(self, color, especie, tamanio, edad, raza):   #Aquí raza es la característica propia de la hija \n",
    "  self.raza= raza\n",
    "  super().__init__(color, especie, tamanio, edad)   #La hija tiene que heredar todo de su madre tanto atributos como métodos (la hija siempre va a tener más que su madre)\n",
    " def funcion_gato(self):\n",
    "    print(self.edad)                                #Necesitamos poner self.edad porque aunque haya heredado los métodos de la madre precisamente al ser una comunicación entre métodods distintos pues se necesita el self\n",
    " \n",
    " \n",
    "\n"
   ]
  },
  {
   "cell_type": "code",
   "execution_count": 59,
   "metadata": {},
   "outputs": [
    {
     "data": {
      "text/plain": [
       "'siames'"
      ]
     },
     "execution_count": 59,
     "metadata": {},
     "output_type": "execute_result"
    }
   ],
   "source": [
    "gata= Gatos(\"color\", \"gato\", \"pequeño\",2,\"siames\")\n",
    "gata.raza"
   ]
  },
  {
   "cell_type": "code",
   "execution_count": 56,
   "metadata": {},
   "outputs": [
    {
     "data": {
      "text/plain": [
       "3"
      ]
     },
     "execution_count": 56,
     "metadata": {},
     "output_type": "execute_result"
    }
   ],
   "source": [
    "gata.cumple()             #También se pueden usar los métodos de la madre con la hija porque los ha heredado"
   ]
  },
  {
   "cell_type": "code",
   "execution_count": 60,
   "metadata": {},
   "outputs": [
    {
     "name": "stdout",
     "output_type": "stream",
     "text": [
      "2\n"
     ]
    }
   ],
   "source": [
    "gata.funcion_gato()"
   ]
  }
 ],
 "metadata": {
  "kernelspec": {
   "display_name": "Python 3",
   "language": "python",
   "name": "python3"
  },
  "language_info": {
   "codemirror_mode": {
    "name": "ipython",
    "version": 3
   },
   "file_extension": ".py",
   "mimetype": "text/x-python",
   "name": "python",
   "nbconvert_exporter": "python",
   "pygments_lexer": "ipython3",
   "version": "3.11.9"
  }
 },
 "nbformat": 4,
 "nbformat_minor": 2
}
