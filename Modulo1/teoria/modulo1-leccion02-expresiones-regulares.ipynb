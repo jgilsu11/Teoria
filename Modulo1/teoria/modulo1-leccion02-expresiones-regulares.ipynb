{
 "cells": [
  {
   "cell_type": "markdown",
   "metadata": {},
   "source": [
    "\n",
    "<div style=\"text-align: center;\">\n",
    "  <img src=\"https://github.com/Hack-io-Data/Imagenes/blob/main/01-LogosHackio/logo_celeste@4x.png?raw=true\" alt=\"esquema\" />\n",
    "</div>"
   ]
  },
  {
   "attachments": {},
   "cell_type": "markdown",
   "metadata": {
    "toc": true
   },
   "source": [
    "<h1>Table of Contents<span class=\"tocSkip\"></span></h1>\n",
    "<div class=\"toc\"><ul class=\"toc-item\"><li><span><a href=\"#¿Qué-es-Regex?\" data-toc-modified-id=\"¿Qué-es-Regex?-1\"><span class=\"toc-item-num\">1&nbsp;&nbsp;</span>¿Qué es Regex?</a></span><ul class=\"toc-item\"><li><span><a href=\"#Operadores-comunes\" data-toc-modified-id=\"Operadores-comunes-1.1\"><span class=\"toc-item-num\">1.1&nbsp;&nbsp;</span>Operadores comunes</a></span></li><li><span><a href=\"#Sintaxis-básica-de-regex\" data-toc-modified-id=\"Sintaxis-básica-de-regex-1.2\"><span class=\"toc-item-num\">1.2&nbsp;&nbsp;</span>Sintaxis básica de regex</a></span></li></ul></li><li><span><a href=\"#Regex-en-Python\" data-toc-modified-id=\"Regex-en-Python-2\"><span class=\"toc-item-num\">2&nbsp;&nbsp;</span>Regex en Python</a></span><ul class=\"toc-item\"><li><span><a href=\"#re.findall()\" data-toc-modified-id=\"re.findall()-2.1\"><span class=\"toc-item-num\">2.1&nbsp;&nbsp;</span><code>re.findall()</code></a></span></li><li><span><a href=\"#re.sub()\" data-toc-modified-id=\"re.sub()-2.2\"><span class=\"toc-item-num\">2.2&nbsp;&nbsp;</span><code>re.sub()</code></a></span></li><li><span><a href=\"#re.split()\" data-toc-modified-id=\"re.split()-2.3\"><span class=\"toc-item-num\">2.3&nbsp;&nbsp;</span><code>re.split()</code></a></span></li><li><span><a href=\"#re.match()\" data-toc-modified-id=\"re.match()-2.4\"><span class=\"toc-item-num\">2.4&nbsp;&nbsp;</span><code>re.match()</code></a></span></li><li><span><a href=\"#re.search()\" data-toc-modified-id=\"re.search()-2.5\"><span class=\"toc-item-num\">2.5&nbsp;&nbsp;</span><code>re.search()</code></a></span></li></ul>\n"
   ]
  },
  {
   "attachments": {},
   "cell_type": "markdown",
   "metadata": {},
   "source": [
    "# ¿Qué es Regex? \n",
    "\n",
    "Las expresiones regulares (regex de manera abreviada) son secuencias de caracteres que crean un patrón de búsqueda, el cual utilizamos para encontrar y manipular texto de manera eficiente. Estas herramientas son extremadamente útiles para buscar, validar y modificar cadenas de caracteres siguiendo patrones específicos.\n",
    "\n",
    "Mediante regex, tenemos la capacidad de especificar patrones complejos que coinciden con cadenas de texto específicas. Podemos buscar desde patrones simples, como una palabra concreta, hasta patrones más elaborados, como direcciones de correo electrónico, números de teléfono o formatos de fecha.\n",
    "\n",
    "Las expresiones regulares nos brindan un método potente, flexible y eficaz para procesar texto. Gracias a su extensa notación de coincidencia de patrones, podemos analizar rápidamente grandes cantidades de texto para:\n",
    "\n",
    "- Identificar patrones específicos de caracteres.\n",
    "\n",
    "- Verificar que el texto cumple con un patrón predefinido, como una dirección de correo electrónico.\n",
    "\n",
    "- Extraer, modificar, reemplazar o eliminar subcadenas de texto.\n",
    "\n",
    " \n",
    "Cuando trabajamos con regex, hay dos preguntas clave que nos pueden ayudar a crear nuestros patrones de búsqueda y modificación:\n",
    "\n",
    "- ¿Qué características comparten los fragmentos de texto que queremos encontrar o modificar?\n",
    "- ¿Qué fragmentos de texto queremos excluir?\n",
    "\n",
    "Una ventaja notable de las regex es su universalidad; funcionan de la misma manera en cualquier lenguaje de programación, ya sea Python, Java u otro.\n"
   ]
  },
  {
   "cell_type": "markdown",
   "metadata": {},
   "source": [
    "## Operadores comunes\n",
    "\n",
    "Estamos conociendo un \"lenguaje\" nuevo, por lo que antes de empezar a trabajar, vamos a ver algunos de los operadores más comunes. Esos operadores se van a situar a continuación del caracter sobre el que queremos operar:\n",
    "\n",
    "| **Operador** | **Descripción** | **Ejemplo** | **Explicación** |\n",
    "|--------------|-----------------|-------------|-----------------|\n",
    "| `+`          | Coincide con el carácter precedente una o más veces. | `xy+z` coincide con \"xyz\", \"xyyz\", \"xyyyz\" pero no con \"xz\". | La `y` puede aparecer una o más veces, pero debe estar presente al menos una vez. |\n",
    "| `*`          | Coincide con el carácter precedente cero o más veces. | `xy*z` coincide con \"xyz\", \"xyyz\", \"xyyyz\" y \"xz\". | La `y` puede aparecer cero o más veces. La diferencia con `+` es que aquí puede no aparecer. |\n",
    "| `?`          | Coincide con cero o una ocurrencia del elemento precedente. | `behaviou?r` coincide con \"behavior\" y \"behaviour\". | La letra `u` puede aparecer una vez o no aparecer. A diferencia de `*`, no permite múltiples repeticiones. |\n",
    "| `.`          | Coincide con cualquier carácter individual. | `t.s` coincide con \"tas\", \"tbs\", \"tcs\", etc. | El punto `.` representa cualquier carácter en esa posición. |\n",
    "| `^`          | Coincide con la posición inicial de cualquier string. | `^d` coincide con \"data\", \"dragon\", \"delfin\". | El string debe comenzar con la letra `d`. |\n",
    "| `$`          | Coincide con la posición final de cualquier string. | `n$` coincide con \"dragón\", \"ocean\", \"carmín\". | El string debe terminar con la letra `n`. |\n",
    "\n",
    "\n"
   ]
  },
  {
   "attachments": {},
   "cell_type": "markdown",
   "metadata": {},
   "source": [
    "## Sintaxis básica de regex\n",
    "\n",
    "| **Operador** | **Descripción** | **Ejemplo** | **Explicación** |\n",
    "|--------------|-----------------|-------------|-----------------|\n",
    "| `\\w`         | Coincide con cualquier carácter alfabético. | `\\w` coincide con \"a\", \"b\", \"9\" en \"abc123\". | Busca letras (mayúsculas o minúsculas) y números. |\n",
    "| `\\d`         | Coincide con cualquier carácter numérico. | `\\d` coincide con \"1\", \"2\", \"3\" en \"abc123\". | Busca dígitos del 0 al 9. |\n",
    "| `\\s`         | Coincide con espacios en blanco. | `\\s` coincide con los espacios en \"a b c\". | Detecta espacios, tabulaciones y saltos de línea. |\n",
    "| `\\n`         | Coincide con saltos de línea. | `\\n` coincide con un salto de línea entre \"abc\" y \"def\". | Permite buscar los saltos de línea en un texto. |\n",
    "| `\\W`         | Coincide con cualquier carácter que **no** sea una letra o un dígito. | `\\W` coincide con \"!\", \"@\" en \"abc!@\". | Busca caracteres que no sean alfabéticos ni numéricos, como símbolos. |\n",
    "| `\\D`         | Coincide con cualquier carácter que **no** sea un dígito. | `\\D` coincide con \"a\", \"b\", \"c\" en \"abc123\". | Busca todo excepto números. |\n",
    "| `\\S`         | Coincide con cualquier carácter que **no** sea un espacio. | `\\S` coincide con \"a\", \"b\", \"c\" en \"a b c\". | Encuentra elementos que no sean espacios, tabulaciones o saltos de línea. |\n",
    "| `()`         | Aísla una parte del patrón de búsqueda (captura un grupo). | `(abc)` coincide con \"abc\" en \"123abc456\". | Agrupa partes del patrón para operarlos como un conjunto. |\n",
    "| `[]`         | Incluye caracteres o rangos que deben coincidir. | `[a-z]` coincide con \"a\", \"b\", \"c\" en \"abc\", `[0-9]` con \"1\", \"2\", \"3\". | Especifica un rango de letras o números. `[a-z]` busca letras minúsculas, `[0-9]` números. |\n",
    "| `\\|`          | Funciona como el operador `or`. |  `los\\|las`coincide con \"los\" o \"las\" en \"los chicos\". | Evalúa si el *string* contiene uno u otro patrón. |\n",
    "| `\\`          | Escapa caracteres especiales o secuencias. | `\\.` coincide con un punto literal \".\" en \"www.google.com\". | Permite buscar caracteres especiales escapándolos, como el punto `.`. |\n",
    "| `{}`         | Especifica el número exacto de ocurrencias. | `to{2}` coincide con \"todo\" pero no con \"todavía\". | `{n}` coincide exactamente con `n` repeticiones; `{n,}` coincide con al menos `n` repeticiones; `{n,m}` coincide con un rango de `n` a `m` repeticiones. |\n"
   ]
  },
  {
   "attachments": {},
   "cell_type": "markdown",
   "metadata": {},
   "source": [
    "# Regex en Python"
   ]
  },
  {
   "attachments": {},
   "cell_type": "markdown",
   "metadata": {},
   "source": [
    "En Python tenemos cinco funciones principales que nos permiten trabajar con  cadenas de texto,*strings*, y Regex. Las funciones son las siguientes: \n",
    "\n",
    "\n",
    "- `findall` : devuelve una lista con todas las coincidencias dentro del *string* con nuestra expresión regular.\n",
    "\n",
    "- `sub` : reemplaza una o varias coincidencias con un *string* concreto.\n",
    "\n",
    "- `split` : devuelve una lista en la que el *string* ha sido dividido en cada coincidencia. Es el método `split` que aprendimos en los *strings* de python pero incluyendo regex.  \n",
    "\n",
    "- `match` : busca el patrón definido en expresión regular y devuelve la primera ocurrencia dentro del *string*.\n",
    "\n",
    "- `search` : devuelve un objeto Match si hay una coincidencia en cualquier parte de la cadena.\n",
    "\n"
   ]
  },
  {
   "cell_type": "code",
   "execution_count": 3,
   "metadata": {},
   "outputs": [],
   "source": [
    "# lo primero que hacermos es importar la librería re, ya que la necesitaremos para trabajar con regex en python\n",
    "import re"
   ]
  },
  {
   "attachments": {
    "findall.png": {
     "image/png": "[encoded data removed]"
    }
   },
   "cell_type": "markdown",
   "metadata": {},
   "source": [
    "## `re.findall()`\n",
    "\n",
    "El método `re.findall()` lo utilizaremos para buscar todas las ocurrencias de un patrón específico dentro de una cadena de texto (*string*). Este método nos devolverá una **lista** con las coincidencias. Su sintaxis es:\n",
    "\n",
    "```python\n",
    "re.findall(patron_regex, string)\n",
    "```\n",
    "\n",
    "Si analizamos el ejemplo que tenemos en el esquema:\n",
    "\n",
    "- **patron_regex**: sería el patrón de regex que queremos buscar en el texto, en este caso `[a-z]+`\n",
    "\n",
    "- **string**: el *string* sobre el que queremos buscar el patrón, en este caso `buenos días`\n",
    "\n",
    "![findall.png](attachment:findall.png)\n",
    "\n"
   ]
  },
  {
   "cell_type": "code",
   "execution_count": 4,
   "metadata": {},
   "outputs": [
    {
     "name": "stdout",
     "output_type": "stream",
     "text": [
      "['e ', 'l ']\n"
     ]
    }
   ],
   "source": [
    "saludo= \"que tal \"\n",
    "patron_saludo= \"[a-z]\\s\" #Busca los carcácteres individuales que estén seguidos de un espacio\n",
    "\n",
    "resultado1= re.findall(patron_saludo, saludo)\n",
    "print(resultado1)\n"
   ]
  },
  {
   "attachments": {},
   "cell_type": "markdown",
   "metadata": {},
   "source": [
    "Vamos a ver un ejemplo sencillo antes de meternos con más patrones más complejos. En este primer ejemplo, vamos a querer extraer únicamente la información sobre los números de los documentos de identidad que tenemos en el *string*. Por lo tanto, tendremos que buscar en nuestro *string* únicamente los números. "
   ]
  },
  {
   "cell_type": "code",
   "execution_count": 6,
   "metadata": {},
   "outputs": [
    {
     "name": "stdout",
     "output_type": "stream",
     "text": [
      "Los números capturados en el patrón son:['56783210', '12457892']\n"
     ]
    }
   ],
   "source": [
    "# definimos un string\n",
    "\n",
    "cadena_texto = \"Hola, mi DNI es 56783210J y el de mi acompañante es 12457892M\"  \n",
    "            \n",
    "# definimos el patrón. Recordemos que para los dígitos tenemos la sintaxis \"\\d\" que nos va a capturar todos los números. \n",
    "# Le pondremos un \"+\" por que queremos que sean muchos números. \n",
    "patron_num = r\"\\d+\" #La r no es obligatoria pero a partir de python 3.12 si es necesario\n",
    "\n",
    "# utilizamos el método re.findall para sacar los números de nuestro string\n",
    "num_cadena = re.findall(patron_num, cadena_texto)\n",
    "\n",
    "# veamos ahora que es numeros, donde esperaríamos encontrarnos una lista solo de números\n",
    "print(f\"Los números capturados en el patrón son:{num_cadena}\")"
   ]
  },
  {
   "cell_type": "code",
   "execution_count": 14,
   "metadata": {},
   "outputs": [
    {
     "name": "stdout",
     "output_type": "stream",
     "text": [
      "Los números capturados en el patrón son:['12457892M']\n"
     ]
    }
   ],
   "source": [
    "#Para asegurar que solo coge dnis se incluye que sean 8 caracteres y que tenga una letra\n",
    "cadena_texto = \"Hola, mi DNI es X-12345679-P 12345678 es 56783210-J y el de mi acompañante es 12457892M\"  \n",
    "            \n",
    "\n",
    "patron_num = r\"\\d{8}[A-Za-z]\" #La r no es obligatoria pero a partir de python 3.12 si es necesario\n",
    "                                           #Si se incluye el -? nos incluye otro r\"\\d{8}-?[A-Za-z]\"\n",
    "                                           #Si se quiere incluir el de X-12345679-P se tiene que escribir r\"[A-Za-z]?-?\\d{8}-?[A-Za-z]\"\n",
    "\n",
    "                        \n",
    "num_cadena = re.findall(patron_num, cadena_texto)\n",
    "\n",
    "print(f\"Los números capturados en el patrón son:{num_cadena}\")"
   ]
  },
  {
   "attachments": {},
   "cell_type": "markdown",
   "metadata": {},
   "source": [
    "Veamos otro ejemplo ahora donde tendremos un string donde querremos extraer el tiempo de inicio y de fin de un evento. "
   ]
  },
  {
   "cell_type": "code",
   "execution_count": 16,
   "metadata": {},
   "outputs": [
    {
     "name": "stdout",
     "output_type": "stream",
     "text": [
      "Las horas encontradas son: ['4:30:45', '18:45:30']\n"
     ]
    }
   ],
   "source": [
    "# Definimos una cadena de caracteres\n",
    "texto = \"La hora de inicio del evento es 4:30:45 y la hora de finalización es 18:45:30.\"\n",
    "\n",
    "# Definimos un patrón regex para buscar horas, minutos y segundos en formato HH:MM:SS\n",
    "patron_horas = r\"\\d{1,2}:\\d{2}:\\d{2}\"  #El 1,2 es para que te coja las horas q tenga 1 y 2 números\n",
    "\n",
    "# Buscar todas las coincidencias de horas, minutos y segundos en el texto\n",
    "coincidencias = re.findall(patron_horas, texto)\n",
    "\n",
    "# Imprimir las coincidencias encontradas\n",
    "print(f\"Las horas encontradas son: {coincidencias}\")\n"
   ]
  },
  {
   "attachments": {},
   "cell_type": "markdown",
   "metadata": {},
   "source": [
    "En este patrón realizamos los siguientes pasos:\n",
    "\n",
    "- busca una secuencia de dos dígitos (\\d{2})\n",
    "\n",
    "- seguida de dos puntos (:)\n",
    "\n",
    "- seguida de otra secuencia de dos dígitos (\\d{2})\n",
    "\n",
    "- seguida de dos puntos (:)\n",
    "\n",
    "- y finalmente, otra secuencia de dos dígitos (\\d{2})\n",
    "\n",
    "En resumen, buscamos el patrón \"dd:dd:dd\", que representa un formato de hora HH:MM:SS."
   ]
  },
  {
   "attachments": {},
   "cell_type": "markdown",
   "metadata": {},
   "source": [
    "Vamos a ver más ejemplos. Al principio de este jupyter explicamos operadores como `?`, `+` o `*` cuyas diferencias son sutiles. Vamos a recordarlos: \n",
    "\n",
    "- `?` (cero o una vez):\n",
    "\n",
    "    - El elemento precedente puede aparecer cero veces o una vez en el texto.\n",
    "    \n",
    "    - Coincide con cero o una repetición del elemento anterior.\n",
    "    \n",
    "    Por ejemplo, `behaviou?r` coincide con \"**behavior**\" y \"**behaviour**\". A diferencia del `*`, cuando ponemos una `?`, el carácter que estamos buscando solo podrá aparecer una vez o ninguna.\n",
    "\n",
    "- `+` (una o más veces):\n",
    "\n",
    "    - Significa que el elemento precedente debe aparecer al menos una vez en el texto.\n",
    "\n",
    "    - Coincide con una o más repeticiones del elemento anterior.\n",
    "    \n",
    "    Por ejemplo, el patrón `ba+n` coincidiría con \"**ban**\", \"**baan**\", \"**baaan**\", pero no con \"**bn**\", ya que la \"a\" debe aparecer al menos una vez.\n",
    "\n",
    "\n",
    "\n",
    "- `*` (cero o más veces):\n",
    "\n",
    "    - Significa que el elemento precedente puede aparecer cero o más veces en el texto.\n",
    "\n",
    "    - Coincide con cero o más repeticiones del elemento anterior.\n",
    "    \n",
    "    Por ejemplo, el patrón `ho*t` coincidiría con \"**ht**\", \"**hot**\", \"**hoot**\", \"**hooot**\", ya que la \"o\" puede repetirse cero o más veces.\n",
    "\n",
    "\n",
    "Vemos un caso práctico para ver mejor las diferencias: "
   ]
  },
  {
   "cell_type": "code",
   "execution_count": 27,
   "metadata": {},
   "outputs": [
    {
     "name": "stdout",
     "output_type": "stream",
     "text": [
      "El resultado de la primera búsqueda es: ['la', 'la', 'la', 'la']\n",
      "La longitud de elementos encontrados es: 4\n"
     ]
    }
   ],
   "source": [
    "# definimos un nuevo string\n",
    "cancion_massiel = \"\"\"\n",
    "Yo canto a la mañana\n",
    "Que ve mi juventud\n",
    "Y al sol que día a día\n",
    "Nos trae nueva inquietud\n",
    "Todo en la vida es como una canción\n",
    "Te cantan cuando naces\n",
    "Y también en el adiós\n",
    "la lala laa\n",
    "laaa lala l\n",
    "lalala la\n",
    "\"\"\"\n",
    "# si buscamos sin ninguno operadores los caracteres \"la\", buscaremos literalmente la palabra \"la\"\n",
    "solo_la = re.findall(\"\\s(la)\\s\", cancion_massiel) #El parentesis hace que se cumpla el patrón pero solo te devuelva lo del parentesis\n",
    "print(f\"El resultado de la primera búsqueda es: {solo_la}\")\n",
    "print(f\"La longitud de elementos encontrados es: {len(solo_la)}\")"
   ]
  },
  {
   "cell_type": "code",
   "execution_count": 28,
   "metadata": {},
   "outputs": [
    {
     "name": "stdout",
     "output_type": "stream",
     "text": [
      "El resultado de la primera búsqueda es: ['la']\n",
      "La longitud de elementos encontrados es: 1\n"
     ]
    }
   ],
   "source": [
    "solo_la = re.findall(\"la$\", cancion_massiel) #El dolar solo hace q sea el final del string no la palabra\n",
    "print(f\"El resultado de la primera búsqueda es: {solo_la}\")\n",
    "print(f\"La longitud de elementos encontrados es: {len(solo_la)}\")"
   ]
  },
  {
   "cell_type": "code",
   "execution_count": 146,
   "metadata": {},
   "outputs": [
    {
     "name": "stdout",
     "output_type": "stream",
     "text": [
      "El resultado de la segunda búsqueda es: ['la', 'l', 'l', 'la', 'l', 'la', 'la', 'la', 'la', 'la', 'la', 'la', 'l', 'la', 'la', 'la', 'la']\n",
      "La longitud de elementos encontrados es: 17\n"
     ]
    }
   ],
   "source": [
    "# El operador \"?\" busca 0 o 1 coincidencia con el caracter previo. \n",
    "# En nuestro caso, vamos a buscar todos aquellos caracteres que tengan una \"l\" SEGUIDO O NO de UNA SOLA \"a\"\n",
    "\n",
    "la_2 = re.findall('la?', cancion_massiel)\n",
    "\n",
    "# Esto nos esta devolviendo aquellas partes de nuestro *string* donde tenemos una \"l\" sola o una \"l\" seguida de UNA ÚNICA \"a\". \n",
    "# Es decir, solo está considerando aquellas partes del *string* donde tengamos una \"l\" seguida de una \"a\" \n",
    "# sin tomar la parte más allá de la primera \"a\".\n",
    " \n",
    "print(f\"El resultado de la segunda búsqueda es: {la_2}\")\n",
    "print(f\"La longitud de elementos encontrados es: {len(la_2)}\")"
   ]
  },
  {
   "cell_type": "code",
   "execution_count": 147,
   "metadata": {},
   "outputs": [
    {
     "name": "stdout",
     "output_type": "stream",
     "text": [
      "El resultado de la tercera búsqueda es: ['la', 'la', 'la', 'la', 'la', 'laa', 'laaa', 'la', 'la', 'la', 'la', 'la', 'laaaaa']\n",
      "La longitud de elementos encontrados es: 13\n"
     ]
    }
   ],
   "source": [
    "# El operador \"+\",  que a diferencia del operador \"?\",\n",
    "# encontraba todo lo que tenga una \"l\" SEGUIDO de UNA o MAS \"a\". \n",
    "# A diferencia del \"?\", con el \"+\" la \"a\" TIENE QUE ESTAR\n",
    "la_3 = re.findall('la+', cancion_massiel)\n",
    "\n",
    "# Si nos fijamos en la lista que tenemos como resultado vemos que, \n",
    "# en este caso ya no tenemos la \"l\" sola, ya que con el `+` la \"a\" tiene que estar si o si. \n",
    "# Pero además nos ha añadido el \"laaa\", ya que con el operador `+` especificamos que aparezca una o más veces. \n",
    "print(f\"El resultado de la tercera búsqueda es: {la_3}\")\n",
    "print(f\"La longitud de elementos encontrados es: {len(la_3)}\")"
   ]
  },
  {
   "cell_type": "code",
   "execution_count": 148,
   "metadata": {},
   "outputs": [
    {
     "name": "stdout",
     "output_type": "stream",
     "text": [
      "El resultado de la cuarta búsqueda es: ['la', 'l', 'l', 'la', 'l', 'la', 'la', 'la', 'laa', 'laaa', 'la', 'la', 'l', 'la', 'la', 'la', 'laaaaa']\n",
      "La longitud de elementos encontrados es: 17\n"
     ]
    }
   ],
   "source": [
    "# El operador \"*\"  buscará todo aquello que tenga una \"l\" SEGUIDO o NO de UNA o MAS \"a\". \n",
    "# A diferencia del \"?\", aquí nos capturará si hay más de una \"a\" \n",
    "# mientras que el \"?\" solo nos machea una. \n",
    "la_4 = re.findall('la*', cancion_massiel )\n",
    "\n",
    "print(f\"El resultado de la cuarta búsqueda es: {la_4}\")\n",
    "print(f\"La longitud de elementos encontrados es: {len(la_4)}\")"
   ]
  },
  {
   "attachments": {},
   "cell_type": "markdown",
   "metadata": {},
   "source": [
    "El siguiente operador que vamos a usar son las llaves `{}`, las cuáles permiten indicar el número de veces que vamos a buscar un caracter concreto. \n",
    "\n",
    "Hay que tener en cuenta que este operador solo aplicará sobre el caracter previo al operador: \n",
    "\n",
    "```python\n",
    "\n",
    "# imaginamos que tenemos el siguiente patrón: \n",
    "\n",
    "patron_num = \"9876{4}\"\n",
    "\n",
    "# el {4} solo afecta sobre el 6 ya que es el caracter previo. Por lo tanto, con este patrón estaríamos buscando cualquier elemento en nuestro string que tenga los números 987 seguidos de 4 seises. \n",
    "``` "
   ]
  },
  {
   "cell_type": "code",
   "execution_count": 149,
   "metadata": {},
   "outputs": [
    {
     "name": "stdout",
     "output_type": "stream",
     "text": [
      "El resultado de la primera búsqueda de 'a' es: ['aaa', 'aaa']\n",
      "La longitud de elementos encontrados es: 2\n"
     ]
    }
   ],
   "source": [
    "# si queremos que busque exactamente 3 \"a\"\n",
    "\n",
    "patron_a1= re.findall('a{3}' , cancion_massiel)\n",
    "\n",
    "# Si nos fijamos en el resultado ya no tenemos la \"l\" sola, \n",
    "# ya que el operador {} lo que hace es buscar unicamente el número de letras que indicamos, en este caso 2. \n",
    "print(f\"El resultado de la primera búsqueda de 'a' es: {patron_a1}\")\n",
    "print(f\"La longitud de elementos encontrados es: {len(patron_a1)}\")"
   ]
  },
  {
   "cell_type": "code",
   "execution_count": 150,
   "metadata": {},
   "outputs": [
    {
     "name": "stdout",
     "output_type": "stream",
     "text": [
      "El resultado de la segunda búsqueda de 'a' es: ['aaa', 'aaaaa']\n",
      "La longitud de elementos encontrados es: 2\n"
     ]
    }
   ],
   "source": [
    "# si queremos buscar al menos tres \"a\" en nuestro string usaremos {3,}. Esto nos devolverá la parte del string que tenga 3 o más \"a\"\n",
    "patron_a2 = re.findall('a{3,}' , cancion_massiel)\n",
    "\n",
    "# ahora lo que nos devuelve nuestro patrón es una lista con los elementos que coinciden con tres o más \"a\"\n",
    "print(f\"El resultado de la segunda búsqueda de 'a' es: {patron_a2}\")\n",
    "print(f\"La longitud de elementos encontrados es: {len(patron_a2)}\")"
   ]
  },
  {
   "cell_type": "code",
   "execution_count": 151,
   "metadata": {},
   "outputs": [
    {
     "name": "stdout",
     "output_type": "stream",
     "text": [
      "El resultado de la tercera búsqueda de 'a' es: ['aa', 'aaa', 'aaaa']\n",
      "La longitud de elementos encontrados es: 3\n"
     ]
    }
   ],
   "source": [
    "# Usamos {2,4} si queremos buscar mínimo 2  y máximo 5 \"a\" \n",
    "patron_a3 = re.findall('a{2,4}', cancion_massiel)\n",
    "\n",
    "# ahora lo que estamos viendo es todas las coincidencias que tengan entre 2 y 4 \"a\"\n",
    "print(f\"El resultado de la tercera búsqueda de 'a' es: {patron_a3}\")\n",
    "print(f\"La longitud de elementos encontrados es: {len(patron_a3)}\")\n"
   ]
  },
  {
   "attachments": {},
   "cell_type": "markdown",
   "metadata": {},
   "source": [
    "El operador `|` en regex es el 'or' que vimos en las sentencias booleanas de Python. Ahora vamos a tener una nueva canción  y queremos saber cuántas veces aparece la palabra amor en nuestro *string* y que nos da igual si la \"a\" esta en mayúscula o minúscula, en este caso deberíamos buscar: \n",
    "\n",
    "> amor **o** Amor\n",
    "\n",
    "En este caso  usaremos el operador `|`"
   ]
  },
  {
   "cell_type": "code",
   "execution_count": 152,
   "metadata": {},
   "outputs": [
    {
     "name": "stdout",
     "output_type": "stream",
     "text": [
      "A|amor aparece 2 veces en la cancion: ['amor', 'Amor']\n"
     ]
    }
   ],
   "source": [
    "# vamos a definir un string sobre el que trabajaremos en los siguientes ejemplos:\n",
    "\n",
    "cancion_camela =\"\"\"Dime que sientes lo mismo que yo ,\n",
    "Dime que me quieres , dímelo.\n",
    "\n",
    "\n",
    "Cuando Zarpa el amor\n",
    "Navega a Ciegas , es quien lleva el Timón\n",
    "Y cuando sube la Marea al corazón\n",
    "Sabe que el Viento sopla a su favor.\n",
    "\n",
    "\n",
    "No podemos hacer nada\n",
    "Por cambiar el rumbo que marcó\n",
    "Para los dos.\n",
    "Cuando zarpa el Amor\"\"\"\n",
    "\n",
    "patron_amor1 = re.findall('amor|Amor',cancion_camela)\n",
    "\n",
    "print(f\"A|amor aparece {len(patron_amor1)} veces en la cancion: {patron_amor1}\")"
   ]
  },
  {
   "attachments": {},
   "cell_type": "markdown",
   "metadata": {},
   "source": [
    "**Vamos ahora con los operadores `^` y `$`**. Recordemos que: \n",
    "\n",
    "- El operador `^` lo utilizamos para buscar en el incio del *string*, es decir, **EL PRIMER CARACTER DE TODO EL *STRING***. \n",
    "\n",
    "- El operador `$` lo utilizamos para buscar en el final del *string*, es decir, **EL ÚLTIMO CARACTER DE TODO EL *STRING***. "
   ]
  },
  {
   "cell_type": "code",
   "execution_count": 153,
   "metadata": {},
   "outputs": [],
   "source": [
    "# definimos un nuevo string\n",
    "bienvenida = \"Welcome Hack(io)s, poco a poco nos convertiremos en expertos en Python\""
   ]
  },
  {
   "cell_type": "code",
   "execution_count": 154,
   "metadata": {},
   "outputs": [
    {
     "name": "stdout",
     "output_type": "stream",
     "text": [
      "El resultado de buscar que empiece por 'py' es: []\n",
      "El resultado de buscar que empiece por 'Wel' es: ['Welcome']\n"
     ]
    }
   ],
   "source": [
    "# con este patrón lo que estamos buscando es el string que empieza por \"bienve\". \n",
    "inicio_py = re.findall(r\"^Py\", bienvenida)\n",
    "\n",
    "print(f\"El resultado de buscar que empiece por 'py' es: {inicio_py}\")\n",
    "\n",
    "# con este string estamos buscando es el string que empieza por \"Wel\" \n",
    "# y que luego tenga más letras, por eso añadimos \"\\w+\"\n",
    "inicio_wel = re.findall(r\"^Wel\\w+\", bienvenida)\n",
    "print(f\"El resultado de buscar que empiece por 'Wel' es: {inicio_wel}\")"
   ]
  },
  {
   "attachments": {},
   "cell_type": "markdown",
   "metadata": {},
   "source": [
    "**Si no paramos a pensar un segundo, dentro de nuestra bienvenida tenemos una palabra que empieza por Py**, entonces ¿por qué la primera búsqueda nos devuelve una lista vacía? El operador `^` solo afecta al INICIO (o al FINAL en el caso del `$`) del *string*, no a al inicio de las palabras contenidas dentro del *string*\n",
    "\n",
    "Para trabajar con las palabra de manera independiente tendríamos que tenerlas guardadas como elementos de una lista. Vamos a ver un ejemplo:\n",
    "\n",
    "Si tenemos una lista con los nombres de diferentes clases pero solo me intersan aquellas que sean de data, añadiremos estas clases a una nueva lista.\n",
    "\n",
    "- Cómo  queremos  evaluandar clase a clase de nuestra lista, lo primero que tendremos que hacer es un `for loop`. \n",
    "\n",
    "- Además queremos ver si cada una de estas clases empieza con \"Data\", usaremos el operador `^`. \n"
   ]
  },
  {
   "cell_type": "code",
   "execution_count": 155,
   "metadata": {},
   "outputs": [
    {
     "name": "stdout",
     "output_type": "stream",
     "text": [
      "El resutlado es: ['Data Fundamentos', 'Data SQL', 'Data MongoDB', 'Data Regex']\n"
     ]
    }
   ],
   "source": [
    "clases = [\"Data Fundamentos\", \"Data SQL\", \"Marketing Digital\", \"Marketing y Redes Sociales\", \"Data MongoDB\", \"Data Regex\"]\n",
    "\n",
    "# creamos una lista vacía donde iremos añadiendo las direcciones que tengan \"Calle\"\n",
    "clases_data = []\n",
    "\n",
    "for clase in clases: \n",
    "    # hacemos un findall para ver si cada una de las clases empieza con \"Data\"\n",
    "\n",
    "    clase_data = re.findall(\"^Data\", clase) # esto nos devolverá una lista vacía en caso de que la clase no comience por \"Data\", pero será una lista con contenido cuando la clase empiece con \"Data\"\n",
    "\n",
    "    # Si analizamos las longitudes del resultado del findall anterior, solo queremos añadir la clase si el findall nos devuelve algo, y por lo tanto la longitud de la lista clase será distinto de 0. \n",
    "    if len(clase_data) != 0:\n",
    "        clases_data.append(clase)\n",
    "\n",
    "\n",
    "# si ahora vemos el contenido de la lista direcciones_calle, solo tendremos las direcciones que empiecen por \"Calle\", pero no aquellas que no empiecen con \"Calle\" o que lo tengan en mitad del string. \n",
    "print(f\"El resutlado es: {clases_data}\")"
   ]
  },
  {
   "attachments": {
    "re-sub.png": {
     "image/png": "[encoded data removed]"
    }
   },
   "cell_type": "markdown",
   "metadata": {},
   "source": [
    "## `re.sub()`\n",
    "\n",
    "Este método se utiliza para reemplazar las ocurrencias de una expresión regular en una cadena o *string* por un nuevo valor indicado.\n",
    "\n",
    "La sintaxis básica de `re.sub()` es:\n",
    "\n",
    "```python\n",
    "re.sub(patron, reemplazo, cadena)\n",
    "```\n",
    "\n",
    "Si nos fijamos en el siguiente esquema:\n",
    "\n",
    "- **patron**: es patrón de regex que queremos buscar en el texto, en este caso `z`.\n",
    "\n",
    "- **reemplazo**: el *string* por el que vamos a reemplazar el patrón anterior, en este caso `y`.\n",
    "\n",
    "- **cadena**: es el *string* sobre el que querremos reemplazar el patrón que estamos buscando, en este caso `zzyy`. \n",
    "\n",
    "![re-sub.png](attachment:re-sub.png)"
   ]
  },
  {
   "cell_type": "code",
   "execution_count": 38,
   "metadata": {},
   "outputs": [
    {
     "name": "stdout",
     "output_type": "stream",
     "text": [
      "El resultado es: Disney+ es mejor + que Netflix!ab%\n"
     ]
    }
   ],
   "source": [
    "\n",
    "texto = \"Disney+ es mejor que Netflix!abs+\"\n",
    "patron_disney= r\"\\w\\+$\"         #Si se pusiera r\"\\w\\+$\" no se sustituye porque \\w solo afecta a numeros y letras\n",
    "                                #El sub con parentesis no funciona igual que el findall. El r\"\\w(\\+)$\" nos cambia el y+ y la s+\n",
    "                                #El split con parentesis mantiene el parentesis pero con r\"\\w(\\+)$\" elimina y y la s y separa el +\n",
    "                            \n",
    "texto_1 = re.sub(patron_disney, \"%\", texto) #Se añade la barra porque + es un operador propio de reguex \n",
    "\n",
    "print(f\"El resultado es: {texto_1}\")"
   ]
  },
  {
   "attachments": {},
   "cell_type": "markdown",
   "metadata": {},
   "source": [
    "Vamos a ver algunos ejemplos. Empecemos con uno sencillo: "
   ]
  },
  {
   "cell_type": "code",
   "execution_count": 156,
   "metadata": {},
   "outputs": [
    {
     "name": "stdout",
     "output_type": "stream",
     "text": [
      "El resultado es: Disn1y+ 1s m1jor qu1 N1tflix!\n"
     ]
    }
   ],
   "source": [
    "# Tenemos un string, queremos reemplazar todas las \"e\" por \"1\"\n",
    "texto = \"Disney+ es mejor que Netflix!\"\n",
    "\n",
    "# llamamos al método  \"re.sub\"\n",
    "# primero pasamos lo que queremos buscar\n",
    "# después indicamos el remplazo\n",
    "# y por último pasamos el string sobre el que queremos hacer el reemplazo\n",
    "\n",
    "texto_1 = re.sub(\"e\", \"1\", texto)\n",
    "\n",
    "# si ahora vemos nuestro nuevo string, no deberíamos tener \"e\" y debería haber \"9\"\n",
    "print(f\"El resultado es: {texto_1}\")"
   ]
  },
  {
   "attachments": {},
   "cell_type": "markdown",
   "metadata": {},
   "source": [
    "El método `re.sub()`, puede recibir un parámetro extra,un número, que indica en cuántas de las coincidencias queremos hacer el cambio. Vamos a repetir el ejemplo anterior pero solo vamos a cambiar las 3 primeras \"e\":"
   ]
  },
  {
   "cell_type": "code",
   "execution_count": 157,
   "metadata": {},
   "outputs": [
    {
     "name": "stdout",
     "output_type": "stream",
     "text": [
      "El resultado es:Disn1y+ 1s m1jor que Netflix!\n"
     ]
    }
   ],
   "source": [
    "# Solo tenemos que cambiar el ejemplo anterior añadiendo un 3 al final. \n",
    "texto_1_3 = re.sub(\"e\", \"1\", texto, 3)\n",
    "\n",
    "# si nos fijamos, ahora se nos han cambiado solo 2 \"e\", mientras que la última se ha mantenido\n",
    "print(f\"El resultado es:{texto_1_3}\")"
   ]
  },
  {
   "attachments": {},
   "cell_type": "markdown",
   "metadata": {},
   "source": [
    "Vamos a un ejemplo más complejo. Vamos a reemplazar \"Disney+\" por HBO . El problema es que el operador `+` es un caracter especial y como tal tendremos que \"escaparlo\" con el operador `\\`. Veamos como hacerlo:  "
   ]
  },
  {
   "cell_type": "code",
   "execution_count": 158,
   "metadata": {},
   "outputs": [
    {
     "name": "stdout",
     "output_type": "stream",
     "text": [
      "El resultado es: HBO es mejor que Netflix!\n"
     ]
    }
   ],
   "source": [
    "# definimos el patron\n",
    "patron = r\"Disney\\+\"\n",
    "# lo siguiente que hacemos es utilizar el método re.sub para hacer el reemplazo\n",
    "texto_hbo= re.sub(patron, \"HBO\", texto)\n",
    "\n",
    "print(f\"El resultado es: {texto_hbo}\")"
   ]
  },
  {
   "attachments": {},
   "cell_type": "markdown",
   "metadata": {},
   "source": [
    "Veamos ahora otro ejemplo con el *string* que contenia la canción de Camela. En la canción hay algunas comas que tienen un espacio delante, un error, vamos a quitar estos espacios:"
   ]
  },
  {
   "cell_type": "code",
   "execution_count": 159,
   "metadata": {},
   "outputs": [
    {
     "name": "stdout",
     "output_type": "stream",
     "text": [
      "La cancion sin editar es:\n",
      "\n",
      "Dime que sientes lo mismo que yo ,\n",
      "Dime que me quieres , dímelo.\n",
      "\n",
      "\n",
      "Cuando Zarpa el amor\n",
      "Navega a Ciegas , es quien lleva el Timón\n",
      "Y cuando sube la Marea al corazón\n",
      "Sabe que el Viento sopla a su favor.\n",
      "\n",
      "\n",
      "No podemos hacer nada\n",
      "Por cambiar el rumbo que marcó\n",
      "Para los dos.\n",
      "Cuando zarpa el Amor\n",
      "\n",
      "\n",
      "La canción quitando los espacios es:\n",
      "\n",
      "Dime que sientes lo mismo que yo,\n",
      "Dime que me quieres, dímelo.\n",
      "\n",
      "\n",
      "Cuando Zarpa el amor\n",
      "Navega a Ciegas, es quien lleva el Timón\n",
      "Y cuando sube la Marea al corazón\n",
      "Sabe que el Viento sopla a su favor.\n",
      "\n",
      "\n",
      "No podemos hacer nada\n",
      "Por cambiar el rumbo que marcó\n",
      "Para los dos.\n",
      "Cuando zarpa el Amor\n"
     ]
    }
   ],
   "source": [
    "# Recordamos la variable:\n",
    "print(f\"La cancion sin editar es:\\n\\n{cancion_camela}\\n\\n\")\n",
    "# Definimos el  patrón. Para buscar los espacios tenemos que usar \\s\n",
    "# Vamos a buscar un caracter que tenga un espacio seguido de una \",\"\n",
    "patron_comas = r\"\\s,\"\n",
    "\n",
    "# Remplazamos las comas que tenían un espacio previo por comas sin espacio previo. \n",
    "cancion_espacios = re.sub(patron_comas, \",\", cancion_camela)\n",
    "print(f\"La canción quitando los espacios es:\\n\\n{cancion_espacios}\")"
   ]
  },
  {
   "attachments": {},
   "cell_type": "markdown",
   "metadata": {},
   "source": [
    "Usando este método podemos seguir limpiando la canción. Vamos a eliminar las mayúsculas que están mal usadas en la canción, es decir todas las que no vengan detrás de un punto o después de un salto de línea."
   ]
  },
  {
   "cell_type": "code",
   "execution_count": 160,
   "metadata": {},
   "outputs": [],
   "source": [
    "# definamos nuestro patrón de regex\n",
    "patron_mayus = r\"[^\\.\\n][A-Z]\""
   ]
  },
  {
   "attachments": {},
   "cell_type": "markdown",
   "metadata": {},
   "source": [
    "Analicemos el patrón para entender que queremos buscar:\n",
    "\n",
    "- La primera parte del patrón es `[^\\.\\n]`. Con esto hacemos referencia a todo aquello que **NO** tenga un `.` ni un salto de línea `\\n`. El operador `^` indica \"que el *string* empiece por\", al ponerlo entre corchetes indica \"todo lo que **NO** contenga\". \n",
    "\n",
    "- La siguiente parte del patrón indica que  queremos remplazar las mayúsulas por lo tanto usaremos la estructura `[A-Z]` para indicar cualquier letra que esté en mayúscula entre la \"A\" y la \"Z\". \n",
    "\n",
    "Antes de hacer el remplazo vamos a ver sobre que letras queremos hacer este remplazo. Usaremos el método `findall`"
   ]
  },
  {
   "cell_type": "code",
   "execution_count": 161,
   "metadata": {},
   "outputs": [
    {
     "name": "stdout",
     "output_type": "stream",
     "text": [
      "Las letras que están en mayúsuculas son:[' Z', ' C', ' T', ' M', ' V', ' A']\n",
      "\n",
      "--------------------------\n",
      "\n",
      "Las canción es:\n",
      "\n",
      "Dime que sientes lo mismo que yo,\n",
      "Dime que me quieres, dímelo.\n",
      "\n",
      "\n",
      "Cuando Zarpa el amor\n",
      "Navega a Ciegas, es quien lleva el Timón\n",
      "Y cuando sube la Marea al corazón\n",
      "Sabe que el Viento sopla a su favor.\n",
      "\n",
      "\n",
      "No podemos hacer nada\n",
      "Por cambiar el rumbo que marcó\n",
      "Para los dos.\n",
      "Cuando zarpa el Amor\n"
     ]
    }
   ],
   "source": [
    "# lo primero que hacemos es sacar las mayúsculas que no e \n",
    "busqueda_mayus = re.findall(patron_mayus, cancion_espacios)\n",
    "\n",
    "print(f\"Las letras que están en mayúsuculas son:{busqueda_mayus}\")\n",
    "\n",
    "print(\"\\n--------------------------\\n\")\n",
    "# recordamos la canción\n",
    "print(f\"Las canción es:\\n\\n{cancion_espacios}\")"
   ]
  },
  {
   "cell_type": "code",
   "execution_count": 162,
   "metadata": {},
   "outputs": [
    {
     "name": "stdout",
     "output_type": "stream",
     "text": [
      "La cancion despues de este último cambio es:\n",
      "\n",
      "Dime que sientes lo mismo que yo,\n",
      "Dime que me quieres, dímelo.\n",
      "\n",
      "\n",
      "Cuando zarpa el amor\n",
      "Navega a ciegas, es quien lleva el timón\n",
      "Y cuando sube la marea al corazón\n",
      "Sabe que el viento sopla a su favor.\n",
      "\n",
      "\n",
      "No podemos hacer nada\n",
      "Por cambiar el rumbo que marcó\n",
      "Para los dos.\n",
      "Cuando zarpa el amor\n"
     ]
    }
   ],
   "source": [
    "# Una vez que tenemos la lista de mayúsculas usamos un bucle for para itear por ella\n",
    "for letra in busqueda_mayus:\n",
    "   # Usamos el método re.sub() y el método .lower() de string para convertir las letras en minúsculas.\n",
    "   cancion_espacios = re.sub(letra,letra.lower(),cancion_espacios) \n",
    "   \n",
    "# vemos como es nuestra canción ahora y vemos que ya no tenemos letras minúsculas!!\n",
    "\n",
    "print(f\"La cancion despues de este último cambio es:\\n\\n{cancion_espacios}\")"
   ]
  },
  {
   "cell_type": "markdown",
   "metadata": {},
   "source": [
    "## `re.split()` \n",
    "\n",
    "El método `re.split()` nos permite dividir una cadena en partes más pequeñas utilizando un patrón de expresión regular como separador y nos devuelve una lista.\n",
    "\n",
    "Es similar al método `split()` de *strings*, combinado con regex, lo que nos permite tener más opciones para dividir. \n",
    "\n",
    "La sintaxis básica de `re.split` es: \n",
    "\n",
    "```python\n",
    "re.split(patron, string)\n",
    "\n",
    "```\n",
    "\n",
    "Si nos fijamos en el siguiente esquema:\n",
    "\n",
    "- **patron**: Es el patrón de regex que vamos a utilizar para dividir el *string*, en este caso `z`. \n",
    "\n",
    "- **string**: Es la cadena de texto que se va a dividir, en este caso  `yyzyyzyyyzy`. \n",
    "\n",
    "![re-split().png](attachment:re-split().png)\n",
    "\n"
   ]
  },
  {
   "attachments": {},
   "cell_type": "markdown",
   "metadata": {},
   "source": [
    "Empecemos con algunos ejemplos. Primero vamos a dividir nuestro *string* por un número que este compuesto por tres dígitos, en concreto tres doses. Definimos nuestro patrón de regex y luego llamamos al método `re.split()`  y le pasamos el *string* sobre el que queremos aplicar la acción. "
   ]
  },
  {
   "cell_type": "code",
   "execution_count": null,
   "metadata": {},
   "outputs": [],
   "source": [
    "saludo_dividir= \"buenos/días?por:la!mañana\" #Se pueden separar los separadores por comas o dejarlo sin comas\n",
    "patron_signos= r\"[!,?:/]\"                   #El split no solo separa sino que borra por lo que separas\n",
    "re.split(patron_signos, saludo_dividir)"
   ]
  },
  {
   "cell_type": "code",
   "execution_count": 42,
   "metadata": {},
   "outputs": [
    {
     "data": {
      "text/plain": [
       "['buenos/días?por:la!mañana']"
      ]
     },
     "execution_count": 42,
     "metadata": {},
     "output_type": "execute_result"
    }
   ],
   "source": [
    "saludo_dividir= \"buenos/días?por:la!mañana\" #Se pueden separar los separadores por comas o dejarlo sin comas\n",
    "patron_signos= r\"dias\"                      #El split no solo separa sino que borra por lo que separas\n",
    "                                            #Los acentos hacen que no lo identifique asique mejor eliminar (scrapear) todas siempre antes\n",
    "re.split(patron_signos, saludo_dividir)"
   ]
  },
  {
   "cell_type": "code",
   "execution_count": 163,
   "metadata": {},
   "outputs": [
    {
     "name": "stdout",
     "output_type": "stream",
     "text": [
      "Al dividir nuestro string el resultado es:['Primero11Segundo', 'Tercero3333Cuarto']\n"
     ]
    }
   ],
   "source": [
    "# Definimos nuestra variable\n",
    "cardinales_ordinales = \"Primero11Segundo222Tercero3333Cuarto\"\n",
    "\n",
    "# Definimos el patrón por el que queremos dividir, en este caso por los tres doses\n",
    "patron_dividir = r\"2{3}\"\n",
    "\n",
    "# aplicamos el método split\n",
    "primera_division  = re.split(patron_dividir, cardinales_ordinales)\n",
    "print(f\"Al dividir nuestro string el resultado es:{primera_division}\")"
   ]
  },
  {
   "attachments": {},
   "cell_type": "markdown",
   "metadata": {},
   "source": [
    "El resultado al utilizar `re.split()` es  nuestro *string* dividido en aquellos puntos donde existe coincidencia con el patrón que le pasamos. Como nuestro patrón era \"2{3}\", el resultado es una lista con dos elementos. Si nos fijamos, es importante ver que el patrón por el que hacemos el *split*  no forma parte de la lista del resultado.\n",
    "\n",
    "Ahora vamos a dividir por todos los elementos que sean dígitos.\n"
   ]
  },
  {
   "cell_type": "code",
   "execution_count": 164,
   "metadata": {},
   "outputs": [
    {
     "name": "stdout",
     "output_type": "stream",
     "text": [
      "Al dividir nuestro string el resultado es:['Primero', 'Segundo', 'Tercero', 'Cuarto']\n"
     ]
    }
   ],
   "source": [
    "# Definimos el patrón por el que queremos dividir\n",
    "patron_digitos = r\"\\d+\"\n",
    "\n",
    "# aplicamos el método re.split()\n",
    "segunda_division = re.split(patron_digitos, cardinales_ordinales)\n",
    "\n",
    "print(f\"Al dividir nuestro string el resultado es:{segunda_division}\")"
   ]
  },
  {
   "attachments": {},
   "cell_type": "markdown",
   "metadata": {},
   "source": [
    "\n",
    "El resultado despúes de esta segunda división es una lista con los números ordinales.\n",
    "Vamos con otro ejemplo usando este método. Vamos a eliminar una serie de caracteres dentro de nuestro *string*:"
   ]
  },
  {
   "cell_type": "code",
   "execution_count": 165,
   "metadata": {},
   "outputs": [
    {
     "name": "stdout",
     "output_type": "stream",
     "text": [
      "Al dividir nuestro string el resultado es:['buenos', 'días', 'por', 'la', 'mañana']\n"
     ]
    }
   ],
   "source": [
    "# Definimos nuestra variable\n",
    "saludo_dividir = \"buenos/días?por;la!mañana\"\n",
    "\n",
    "# Definimos nuestro patrón de búsqueda\n",
    "patron_simbolos = r\"[/?;!]\"\n",
    "\n",
    "tercera_division = re.split(patron_simbolos, saludo_dividir)\n",
    "print(f\"Al dividir nuestro string el resultado es:{tercera_division}\")\n"
   ]
  },
  {
   "attachments": {},
   "cell_type": "markdown",
   "metadata": {},
   "source": [
    "Después de eliminar todos los símbolos que no aportaban vamos a convertir la lista resultante de nuevo en un único *string* usando el método `join()`:"
   ]
  },
  {
   "cell_type": "code",
   "execution_count": 166,
   "metadata": {},
   "outputs": [
    {
     "data": {
      "text/plain": [
       "'buenos días por la mañana'"
      ]
     },
     "execution_count": 166,
     "metadata": {},
     "output_type": "execute_result"
    }
   ],
   "source": [
    "\" \".join(tercera_division)"
   ]
  },
  {
   "attachments": {},
   "cell_type": "markdown",
   "metadata": {},
   "source": [
    "Ahora vamos a volver a usar la variable con la canción de Camela, y vamos a dividir la canción por los saltos de línea, es decir por \"n\\n\" ya que cada linea ya tiene un salto de línea, \"\\n\" por lo que necesitamos uno extra, \"\\n\\n\". Después de hacer la división tendremos una lista con tres elementosPongamos ahora un ejemplo con nuestra canción."
   ]
  },
  {
   "cell_type": "code",
   "execution_count": 167,
   "metadata": {},
   "outputs": [
    {
     "name": "stdout",
     "output_type": "stream",
     "text": [
      "Las canción es:\n",
      "\n",
      "Dime que sientes lo mismo que yo,\n",
      "Dime que me quieres, dímelo.\n",
      "\n",
      "\n",
      "Cuando zarpa el amor\n",
      "Navega a ciegas, es quien lleva el timón\n",
      "Y cuando sube la marea al corazón\n",
      "Sabe que el viento sopla a su favor.\n",
      "\n",
      "\n",
      "No podemos hacer nada\n",
      "Por cambiar el rumbo que marcó\n",
      "Para los dos.\n",
      "Cuando zarpa el amor\n",
      "\n",
      "Al dividir nuestro string el resultado es:['Dime que sientes lo mismo que yo,\\nDime que me quieres, dímelo.', '\\nCuando zarpa el amor\\nNavega a ciegas, es quien lleva el timón\\nY cuando sube la marea al corazón\\nSabe que el viento sopla a su favor.', '\\nNo podemos hacer nada\\nPor cambiar el rumbo que marcó\\nPara los dos.\\nCuando zarpa el amor']\n",
      "Comprobamos la longitud de nuestra división: 3\n"
     ]
    }
   ],
   "source": [
    "# recordamos la canción\n",
    "print(f\"Las canción es:\\n\\n{cancion_espacios}\\n\")\n",
    "\n",
    "# Definimos nuestro patrón de búsqueda\n",
    "patron_saltolinea = \"\\n\\n\"\n",
    "\n",
    "\n",
    "# Aplicamos el método re.split()\n",
    "cuarta_division = re.split(patron_saltolinea, cancion_espacios)\n",
    "print(f\"Al dividir nuestro string el resultado es:{cuarta_division}\")\n",
    "\n",
    "# Comprobamos la longitud de nuestra division\n",
    "print(f\"Comprobamos la longitud de nuestra división: {len(cuarta_division)}\")"
   ]
  },
  {
   "attachments": {
    "re-match.png": {
     "image/png": "[encoded data removed]"
    }
   },
   "cell_type": "markdown",
   "metadata": {},
   "source": [
    "## `re.match()` \n",
    "\n",
    "Este método nos permite buscar un patrón de expresión regular al principio de una cadena. **Este método va a devolver un objeto de tipo `re.Match`**. \n",
    "\n",
    "\n",
    "La sintaxis básica es: \n",
    "\n",
    "```python\n",
    "re.match(patron, string)\n",
    "```\n",
    "\n",
    "Si nos fijamos en el siguiente esquema:\n",
    "\n",
    "- **patron**: es el patrónn de regex que utilizaremos para hacer la búsqueda, en este caso una letra mayúscula `[A-Z]`. \n",
    "\n",
    "- **string**: es la cadena de texto en la cual se realizará la búsqueda, en este caso `Welcome`.\n",
    "\n",
    "![re-match.png](attachment:re-match.png)\n",
    "\n",
    "Cuando este método tenemos que tener en cuenta lo siguiente:\n",
    "\n",
    "- Solo devuelve la primera coincidencia.\n",
    "\n",
    "- En caso de que el *string* donde buscamos es un *string* multilínea, solo buscará en la primera línea. \n",
    "\n",
    "\n",
    "Vamos a ver algunos ejemplos. Vamos a buscar \"Python\" en nuestros patrones:\n"
   ]
  },
  {
   "cell_type": "code",
   "execution_count": 45,
   "metadata": {},
   "outputs": [
    {
     "data": {
      "text/plain": [
       "<re.Match object; span=(0, 6), match='Python'>"
      ]
     },
     "execution_count": 45,
     "metadata": {},
     "output_type": "execute_result"
    }
   ],
   "source": [
    "texto_1 ='''Python + Regex, las posibilidades son la pera!          #Match solo devuelve la primera coincidencia de la primera linea del string\n",
    "            Yo creo que con python van a pasar cosas muy locas'''\n",
    "\n",
    "texto_2 ='''Diablos! Python es lo mejor que me ha pasado en la vida\n",
    "         python parace bastante rápido...\n",
    "         Creo que, por lo que sea, me va a ser muy útil\n",
    "         ''' \n",
    "patron_python = r\"[p|P]\\w+\"         #No incluimos la casita ^ porque eso es solo el inicio del string y queremos el inicio de la primera palabra que empiece con P mayuscula (que no tiene porque ser la primera del string) \n",
    "\n",
    "resultado_match= re.match(patron_python, texto_1)\n",
    "resultado_match\n"
   ]
  },
  {
   "cell_type": "code",
   "execution_count": 52,
   "metadata": {},
   "outputs": [
    {
     "data": {
      "text/plain": [
       "'P'"
      ]
     },
     "execution_count": 52,
     "metadata": {},
     "output_type": "execute_result"
    }
   ],
   "source": [
    "texto_1 ='''Python + Regex, las posibilidades son la pera!\n",
    "            Yo creo que con python van a pasar cosas muy locas'''\n",
    "\n",
    "texto_2 ='''Diablos! Python es lo mejor que me ha pasado en la vida\n",
    "         python parace bastante rápido...\n",
    "         Creo que, por lo que sea, me va a ser muy útil\n",
    "         ''' \n",
    "patron_p = r\"^[Pp]|\\s[Pp]\"         #No incluimos la casita ^ porque eso es solo el inicio del string y queremos el inicio de la primera palabra que empiece con P mayuscula (que no tiene porque ser la primera del string) \n",
    "\n",
    "resultado_match= re.match(patron_p, texto_1)\n",
    "resultado_match.group()    #El .group() devuelve el objeto encontrado"
   ]
  },
  {
   "cell_type": "code",
   "execution_count": 51,
   "metadata": {},
   "outputs": [
    {
     "data": {
      "text/plain": [
       "(0, 1)"
      ]
     },
     "execution_count": 51,
     "metadata": {},
     "output_type": "execute_result"
    }
   ],
   "source": [
    "texto_1 ='''Python + Regex, las posibilidades son la pera!\n",
    "            Yo creo que con python van a pasar cosas muy locas'''\n",
    "\n",
    "texto_2 ='''Diablos! Python es lo mejor que me ha pasado en la vida\n",
    "         python parace bastante rápido...\n",
    "         Creo que, por lo que sea, me va a ser muy útil\n",
    "         ''' \n",
    "patron_p = r\"^[Pp]|\\s[Pp]\"         #No incluimos la casita ^ porque eso es solo el inicio del string y queremos el inicio de la primera palabra que empiece con P mayuscula (que no tiene porque ser la primera del string) \n",
    "\n",
    "resultado_match= re.match(patron_p, texto_1)\n",
    "resultado_match.span()     #El .span() devuelve la posición de lo encontrado que es un rango normalmente\n"
   ]
  },
  {
   "cell_type": "code",
   "execution_count": 47,
   "metadata": {},
   "outputs": [
    {
     "data": {
      "text/plain": [
       "<re.Match object; span=(0, 1), match='P'>"
      ]
     },
     "execution_count": 47,
     "metadata": {},
     "output_type": "execute_result"
    }
   ],
   "source": [
    "texto_1 ='''Python + Regex, las posibilidades son la pera!\n",
    "            Yo creo que con python van a pasar cosas muy locas'''\n",
    "\n",
    "texto_2 ='''Diablos! Python es lo mejor que me ha pasado en la vida\n",
    "         python parace bastante rápido...\n",
    "         Creo que, por lo que sea, me va a ser muy útil\n",
    "         ''' \n",
    "patron_p = r\"\\b[Pp]\"         \n",
    "\n",
    "resultado_match= re.match(patron_p, texto_1)\n",
    "resultado_match                      #El .search hace lo mismo pero buscando en todo el script no solo la primera linea y te devuelve la primera coincidencia"
   ]
  },
  {
   "cell_type": "code",
   "execution_count": 55,
   "metadata": {},
   "outputs": [
    {
     "data": {
      "text/plain": [
       "<re.Match object; span=(0, 6), match='Python'>"
      ]
     },
     "execution_count": 55,
     "metadata": {},
     "output_type": "execute_result"
    }
   ],
   "source": [
    "texto_1 ='''Python + Regex, las posibilidades son la pera!          #Match solo devuelve la primera coincidencia de la primera linea del string\n",
    "            Yo creo que con python van a pasar cosas muy locas'''\n",
    "\n",
    "texto_2 ='''Diablos! Python es lo mejor que me ha pasado en la vida\n",
    "         python parace bastante rápido...\n",
    "         Creo que, por lo que sea, me va a ser muy útil\n",
    "         ''' \n",
    "patron_python = r\"[p|P]\\w+\"         #No incluimos la casita ^ porque eso es solo el inicio del string y queremos el inicio de la primera palabra que empiece con P mayuscula (que no tiene porque ser la primera del string) \n",
    "\n",
    "resultado_match= re.match(patron_python, texto_1)\n",
    "resultado_match"
   ]
  },
  {
   "cell_type": "code",
   "execution_count": 57,
   "metadata": {},
   "outputs": [
    {
     "data": {
      "text/plain": [
       "<re.Match object; span=(0, 6), match='Python'>"
      ]
     },
     "execution_count": 57,
     "metadata": {},
     "output_type": "execute_result"
    }
   ],
   "source": [
    "texto_1 ='''Python + Regex, las posibilidades son la pera!          #Match solo devuelve la primera coincidencia de la primera linea del string\n",
    "            Yo creo que con python van a pasar cosas muy locas'''\n",
    "\n",
    "texto_2 ='''Diablos! Python es lo mejor que me ha pasado en la vida\n",
    "         python parace bastante rápido...\n",
    "         Creo que, por lo que sea, me va a ser muy útil\n",
    "         ''' \n",
    "patron_python = r\"\\b[Pp]\\w+\"         #No nos olvidemos que el \\b sirve para por ejemplo \\bt te dará las palabras que empicen por t mientras que ^t te dará la primera T al principio del string\n",
    "\n",
    "resultado_match= re.match(patron_python, texto_1)\n",
    "resultado_match"
   ]
  },
  {
   "cell_type": "code",
   "execution_count": 168,
   "metadata": {},
   "outputs": [],
   "source": [
    "# Definimos dos variables de tipo string:\n",
    "\n",
    "texto_1 ='''Python + Regex, las posibilidades son la pera!\n",
    "            Yo creo que con python van a pasar cosas muy locas'''\n",
    "\n",
    "texto_2 ='''Diablos! Python es lo mejor que me ha pasado en la vida\n",
    "         python parace bastante rápido...\n",
    "         Creo que, por lo que sea, me va a ser muy útil\n",
    "         ''' \n",
    "# Definimos el patrón de búsqueda\n",
    "patron_python = r\"[p|P]\\w+\""
   ]
  },
  {
   "attachments": {},
   "cell_type": "markdown",
   "metadata": {},
   "source": [
    "Vamos a analizar el patron:\n",
    "\n",
    "- La primera parte, `[p|P]`, buscamos cualquier palabra que tenga la \"p\" o \"P\" usando el operador `|`.\n",
    "\n",
    "- En la segunda parte, `\\w+`, buscamos \"p\" o \"P\" seguida de cualquier letra. "
   ]
  },
  {
   "cell_type": "code",
   "execution_count": 169,
   "metadata": {},
   "outputs": [
    {
     "name": "stdout",
     "output_type": "stream",
     "text": [
      "Al usar el método match en el primer texto el resultado es:<re.Match object; span=(0, 6), match='Python'>\n",
      "Al usar el método match en el primer texto el resultado es:None\n"
     ]
    }
   ],
   "source": [
    "# apliquemos el patrón sobre el primer string\n",
    "busqueda_match1 = re.match(patron_python, texto_1)\n",
    "print(f\"Al usar el método match en el primer texto el resultado es:{busqueda_match1}\")\n",
    "\n",
    "# ahora apliquemos el patrón sobre el segundo string\n",
    "busqueda_match2 = re.match(patron_python, texto_2)\n",
    "print(f\"Al usar el método match en el primer texto el resultado es:{busqueda_match2}\")"
   ]
  },
  {
   "cell_type": "markdown",
   "metadata": {},
   "source": [
    "Vemos que en la primera busqueda nos devuelve un objeto tipo `re.Match`, que analizaremos más adelante, pero la segunda búsqueda nos devuelve `None` a pesar que dentro de nuestro segundo *string* sí teníamos la palabra \"python\"... Esto se debe a una de las propiedades importantes de este método, sólo nos devuelve la **primera coincidencia**.\n",
    "\n",
    "Ahora vamos a ver que nos ha devuelto la primera búsqueda y cómo podríamos acceder a la información para que sea legible para nosotros. Dentro del objeto que nos devuelve la búsqueda con `re.Match` podemos usar varios métodos:\n",
    "\n",
    "- Método `span()`: hace referencia a las posiciones donde hizo el \"match\" En nuestro caso, el match lo hizo en los elementos que están en la posición 0 hasta la 6. \n",
    "- Método `group()`: nos permite acceder al valor al que hace referencia el \"match\", es decir, al elemento resultado de la coincidencia."
   ]
  },
  {
   "cell_type": "code",
   "execution_count": 170,
   "metadata": {},
   "outputs": [
    {
     "name": "stdout",
     "output_type": "stream",
     "text": [
      "Al usar el método match en el primer texto el resultado es:<re.Match object; span=(0, 6), match='Python'>\n",
      "\n",
      "Usamos el método span en nuestro objeto resultado: (0, 6)\n",
      "Usamos el método group en nuestro objeto resultado: Python\n"
     ]
    }
   ],
   "source": [
    "# El resultado era:\n",
    "print(f\"Al usar el método match en el primer texto el resultado es:{busqueda_match1}\\n\")\n",
    "\n",
    "# Usamos el método span:\n",
    "print(f\"Usamos el método span en nuestro objeto resultado: {busqueda_match1.span()}\")\n",
    "\n",
    "# Usamos el método group:\n",
    "print(f\"Usamos el método group en nuestro objeto resultado: {busqueda_match1.group()}\")"
   ]
  },
  {
   "attachments": {},
   "cell_type": "markdown",
   "metadata": {},
   "source": [
    "Ahora vamos a ver un ejemplo en nuestra canción:"
   ]
  },
  {
   "cell_type": "code",
   "execution_count": 171,
   "metadata": {},
   "outputs": [
    {
     "name": "stdout",
     "output_type": "stream",
     "text": [
      "Las canción es:\n",
      "\n",
      "Dime que sientes lo mismo que yo,\n",
      "Dime que me quieres, dímelo.\n",
      "\n",
      "\n",
      "Cuando zarpa el amor\n",
      "Navega a ciegas, es quien lleva el timón\n",
      "Y cuando sube la marea al corazón\n",
      "Sabe que el viento sopla a su favor.\n",
      "\n",
      "\n",
      "No podemos hacer nada\n",
      "Por cambiar el rumbo que marcó\n",
      "Para los dos.\n",
      "Cuando zarpa el amor\n",
      "\n",
      "El resultado del método re.match con el patrón amor es:None\n",
      "El resultado del método re.match con el patrón dime es:<re.Match object; span=(0, 4), match='Dime'>\n"
     ]
    }
   ],
   "source": [
    "# recordamos la canción\n",
    "print(f\"Las canción es:\\n\\n{cancion_espacios}\\n\")\n",
    "\n",
    "# definimos dos patrones de búsqueda\n",
    "patron_amor = r\"amor\"\n",
    "patron_dime = r\"Dime\"\n",
    "\n",
    "# aplicamos el método re.match dos veces una por patrón\n",
    "busqueda_amor = re.match(patron_amor, cancion_espacios)\n",
    "busqueda_dime = re.match(patron_dime, cancion_espacios)\n",
    "print(f\"El resultado del método re.match con el patrón amor es:{busqueda_amor}\")\n",
    "print(f\"El resultado del método re.match con el patrón dime es:{busqueda_dime}\")"
   ]
  },
  {
   "attachments": {},
   "cell_type": "markdown",
   "metadata": {},
   "source": [
    "La primera búsqueda no nos devuelve nada porque la palabra \"amor\" no se encuentra al principio de ninguna línea. Sin embargo la segunda búsqueda nos devuelve un objeto, ya encontró la palabra \"Dime\" al principio de alguna de las líneas de nuestra canción"
   ]
  },
  {
   "attachments": {
    "re-search.png": {
     "image/png": "[encoded data removed]"
    }
   },
   "cell_type": "markdown",
   "metadata": {},
   "source": [
    "## `re.search()`\n",
    "\n",
    "Este método es muy  similar al `re.match` y lo utilizamos para buscar un patrón de regex en toda la cadena. Al igual que el método `re.match()`, devuelve un objeto Match, pero busca si hay una coincidencia en cualquier parte de la cadena no solo al principio.\n",
    "\n",
    "Su sintaxis básica es: \n",
    "\n",
    "```python\n",
    "re.search(patron, string)\n",
    "```\n",
    "\n",
    "Basándonos en la imagen que tenemos a continuación: \n",
    "\n",
    "\n",
    "- **patron**: es el patrón de expresión regular que se utilizará para hacer la búsqueda, en este caso `[A-Z]`. \n",
    "\n",
    "- **string**: es la cadena de texto en la cual se realizará la búsqueda, en este caso `Welcome`\n",
    "\n",
    "![re-search.png](attachment:re-search.png)\n",
    "\n",
    "\n",
    "Cuando este método tenemos que tener en cuenta lo siguiente:\n",
    "\n",
    "- Como en el `re.match()`, `re.search()` solo nos devolverá **la primera coincidencia**.\n",
    "\n",
    "- Al contrario que el `re.match()`, `re.search()` realizará la búsqueda en **TODO** el *string*."
   ]
  },
  {
   "cell_type": "code",
   "execution_count": 172,
   "metadata": {},
   "outputs": [
    {
     "name": "stdout",
     "output_type": "stream",
     "text": [
      "El primer texto que teníamos era: Python + Regex, las posibilidades son la pera!\n",
      "            Yo creo que con python van a pasar cosas muy locas\n",
      "\n",
      "El segundo texto que teníamos era: Diablos! Python es lo mejor que me ha pasado en la vida\n",
      "         python parace bastante rápido...\n",
      "         Creo que, por lo que sea, me va a ser muy útil\n",
      "         \n",
      "\n",
      "El patron de búsqueda era: [p|P]\\w+\n",
      "Al usar el método match en el primer texto el resultado es:<re.Match object; span=(0, 6), match='Python'>\n",
      "Al usar el método match en el primer texto el resultado es:<re.Match object; span=(9, 15), match='Python'>\n"
     ]
    }
   ],
   "source": [
    "# Vamos a utilizar los mismos ejemplos que en el apartado anterior:\n",
    "# Recordamos nuestras variables:\n",
    "print(f\"El primer texto que teníamos era: {texto_1}\\n\")\n",
    "\n",
    "print(f\"El segundo texto que teníamos era: {texto_2}\\n\")\n",
    "\n",
    "print(f\"El patron de búsqueda era: {patron_python}\")\n",
    " \n",
    "\n",
    "# apliquemos el patrón sobre el primer string\n",
    "busqueda_search1 = re.search(patron_python, texto_1)\n",
    "print(f\"Al usar el método match en el primer texto el resultado es:{busqueda_search1}\")\n",
    "\n",
    "# ahora apliquemos el patrón sobre el segundo string\n",
    "busqueda_search2 = re.search(patron_python, texto_2)\n",
    "print(f\"Al usar el método match en el primer texto el resultado es:{busqueda_search2}\")\n"
   ]
  },
  {
   "attachments": {},
   "cell_type": "markdown",
   "metadata": {},
   "source": [
    "Ahora con el método `re.search()`, sí generamos un objeto `Match` en ambas búsquedas no como cuando usábamos el método `re.match().` Esta es la diferencia entre estos dos métodos, `re.match()` solo busca en la primera línea `re.search()` lo hará sobre todo el *string*.  "
   ]
  },
  {
   "attachments": {},
   "cell_type": "markdown",
   "metadata": {},
   "source": [
    "#### **CUADRO RESUMEN DE MÉTODOS DE REGEX CON PYTHON:**\n",
    "\n",
    "\n",
    "|  método |donde nos busca   |qué nos devuelve  |\n",
    "|---|---|---|\n",
    "|**findall()**  |en todo el *string* | una lista con todas las coincidencias en nuestro *string* |\n",
    "|**search()**      |   en todo el *string*| un objeto con la primera coincidencia en nuestro *string*| \n",
    "|**match()**  | en la primera línea del *string*   | un objeto con la primera coincidencia en nuestro *string*  |\n",
    "|**split()**|en todo el *string*|una lista con los elementos separados por el patrón que especificaramos|\n",
    "|**sub()**|en todo el *string*| un *string* con el elemento que coincide| "
   ]
  },
  {
   "attachments": {},
   "cell_type": "markdown",
   "metadata": {},
   "source": [
    "---"
   ]
  },
  {
   "cell_type": "markdown",
   "metadata": {},
   "source": [
    "## Links útiles  🤓\n",
    "\n",
    "**1- Documentación**\n",
    "\n",
    "   - [La documentación](https://docs.python.org/3/howto/regex.html)\n",
    "\n",
    "**2- Cheatsheets**\n",
    "\n",
    "   - [Tutorial de Regex - Un cheatsheet rápido con ejemplos](https://medium.com/factory-mind/regex-tutorial-a-simple-cheatsheet-by-examples-649dc1c3f285)\n",
    "   - [Cheatsheet de expresiones regulares](https://cheatography.com/davechild/cheat-sheets/regular-expressions/)\n",
    "\n",
    "**3- Para practicar y comprobar patrones**\n",
    "\n",
    "- Regex One, [para practicar](https://regex101.com/)\n",
    "\n",
    "- Regex101, [para comprobar patrones](https://regex101.com/)\n",
    "\n",
    "**4- Más enlaces**\n",
    "\n",
    "   - [Regex de Python para científicos de datos](https://www.dataquest.io/blog/regular-expressions-data-scientists/)\n",
    "   - [Construir, probar y depurar regex](https://regex101.com/)"
   ]
  }
 ],
 "metadata": {
  "kernelspec": {
   "display_name": "Python 3",
   "language": "python",
   "name": "python3"
  },
  "language_info": {
   "codemirror_mode": {
    "name": "ipython",
    "version": 3
   },
   "file_extension": ".py",
   "mimetype": "text/x-python",
   "name": "python",
   "nbconvert_exporter": "python",
   "pygments_lexer": "ipython3",
   "version": "3.11.9"
  },
  "toc": {
   "base_numbering": 1,
   "nav_menu": {},
   "number_sections": true,
   "sideBar": true,
   "skip_h1_title": false,
   "title_cell": "Table of Contents",
   "title_sidebar": "Contents",
   "toc_cell": true,
   "toc_position": {},
   "toc_section_display": true,
   "toc_window_display": false
  },
  "vscode": {
   "interpreter": {
    "hash": "31f2aee4e71d21fbe5cf8b01ff0e069b9275f58929596ceb00d14d90e3e16cd6"
   }
  }
 },
 "nbformat": 4,
 "nbformat_minor": 2
}
