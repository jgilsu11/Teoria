{
 "cells": [
  {
   "cell_type": "markdown",
   "metadata": {},
   "source": [
    "PARAMÉTRICAS\n",
    "p-valor: cuando > 0,05 no hay evidencia suficiente para rechazar Ho, Si < 0,05 no hay evidencia suficiente para aceptar Ho\n",
    "Error tipo 1: rechazar Ho siendo verdadera (falso positivo)\n",
    "Error tipo2: acpetar Ho siendo falsa (falso negativo)\n",
    "Homocedasticidad: que la varianza sea muy similar\n",
    "\n",
    "si nuestra columna de metricas son 0 y 1 usamos z score (Es decir el Z score es para calcular proporciones)\n",
    "\n",
    "Asunciones:  \n",
    "\n",
    "Normalidad:  \n",
    "  - shapiro_ tamaño muestral pequeño <=30 en test y 30 en control\n",
    "  - ruso: más de 30\n",
    "  \n",
    "Homocedasticidad:  \n",
    "\n",
    "- levene: para cuando la distribucion no es perfectamente normal (hay colitas)  \n",
    "\n",
    "- barlett: para cuando la distribución sea perfectamente normal\n",
    "\n",
    "NO PARAMETRICAS"
   ]
  },
  {
   "cell_type": "code",
   "execution_count": 4,
   "metadata": {},
   "outputs": [],
   "source": [
    "import pandas as pd\n",
    "from scipy import stats\n",
    "import seaborn as sns\n",
    "import matplotlib as plt\n",
    "import numpy as np\n",
    "\n"
   ]
  },
  {
   "cell_type": "code",
   "execution_count": 2,
   "metadata": {},
   "outputs": [],
   "source": [
    "ab_test=pd.read_csv(\"datos/ab_data.csv\")"
   ]
  },
  {
   "cell_type": "code",
   "execution_count": 3,
   "metadata": {},
   "outputs": [
    {
     "data": {
      "text/html": [
       "<div>\n",
       "<style scoped>\n",
       "    .dataframe tbody tr th:only-of-type {\n",
       "        vertical-align: middle;\n",
       "    }\n",
       "\n",
       "    .dataframe tbody tr th {\n",
       "        vertical-align: top;\n",
       "    }\n",
       "\n",
       "    .dataframe thead th {\n",
       "        text-align: right;\n",
       "    }\n",
       "</style>\n",
       "<table border=\"1\" class=\"dataframe\">\n",
       "  <thead>\n",
       "    <tr style=\"text-align: right;\">\n",
       "      <th></th>\n",
       "      <th>user_id</th>\n",
       "      <th>timestamp</th>\n",
       "      <th>group</th>\n",
       "      <th>landing_page</th>\n",
       "      <th>converted</th>\n",
       "    </tr>\n",
       "  </thead>\n",
       "  <tbody>\n",
       "    <tr>\n",
       "      <th>0</th>\n",
       "      <td>851104</td>\n",
       "      <td>2017-01-21 22:11:48.556739</td>\n",
       "      <td>control</td>\n",
       "      <td>old_page</td>\n",
       "      <td>0</td>\n",
       "    </tr>\n",
       "    <tr>\n",
       "      <th>1</th>\n",
       "      <td>804228</td>\n",
       "      <td>2017-01-12 08:01:45.159739</td>\n",
       "      <td>control</td>\n",
       "      <td>old_page</td>\n",
       "      <td>0</td>\n",
       "    </tr>\n",
       "    <tr>\n",
       "      <th>2</th>\n",
       "      <td>661590</td>\n",
       "      <td>2017-01-11 16:55:06.154213</td>\n",
       "      <td>treatment</td>\n",
       "      <td>new_page</td>\n",
       "      <td>0</td>\n",
       "    </tr>\n",
       "    <tr>\n",
       "      <th>3</th>\n",
       "      <td>853541</td>\n",
       "      <td>2017-01-08 18:28:03.143765</td>\n",
       "      <td>treatment</td>\n",
       "      <td>new_page</td>\n",
       "      <td>0</td>\n",
       "    </tr>\n",
       "    <tr>\n",
       "      <th>4</th>\n",
       "      <td>864975</td>\n",
       "      <td>2017-01-21 01:52:26.210827</td>\n",
       "      <td>control</td>\n",
       "      <td>old_page</td>\n",
       "      <td>1</td>\n",
       "    </tr>\n",
       "  </tbody>\n",
       "</table>\n",
       "</div>"
      ],
      "text/plain": [
       "   user_id                   timestamp      group landing_page  converted\n",
       "0   851104  2017-01-21 22:11:48.556739    control     old_page          0\n",
       "1   804228  2017-01-12 08:01:45.159739    control     old_page          0\n",
       "2   661590  2017-01-11 16:55:06.154213  treatment     new_page          0\n",
       "3   853541  2017-01-08 18:28:03.143765  treatment     new_page          0\n",
       "4   864975  2017-01-21 01:52:26.210827    control     old_page          1"
      ]
     },
     "execution_count": 3,
     "metadata": {},
     "output_type": "execute_result"
    }
   ],
   "source": [
    "ab_test.head()"
   ]
  },
  {
   "cell_type": "code",
   "execution_count": 4,
   "metadata": {},
   "outputs": [],
   "source": [
    "df_tasa_total_total= round(ab_test.groupby(\"group\")[\"converted\"].sum() /ab_test.shape[0] *100, 2) #el 0 es para que me de las filas"
   ]
  },
  {
   "cell_type": "code",
   "execution_count": 5,
   "metadata": {},
   "outputs": [
    {
     "data": {
      "text/plain": [
       "group\n",
       "control      6.02\n",
       "treatment    5.95\n",
       "Name: converted, dtype: float64"
      ]
     },
     "execution_count": 5,
     "metadata": {},
     "output_type": "execute_result"
    }
   ],
   "source": [
    "df_tasa_total_total"
   ]
  },
  {
   "cell_type": "code",
   "execution_count": 6,
   "metadata": {},
   "outputs": [],
   "source": [
    "df_tasa_total_grupo=round(ab_test.groupby(\"group\")[\"converted\"].mean() *100, 2)"
   ]
  },
  {
   "cell_type": "code",
   "execution_count": 7,
   "metadata": {},
   "outputs": [
    {
     "data": {
      "text/plain": [
       "group\n",
       "control      12.04\n",
       "treatment    11.89\n",
       "Name: converted, dtype: float64"
      ]
     },
     "execution_count": 7,
     "metadata": {},
     "output_type": "execute_result"
    }
   ],
   "source": [
    "df_tasa_total_grupo"
   ]
  },
  {
   "cell_type": "code",
   "execution_count": 10,
   "metadata": {},
   "outputs": [
    {
     "name": "stderr",
     "output_type": "stream",
     "text": [
      "C:\\Users\\jaime\\AppData\\Local\\Packages\\PythonSoftwareFoundation.Python.3.11_qbz5n2kfra8p0\\LocalCache\\local-packages\\Python311\\site-packages\\scipy\\stats\\_axis_nan_policy.py:573: UserWarning: scipy.stats.shapiro: For N > 5000, computed p-value may not be accurate. Current N is 294478.\n",
      "  res = hypotest_fun_out(*samples, **kwds)\n"
     ]
    },
    {
     "data": {
      "text/plain": [
       "ShapiroResult(statistic=np.float64(0.3783523831943343), pvalue=np.float64(7.449811514912522e-196))"
      ]
     },
     "execution_count": 10,
     "metadata": {},
     "output_type": "execute_result"
    }
   ],
   "source": [
    "stats.shapiro(ab_test[\"converted\"])"
   ]
  },
  {
   "cell_type": "code",
   "execution_count": 11,
   "metadata": {},
   "outputs": [
    {
     "data": {
      "text/plain": [
       "KstestResult(statistic=np.float64(0.5), pvalue=np.float64(0.0), statistic_location=np.int64(0), statistic_sign=np.int8(-1))"
      ]
     },
     "execution_count": 11,
     "metadata": {},
     "output_type": "execute_result"
    }
   ],
   "source": [
    "stats.kstest(ab_test[\"converted\"], \"norm\")"
   ]
  },
  {
   "cell_type": "code",
   "execution_count": 14,
   "metadata": {},
   "outputs": [
    {
     "name": "stderr",
     "output_type": "stream",
     "text": [
      "C:\\Users\\jaime\\AppData\\Local\\Packages\\PythonSoftwareFoundation.Python.3.11_qbz5n2kfra8p0\\LocalCache\\local-packages\\Python311\\site-packages\\scipy\\stats\\_axis_nan_policy.py:573: UserWarning: scipy.stats.shapiro: For N > 5000, computed p-value may not be accurate. Current N is 147276.\n",
      "  res = hypotest_fun_out(*samples, **kwds)\n"
     ]
    },
    {
     "data": {
      "text/plain": [
       "ShapiroResult(statistic=np.float64(0.3770708618973132), pvalue=np.float64(1.2868242482786525e-178))"
      ]
     },
     "execution_count": 14,
     "metadata": {},
     "output_type": "execute_result"
    }
   ],
   "source": [
    "stats.shapiro(ab_test[ab_test[\"group\"] == \"treatment\"][\"converted\"])"
   ]
  },
  {
   "cell_type": "code",
   "execution_count": 15,
   "metadata": {},
   "outputs": [
    {
     "name": "stderr",
     "output_type": "stream",
     "text": [
      "C:\\Users\\jaime\\AppData\\Local\\Packages\\PythonSoftwareFoundation.Python.3.11_qbz5n2kfra8p0\\LocalCache\\local-packages\\Python311\\site-packages\\scipy\\stats\\_axis_nan_policy.py:573: UserWarning: scipy.stats.shapiro: For N > 5000, computed p-value may not be accurate. Current N is 147202.\n",
      "  res = hypotest_fun_out(*samples, **kwds)\n"
     ]
    },
    {
     "data": {
      "text/plain": [
       "ShapiroResult(statistic=np.float64(0.3796275611064569), pvalue=np.float64(1.8454516993263413e-178))"
      ]
     },
     "execution_count": 15,
     "metadata": {},
     "output_type": "execute_result"
    }
   ],
   "source": [
    "stats.shapiro(ab_test[ab_test[\"group\"] == \"control\"][\"converted\"])"
   ]
  },
  {
   "cell_type": "markdown",
   "metadata": {},
   "source": [
    "Al tener ambos p-values > 0,05 no hay evidencia suficiente para rechazar Ho con lo que aceptamos que son distribuciones normales.  "
   ]
  },
  {
   "cell_type": "code",
   "execution_count": 17,
   "metadata": {},
   "outputs": [
    {
     "data": {
      "text/plain": [
       "<Axes: xlabel='converted', ylabel='Count'>"
      ]
     },
     "execution_count": 17,
     "metadata": {},
     "output_type": "execute_result"
    },
    {
     "data": {
      "image/png": "[encoded data removed]",
      "text/plain": [
       "<Figure size 640x480 with 1 Axes>"
      ]
     },
     "metadata": {},
     "output_type": "display_data"
    }
   ],
   "source": [
    "sns.histplot(x=\"converted\", data=ab_test[ab_test[\"group\"]== \"control\"])"
   ]
  },
  {
   "cell_type": "code",
   "execution_count": 18,
   "metadata": {},
   "outputs": [
    {
     "data": {
      "text/plain": [
       "<Axes: xlabel='converted', ylabel='Count'>"
      ]
     },
     "execution_count": 18,
     "metadata": {},
     "output_type": "execute_result"
    },
    {
     "data": {
      "image/png": "[encoded data removed]",
      "text/plain": [
       "<Figure size 640x480 with 1 Axes>"
      ]
     },
     "metadata": {},
     "output_type": "display_data"
    }
   ],
   "source": [
    "sns.histplot(x=\"converted\", data=ab_test[ab_test[\"group\"]== \"treatment\"])"
   ]
  },
  {
   "cell_type": "markdown",
   "metadata": {},
   "source": [
    "NUEVOS DATOS"
   ]
  },
  {
   "cell_type": "code",
   "execution_count": 73,
   "metadata": {},
   "outputs": [
    {
     "data": {
      "text/html": [
       "<div>\n",
       "<style scoped>\n",
       "    .dataframe tbody tr th:only-of-type {\n",
       "        vertical-align: middle;\n",
       "    }\n",
       "\n",
       "    .dataframe tbody tr th {\n",
       "        vertical-align: top;\n",
       "    }\n",
       "\n",
       "    .dataframe thead th {\n",
       "        text-align: right;\n",
       "    }\n",
       "</style>\n",
       "<table border=\"1\" class=\"dataframe\">\n",
       "  <thead>\n",
       "    <tr style=\"text-align: right;\">\n",
       "      <th></th>\n",
       "      <th>grupo</th>\n",
       "      <th>tiempo_promedio</th>\n",
       "    </tr>\n",
       "  </thead>\n",
       "  <tbody>\n",
       "    <tr>\n",
       "      <th>17</th>\n",
       "      <td>A</td>\n",
       "      <td>73.139711</td>\n",
       "    </tr>\n",
       "    <tr>\n",
       "      <th>67</th>\n",
       "      <td>C</td>\n",
       "      <td>72.863450</td>\n",
       "    </tr>\n",
       "    <tr>\n",
       "      <th>82</th>\n",
       "      <td>C</td>\n",
       "      <td>58.649970</td>\n",
       "    </tr>\n",
       "    <tr>\n",
       "      <th>36</th>\n",
       "      <td>B</td>\n",
       "      <td>56.761668</td>\n",
       "    </tr>\n",
       "    <tr>\n",
       "      <th>8</th>\n",
       "      <td>A</td>\n",
       "      <td>58.757770</td>\n",
       "    </tr>\n",
       "    <tr>\n",
       "      <th>9</th>\n",
       "      <td>A</td>\n",
       "      <td>85.182144</td>\n",
       "    </tr>\n",
       "  </tbody>\n",
       "</table>\n",
       "</div>"
      ],
      "text/plain": [
       "   grupo  tiempo_promedio\n",
       "17     A        73.139711\n",
       "67     C        72.863450\n",
       "82     C        58.649970\n",
       "36     B        56.761668\n",
       "8      A        58.757770\n",
       "9      A        85.182144"
      ]
     },
     "execution_count": 73,
     "metadata": {},
     "output_type": "execute_result"
    }
   ],
   "source": [
    "# generamos los datos ficticios del Grupo A (versión actual)\n",
    "grupo_a = np.random.normal(60, 10, 30)\n",
    "\n",
    "# generamos los datos ficticion del Grupo B (variación de diseño)\n",
    "grupo_b = np.random.normal(65, 10, 30)\n",
    "\n",
    "# generamos los datos ficticios del Grupo C (variación de contenido)\n",
    "grupo_c = np.random.normal(55, 10, 30)\n",
    "\n",
    "# Crear DataFrame\n",
    "df_anova = pd.DataFrame({\n",
    "    'grupo': ['A'] * 30 + ['B'] * 30 + ['C'] * 30,\n",
    "    'tiempo_promedio': np.concatenate([grupo_a, grupo_b, grupo_c])\n",
    "})\n",
    "\n",
    "# Visualizar los primeros registros del DataFrame\n",
    "df_anova.sample(6)"
   ]
  },
  {
   "cell_type": "code",
   "execution_count": 26,
   "metadata": {},
   "outputs": [
    {
     "data": {
      "text/plain": [
       "ShapiroResult(statistic=np.float64(0.9478646419705969), pvalue=np.float64(0.1481598372525738))"
      ]
     },
     "execution_count": 26,
     "metadata": {},
     "output_type": "execute_result"
    }
   ],
   "source": [
    "stats.shapiro(df_anova[df_anova[\"grupo\"] == \"C\"][\"tiempo_promedio\"])  #filtro por el grupo y me quedo solo con la métrica"
   ]
  },
  {
   "cell_type": "code",
   "execution_count": 24,
   "metadata": {},
   "outputs": [
    {
     "data": {
      "text/plain": [
       "<Axes: xlabel='tiempo_promedio', ylabel='Count'>"
      ]
     },
     "execution_count": 24,
     "metadata": {},
     "output_type": "execute_result"
    },
    {
     "data": {
      "image/png": "[encoded data removed]",
      "text/plain": [
       "<Figure size 640x480 with 1 Axes>"
      ]
     },
     "metadata": {},
     "output_type": "display_data"
    }
   ],
   "source": [
    "sns.histplot(x=\"tiempo_promedio\", data=df_anova[df_anova[\"grupo\"]== \"C\"])"
   ]
  },
  {
   "cell_type": "markdown",
   "metadata": {},
   "source": [
    "COMPROBAR LA HOMOCEDASTICIDAD"
   ]
  },
  {
   "cell_type": "code",
   "execution_count": 25,
   "metadata": {},
   "outputs": [
    {
     "data": {
      "text/plain": [
       "BartlettResult(statistic=np.float64(0.9022489387096886), pvalue=np.float64(0.6369115612729388))"
      ]
     },
     "execution_count": 25,
     "metadata": {},
     "output_type": "execute_result"
    }
   ],
   "source": [
    "stats.bartlett(df_anova[df_anova[\"grupo\"]== \"C\"][\"tiempo_promedio\"], df_anova[df_anova[\"grupo\"]== \"A\"][\"tiempo_promedio\"], df_anova[df_anova[\"grupo\"]== \"B\"][\"tiempo_promedio\"])"
   ]
  },
  {
   "cell_type": "markdown",
   "metadata": {},
   "source": [
    "No hay evidencia suficiente para rechazar Ho, es decir, que es homocedástico"
   ]
  },
  {
   "cell_type": "markdown",
   "metadata": {},
   "source": [
    "BARLETT"
   ]
  },
  {
   "cell_type": "code",
   "execution_count": null,
   "metadata": {},
   "outputs": [
    {
     "name": "stdout",
     "output_type": "stream",
     "text": [
      "BartlettResult(statistic=np.float64(0.9022489387096325), pvalue=np.float64(0.6369115612729567))\n"
     ]
    }
   ],
   "source": [
    "def calcular_bartlett(df, columna_grupos, columnas_metrica):\n",
    "    unicos=df[columna_grupos].unique()   #lista de grupos\n",
    "    for grupo in unicos:\n",
    "        df_metrica= df[df[columna_grupos]== grupo][columnas_metrica]\n",
    "        globals()[grupo] = df_metrica                                   #globals permite poner un parametro de una funcion en la variable a definir (de normal no se puede)\n",
    "                                                                        #basicamente el globals lo empaqueta en un especie de diccionario en la que lo unico que se almacena en unicos (lista_grupo) son los nombres A B y C\n",
    "\n",
    "\n",
    "    print(stats.bartlett(*[globals()[var] for var in unicos]))                  #al desempaquetar, de la A obtenemos sus estadisticos el * es para quitar la lista\n",
    "\n",
    "calcular_bartlett(df_anova, \"grupo\", \"tiempo_promedio\")"
   ]
  },
  {
   "cell_type": "markdown",
   "metadata": {},
   "source": [
    "Calculo ahora un anova porque tengo 3 grupos"
   ]
  },
  {
   "cell_type": "code",
   "execution_count": 32,
   "metadata": {},
   "outputs": [
    {
     "data": {
      "text/html": [
       "<div>\n",
       "<style scoped>\n",
       "    .dataframe tbody tr th:only-of-type {\n",
       "        vertical-align: middle;\n",
       "    }\n",
       "\n",
       "    .dataframe tbody tr th {\n",
       "        vertical-align: top;\n",
       "    }\n",
       "\n",
       "    .dataframe thead th {\n",
       "        text-align: right;\n",
       "    }\n",
       "</style>\n",
       "<table border=\"1\" class=\"dataframe\">\n",
       "  <thead>\n",
       "    <tr style=\"text-align: right;\">\n",
       "      <th></th>\n",
       "      <th>grupo</th>\n",
       "      <th>tiempo_promedio</th>\n",
       "    </tr>\n",
       "  </thead>\n",
       "  <tbody>\n",
       "    <tr>\n",
       "      <th>0</th>\n",
       "      <td>A</td>\n",
       "      <td>69.979016</td>\n",
       "    </tr>\n",
       "    <tr>\n",
       "      <th>1</th>\n",
       "      <td>A</td>\n",
       "      <td>49.949969</td>\n",
       "    </tr>\n",
       "    <tr>\n",
       "      <th>2</th>\n",
       "      <td>A</td>\n",
       "      <td>63.372267</td>\n",
       "    </tr>\n",
       "    <tr>\n",
       "      <th>3</th>\n",
       "      <td>A</td>\n",
       "      <td>71.033736</td>\n",
       "    </tr>\n",
       "    <tr>\n",
       "      <th>4</th>\n",
       "      <td>A</td>\n",
       "      <td>46.588525</td>\n",
       "    </tr>\n",
       "  </tbody>\n",
       "</table>\n",
       "</div>"
      ],
      "text/plain": [
       "  grupo  tiempo_promedio\n",
       "0     A        69.979016\n",
       "1     A        49.949969\n",
       "2     A        63.372267\n",
       "3     A        71.033736\n",
       "4     A        46.588525"
      ]
     },
     "execution_count": 32,
     "metadata": {},
     "output_type": "execute_result"
    }
   ],
   "source": [
    "df_anova.head()"
   ]
  },
  {
   "cell_type": "code",
   "execution_count": 33,
   "metadata": {},
   "outputs": [
    {
     "data": {
      "text/plain": [
       "<Axes: xlabel='grupo', ylabel='tiempo_promedio'>"
      ]
     },
     "execution_count": 33,
     "metadata": {},
     "output_type": "execute_result"
    },
    {
     "data": {
      "image/png": "[encoded data removed]",
      "text/plain": [
       "<Figure size 640x480 with 1 Axes>"
      ]
     },
     "metadata": {},
     "output_type": "display_data"
    }
   ],
   "source": [
    "df_res=df_anova.groupby(\"grupo\")[\"tiempo_promedio\"].min().reset_index()\n",
    "sns.barplot(y= \"tiempo_promedio\", x= \"grupo\", data= df_res)"
   ]
  },
  {
   "cell_type": "markdown",
   "metadata": {},
   "source": [
    "ANOVA"
   ]
  },
  {
   "cell_type": "code",
   "execution_count": 36,
   "metadata": {},
   "outputs": [
    {
     "name": "stdout",
     "output_type": "stream",
     "text": [
      "F_onewayResult(statistic=np.float64(9.140441515929881), pvalue=np.float64(0.0002493925165120507))\n"
     ]
    }
   ],
   "source": [
    "def calcular_anova(df, columna_grupos, columnas_metrica):\n",
    "    unicos=df[columna_grupos].unique()   #lista de grupos\n",
    "    for grupo in unicos:\n",
    "        df_metrica= df[df[columna_grupos]== grupo][columnas_metrica]\n",
    "        globals()[grupo] = df_metrica                                   #globals permite poner un parametro de una funcion en la variable a definir (de normal no se puede)\n",
    "                                                                        #basicamente el globals lo empaqueta en un especie de diccionario en la que lo unico que se almacena en unicos (lista_grupo) son los nombres A B y C\n",
    "\n",
    "\n",
    "    print(stats.f_oneway(*[globals()[var] for var in unicos]))                  #al desempaquetar, de la A obtenemos sus estadisticos el * es para quitar la lista\n",
    "\n",
    "calcular_anova(df_anova, \"grupo\", \"tiempo_promedio\")\n",
    "\n"
   ]
  },
  {
   "cell_type": "markdown",
   "metadata": {},
   "source": [
    "T.STUDENT"
   ]
  },
  {
   "cell_type": "code",
   "execution_count": null,
   "metadata": {},
   "outputs": [],
   "source": [
    "def calcular_ttest(df, columna_grupos, columnas_metrica):\n",
    "    unicos=df[columna_grupos].unique()   #lista de grupos\n",
    "    for grupo in unicos:\n",
    "        df_metrica= df[df[columna_grupos]== grupo][columnas_metrica]\n",
    "        globals()[grupo] = df_metrica                                   #globals permite poner un parametro de una funcion en la variable a definir (de normal no se puede)\n",
    "                                                                        #basicamente el globals lo empaqueta en un especie de diccionario en la que lo unico que se almacena en unicos (lista_grupo) son los nombres A B y C\n",
    "\n",
    "\n",
    "    print(stats.ttest_ind(*[globals()[var] for var in unicos]))                  #al desempaquetar, de la A obtenemos sus estadisticos el * es para quitar la lista\n",
    "\n",
    "calcular_ttest(df_anova, \"grupo\", \"tiempo_promedio\")"
   ]
  },
  {
   "cell_type": "markdown",
   "metadata": {},
   "source": [
    "Z-SCORE(no es normal, no homocedástico pero si independiene y con 0 y 1)  \n",
    "\n",
    "\n",
    "si nuestra columna de metricas son 0 y 1 usamos z score (Es decir el Z score es para calcular proporciones)"
   ]
  },
  {
   "cell_type": "markdown",
   "metadata": {},
   "source": [
    "le tengo que dar los tamaños muestrales(en formato lista los de control y los de test [50,50] y cuantos han convertido[19,40])"
   ]
  },
  {
   "cell_type": "code",
   "execution_count": 77,
   "metadata": {},
   "outputs": [
    {
     "data": {
      "text/plain": [
       "(np.float64(1.2369217547321678), np.float64(0.21611613269757501))"
      ]
     },
     "execution_count": 77,
     "metadata": {},
     "output_type": "execute_result"
    }
   ],
   "source": [
    "from statsmodels.stats.proportion import proportions_ztest\n",
    "\n",
    "df_test=ab_test[ab_test[\"group\"]== \"treatment\"]\n",
    "df_control=ab_test[ab_test[\"group\"]== \"control\"]\n",
    "\n",
    "\n",
    "\n",
    "tamanio_muestral=[df_control.shape[0], df_test.shape[0]]\n",
    "convertidos= [df_control[\"converted\"].sum(), df_test[\"converted\"].sum()]\n",
    "proportions_ztest(convertidos, tamanio_muestral)  #El segundo es el p-value"
   ]
  },
  {
   "cell_type": "markdown",
   "metadata": {},
   "source": [
    "NO PARAMETRICAS"
   ]
  },
  {
   "cell_type": "code",
   "execution_count": 41,
   "metadata": {},
   "outputs": [],
   "source": [
    "control=pd.read_csv(\"datos/control_group.csv\", sep= \";\")\n",
    "test=pd.read_csv(\"datos/test_group.csv\", sep= \";\")"
   ]
  },
  {
   "cell_type": "code",
   "execution_count": 42,
   "metadata": {},
   "outputs": [],
   "source": [
    "df=pd.DataFrame()\n",
    "df=pd.concat([df,control, test], axis=0, ignore_index=True)"
   ]
  },
  {
   "cell_type": "code",
   "execution_count": 43,
   "metadata": {},
   "outputs": [
    {
     "data": {
      "text/html": [
       "<div>\n",
       "<style scoped>\n",
       "    .dataframe tbody tr th:only-of-type {\n",
       "        vertical-align: middle;\n",
       "    }\n",
       "\n",
       "    .dataframe tbody tr th {\n",
       "        vertical-align: top;\n",
       "    }\n",
       "\n",
       "    .dataframe thead th {\n",
       "        text-align: right;\n",
       "    }\n",
       "</style>\n",
       "<table border=\"1\" class=\"dataframe\">\n",
       "  <thead>\n",
       "    <tr style=\"text-align: right;\">\n",
       "      <th></th>\n",
       "      <th>Campaign Name</th>\n",
       "      <th>Date</th>\n",
       "      <th>Spend [USD]</th>\n",
       "      <th># of Impressions</th>\n",
       "      <th>Reach</th>\n",
       "      <th># of Website Clicks</th>\n",
       "      <th># of Searches</th>\n",
       "      <th># of View Content</th>\n",
       "      <th># of Add to Cart</th>\n",
       "      <th># of Purchase</th>\n",
       "    </tr>\n",
       "  </thead>\n",
       "  <tbody>\n",
       "    <tr>\n",
       "      <th>0</th>\n",
       "      <td>Control Campaign</td>\n",
       "      <td>1.08.2019</td>\n",
       "      <td>2280</td>\n",
       "      <td>82702.0</td>\n",
       "      <td>56930.0</td>\n",
       "      <td>7016.0</td>\n",
       "      <td>2290.0</td>\n",
       "      <td>2159.0</td>\n",
       "      <td>1819.0</td>\n",
       "      <td>618.0</td>\n",
       "    </tr>\n",
       "    <tr>\n",
       "      <th>1</th>\n",
       "      <td>Control Campaign</td>\n",
       "      <td>2.08.2019</td>\n",
       "      <td>1757</td>\n",
       "      <td>121040.0</td>\n",
       "      <td>102513.0</td>\n",
       "      <td>8110.0</td>\n",
       "      <td>2033.0</td>\n",
       "      <td>1841.0</td>\n",
       "      <td>1219.0</td>\n",
       "      <td>511.0</td>\n",
       "    </tr>\n",
       "    <tr>\n",
       "      <th>2</th>\n",
       "      <td>Control Campaign</td>\n",
       "      <td>3.08.2019</td>\n",
       "      <td>2343</td>\n",
       "      <td>131711.0</td>\n",
       "      <td>110862.0</td>\n",
       "      <td>6508.0</td>\n",
       "      <td>1737.0</td>\n",
       "      <td>1549.0</td>\n",
       "      <td>1134.0</td>\n",
       "      <td>372.0</td>\n",
       "    </tr>\n",
       "    <tr>\n",
       "      <th>3</th>\n",
       "      <td>Control Campaign</td>\n",
       "      <td>4.08.2019</td>\n",
       "      <td>1940</td>\n",
       "      <td>72878.0</td>\n",
       "      <td>61235.0</td>\n",
       "      <td>3065.0</td>\n",
       "      <td>1042.0</td>\n",
       "      <td>982.0</td>\n",
       "      <td>1183.0</td>\n",
       "      <td>340.0</td>\n",
       "    </tr>\n",
       "    <tr>\n",
       "      <th>4</th>\n",
       "      <td>Control Campaign</td>\n",
       "      <td>5.08.2019</td>\n",
       "      <td>1835</td>\n",
       "      <td>NaN</td>\n",
       "      <td>NaN</td>\n",
       "      <td>NaN</td>\n",
       "      <td>NaN</td>\n",
       "      <td>NaN</td>\n",
       "      <td>NaN</td>\n",
       "      <td>NaN</td>\n",
       "    </tr>\n",
       "  </tbody>\n",
       "</table>\n",
       "</div>"
      ],
      "text/plain": [
       "      Campaign Name       Date  Spend [USD]  # of Impressions     Reach  \\\n",
       "0  Control Campaign  1.08.2019         2280           82702.0   56930.0   \n",
       "1  Control Campaign  2.08.2019         1757          121040.0  102513.0   \n",
       "2  Control Campaign  3.08.2019         2343          131711.0  110862.0   \n",
       "3  Control Campaign  4.08.2019         1940           72878.0   61235.0   \n",
       "4  Control Campaign  5.08.2019         1835               NaN       NaN   \n",
       "\n",
       "   # of Website Clicks  # of Searches  # of View Content  # of Add to Cart  \\\n",
       "0               7016.0         2290.0             2159.0            1819.0   \n",
       "1               8110.0         2033.0             1841.0            1219.0   \n",
       "2               6508.0         1737.0             1549.0            1134.0   \n",
       "3               3065.0         1042.0              982.0            1183.0   \n",
       "4                  NaN            NaN                NaN               NaN   \n",
       "\n",
       "   # of Purchase  \n",
       "0          618.0  \n",
       "1          511.0  \n",
       "2          372.0  \n",
       "3          340.0  \n",
       "4            NaN  "
      ]
     },
     "execution_count": 43,
     "metadata": {},
     "output_type": "execute_result"
    }
   ],
   "source": [
    "df.head()"
   ]
  },
  {
   "cell_type": "code",
   "execution_count": 44,
   "metadata": {},
   "outputs": [],
   "source": [
    "df.columns=df.columns.str.lower().str.strip().str.replace(\"# of \", \"\").str.replace(\" [usd]\", \"\").str.replace(\" \", \"_\")"
   ]
  },
  {
   "cell_type": "code",
   "execution_count": 45,
   "metadata": {},
   "outputs": [
    {
     "data": {
      "text/html": [
       "<div>\n",
       "<style scoped>\n",
       "    .dataframe tbody tr th:only-of-type {\n",
       "        vertical-align: middle;\n",
       "    }\n",
       "\n",
       "    .dataframe tbody tr th {\n",
       "        vertical-align: top;\n",
       "    }\n",
       "\n",
       "    .dataframe thead th {\n",
       "        text-align: right;\n",
       "    }\n",
       "</style>\n",
       "<table border=\"1\" class=\"dataframe\">\n",
       "  <thead>\n",
       "    <tr style=\"text-align: right;\">\n",
       "      <th></th>\n",
       "      <th>campaign_name</th>\n",
       "      <th>date</th>\n",
       "      <th>spend</th>\n",
       "      <th>impressions</th>\n",
       "      <th>reach</th>\n",
       "      <th>website_clicks</th>\n",
       "      <th>searches</th>\n",
       "      <th>view_content</th>\n",
       "      <th>add_to_cart</th>\n",
       "      <th>purchase</th>\n",
       "    </tr>\n",
       "  </thead>\n",
       "  <tbody>\n",
       "    <tr>\n",
       "      <th>0</th>\n",
       "      <td>Control Campaign</td>\n",
       "      <td>1.08.2019</td>\n",
       "      <td>2280</td>\n",
       "      <td>82702.0</td>\n",
       "      <td>56930.0</td>\n",
       "      <td>7016.0</td>\n",
       "      <td>2290.0</td>\n",
       "      <td>2159.0</td>\n",
       "      <td>1819.0</td>\n",
       "      <td>618.0</td>\n",
       "    </tr>\n",
       "    <tr>\n",
       "      <th>1</th>\n",
       "      <td>Control Campaign</td>\n",
       "      <td>2.08.2019</td>\n",
       "      <td>1757</td>\n",
       "      <td>121040.0</td>\n",
       "      <td>102513.0</td>\n",
       "      <td>8110.0</td>\n",
       "      <td>2033.0</td>\n",
       "      <td>1841.0</td>\n",
       "      <td>1219.0</td>\n",
       "      <td>511.0</td>\n",
       "    </tr>\n",
       "    <tr>\n",
       "      <th>2</th>\n",
       "      <td>Control Campaign</td>\n",
       "      <td>3.08.2019</td>\n",
       "      <td>2343</td>\n",
       "      <td>131711.0</td>\n",
       "      <td>110862.0</td>\n",
       "      <td>6508.0</td>\n",
       "      <td>1737.0</td>\n",
       "      <td>1549.0</td>\n",
       "      <td>1134.0</td>\n",
       "      <td>372.0</td>\n",
       "    </tr>\n",
       "    <tr>\n",
       "      <th>3</th>\n",
       "      <td>Control Campaign</td>\n",
       "      <td>4.08.2019</td>\n",
       "      <td>1940</td>\n",
       "      <td>72878.0</td>\n",
       "      <td>61235.0</td>\n",
       "      <td>3065.0</td>\n",
       "      <td>1042.0</td>\n",
       "      <td>982.0</td>\n",
       "      <td>1183.0</td>\n",
       "      <td>340.0</td>\n",
       "    </tr>\n",
       "    <tr>\n",
       "      <th>4</th>\n",
       "      <td>Control Campaign</td>\n",
       "      <td>5.08.2019</td>\n",
       "      <td>1835</td>\n",
       "      <td>NaN</td>\n",
       "      <td>NaN</td>\n",
       "      <td>NaN</td>\n",
       "      <td>NaN</td>\n",
       "      <td>NaN</td>\n",
       "      <td>NaN</td>\n",
       "      <td>NaN</td>\n",
       "    </tr>\n",
       "  </tbody>\n",
       "</table>\n",
       "</div>"
      ],
      "text/plain": [
       "      campaign_name       date  spend  impressions     reach  website_clicks  \\\n",
       "0  Control Campaign  1.08.2019   2280      82702.0   56930.0          7016.0   \n",
       "1  Control Campaign  2.08.2019   1757     121040.0  102513.0          8110.0   \n",
       "2  Control Campaign  3.08.2019   2343     131711.0  110862.0          6508.0   \n",
       "3  Control Campaign  4.08.2019   1940      72878.0   61235.0          3065.0   \n",
       "4  Control Campaign  5.08.2019   1835          NaN       NaN             NaN   \n",
       "\n",
       "   searches  view_content  add_to_cart  purchase  \n",
       "0    2290.0        2159.0       1819.0     618.0  \n",
       "1    2033.0        1841.0       1219.0     511.0  \n",
       "2    1737.0        1549.0       1134.0     372.0  \n",
       "3    1042.0         982.0       1183.0     340.0  \n",
       "4       NaN           NaN          NaN       NaN  "
      ]
     },
     "execution_count": 45,
     "metadata": {},
     "output_type": "execute_result"
    }
   ],
   "source": [
    "df.head()"
   ]
  },
  {
   "cell_type": "code",
   "execution_count": 46,
   "metadata": {},
   "outputs": [],
   "source": [
    "df[\"ctr\"]=df[\"website_clicks\"]/ df[\"impressions\"]\n",
    "df[\"cr\"]=df[\"purchase\"] / df[\"website_clicks\"]\n",
    "df[\"cpa\"]= df[\"spend\"] / df[\"purchase\"]"
   ]
  },
  {
   "cell_type": "code",
   "execution_count": 47,
   "metadata": {},
   "outputs": [
    {
     "data": {
      "text/html": [
       "<div>\n",
       "<style scoped>\n",
       "    .dataframe tbody tr th:only-of-type {\n",
       "        vertical-align: middle;\n",
       "    }\n",
       "\n",
       "    .dataframe tbody tr th {\n",
       "        vertical-align: top;\n",
       "    }\n",
       "\n",
       "    .dataframe thead th {\n",
       "        text-align: right;\n",
       "    }\n",
       "</style>\n",
       "<table border=\"1\" class=\"dataframe\">\n",
       "  <thead>\n",
       "    <tr style=\"text-align: right;\">\n",
       "      <th></th>\n",
       "      <th>campaign_name</th>\n",
       "      <th>date</th>\n",
       "      <th>spend</th>\n",
       "      <th>impressions</th>\n",
       "      <th>reach</th>\n",
       "      <th>website_clicks</th>\n",
       "      <th>searches</th>\n",
       "      <th>view_content</th>\n",
       "      <th>add_to_cart</th>\n",
       "      <th>purchase</th>\n",
       "      <th>ctr</th>\n",
       "      <th>cr</th>\n",
       "      <th>cpa</th>\n",
       "    </tr>\n",
       "  </thead>\n",
       "  <tbody>\n",
       "    <tr>\n",
       "      <th>0</th>\n",
       "      <td>Control Campaign</td>\n",
       "      <td>1.08.2019</td>\n",
       "      <td>2280</td>\n",
       "      <td>82702.0</td>\n",
       "      <td>56930.0</td>\n",
       "      <td>7016.0</td>\n",
       "      <td>2290.0</td>\n",
       "      <td>2159.0</td>\n",
       "      <td>1819.0</td>\n",
       "      <td>618.0</td>\n",
       "      <td>0.084835</td>\n",
       "      <td>0.088084</td>\n",
       "      <td>3.689320</td>\n",
       "    </tr>\n",
       "    <tr>\n",
       "      <th>1</th>\n",
       "      <td>Control Campaign</td>\n",
       "      <td>2.08.2019</td>\n",
       "      <td>1757</td>\n",
       "      <td>121040.0</td>\n",
       "      <td>102513.0</td>\n",
       "      <td>8110.0</td>\n",
       "      <td>2033.0</td>\n",
       "      <td>1841.0</td>\n",
       "      <td>1219.0</td>\n",
       "      <td>511.0</td>\n",
       "      <td>0.067003</td>\n",
       "      <td>0.063009</td>\n",
       "      <td>3.438356</td>\n",
       "    </tr>\n",
       "    <tr>\n",
       "      <th>2</th>\n",
       "      <td>Control Campaign</td>\n",
       "      <td>3.08.2019</td>\n",
       "      <td>2343</td>\n",
       "      <td>131711.0</td>\n",
       "      <td>110862.0</td>\n",
       "      <td>6508.0</td>\n",
       "      <td>1737.0</td>\n",
       "      <td>1549.0</td>\n",
       "      <td>1134.0</td>\n",
       "      <td>372.0</td>\n",
       "      <td>0.049411</td>\n",
       "      <td>0.057160</td>\n",
       "      <td>6.298387</td>\n",
       "    </tr>\n",
       "    <tr>\n",
       "      <th>3</th>\n",
       "      <td>Control Campaign</td>\n",
       "      <td>4.08.2019</td>\n",
       "      <td>1940</td>\n",
       "      <td>72878.0</td>\n",
       "      <td>61235.0</td>\n",
       "      <td>3065.0</td>\n",
       "      <td>1042.0</td>\n",
       "      <td>982.0</td>\n",
       "      <td>1183.0</td>\n",
       "      <td>340.0</td>\n",
       "      <td>0.042057</td>\n",
       "      <td>0.110930</td>\n",
       "      <td>5.705882</td>\n",
       "    </tr>\n",
       "    <tr>\n",
       "      <th>4</th>\n",
       "      <td>Control Campaign</td>\n",
       "      <td>5.08.2019</td>\n",
       "      <td>1835</td>\n",
       "      <td>NaN</td>\n",
       "      <td>NaN</td>\n",
       "      <td>NaN</td>\n",
       "      <td>NaN</td>\n",
       "      <td>NaN</td>\n",
       "      <td>NaN</td>\n",
       "      <td>NaN</td>\n",
       "      <td>NaN</td>\n",
       "      <td>NaN</td>\n",
       "      <td>NaN</td>\n",
       "    </tr>\n",
       "  </tbody>\n",
       "</table>\n",
       "</div>"
      ],
      "text/plain": [
       "      campaign_name       date  spend  impressions     reach  website_clicks  \\\n",
       "0  Control Campaign  1.08.2019   2280      82702.0   56930.0          7016.0   \n",
       "1  Control Campaign  2.08.2019   1757     121040.0  102513.0          8110.0   \n",
       "2  Control Campaign  3.08.2019   2343     131711.0  110862.0          6508.0   \n",
       "3  Control Campaign  4.08.2019   1940      72878.0   61235.0          3065.0   \n",
       "4  Control Campaign  5.08.2019   1835          NaN       NaN             NaN   \n",
       "\n",
       "   searches  view_content  add_to_cart  purchase       ctr        cr       cpa  \n",
       "0    2290.0        2159.0       1819.0     618.0  0.084835  0.088084  3.689320  \n",
       "1    2033.0        1841.0       1219.0     511.0  0.067003  0.063009  3.438356  \n",
       "2    1737.0        1549.0       1134.0     372.0  0.049411  0.057160  6.298387  \n",
       "3    1042.0         982.0       1183.0     340.0  0.042057  0.110930  5.705882  \n",
       "4       NaN           NaN          NaN       NaN       NaN       NaN       NaN  "
      ]
     },
     "execution_count": 47,
     "metadata": {},
     "output_type": "execute_result"
    }
   ],
   "source": [
    "df.head()"
   ]
  },
  {
   "cell_type": "code",
   "execution_count": 48,
   "metadata": {},
   "outputs": [
    {
     "data": {
      "text/html": [
       "<div>\n",
       "<style scoped>\n",
       "    .dataframe tbody tr th:only-of-type {\n",
       "        vertical-align: middle;\n",
       "    }\n",
       "\n",
       "    .dataframe tbody tr th {\n",
       "        vertical-align: top;\n",
       "    }\n",
       "\n",
       "    .dataframe thead th {\n",
       "        text-align: right;\n",
       "    }\n",
       "</style>\n",
       "<table border=\"1\" class=\"dataframe\">\n",
       "  <thead>\n",
       "    <tr style=\"text-align: right;\">\n",
       "      <th></th>\n",
       "      <th>campaign_name</th>\n",
       "      <th>date</th>\n",
       "      <th>spend</th>\n",
       "      <th>impressions</th>\n",
       "      <th>reach</th>\n",
       "      <th>website_clicks</th>\n",
       "      <th>searches</th>\n",
       "      <th>view_content</th>\n",
       "      <th>add_to_cart</th>\n",
       "      <th>purchase</th>\n",
       "      <th>ctr</th>\n",
       "      <th>cr</th>\n",
       "      <th>cpa</th>\n",
       "    </tr>\n",
       "  </thead>\n",
       "  <tbody>\n",
       "  </tbody>\n",
       "</table>\n",
       "</div>"
      ],
      "text/plain": [
       "Empty DataFrame\n",
       "Columns: [campaign_name, date, spend, impressions, reach, website_clicks, searches, view_content, add_to_cart, purchase, ctr, cr, cpa]\n",
       "Index: []"
      ]
     },
     "execution_count": 48,
     "metadata": {},
     "output_type": "execute_result"
    }
   ],
   "source": [
    "df[df.isnull().all(axis=1)]"
   ]
  },
  {
   "cell_type": "code",
   "execution_count": 49,
   "metadata": {},
   "outputs": [
    {
     "data": {
      "text/html": [
       "<div>\n",
       "<style scoped>\n",
       "    .dataframe tbody tr th:only-of-type {\n",
       "        vertical-align: middle;\n",
       "    }\n",
       "\n",
       "    .dataframe tbody tr th {\n",
       "        vertical-align: top;\n",
       "    }\n",
       "\n",
       "    .dataframe thead th {\n",
       "        text-align: right;\n",
       "    }\n",
       "</style>\n",
       "<table border=\"1\" class=\"dataframe\">\n",
       "  <thead>\n",
       "    <tr style=\"text-align: right;\">\n",
       "      <th></th>\n",
       "      <th>campaign_name</th>\n",
       "      <th>date</th>\n",
       "      <th>spend</th>\n",
       "      <th>impressions</th>\n",
       "      <th>reach</th>\n",
       "      <th>website_clicks</th>\n",
       "      <th>searches</th>\n",
       "      <th>view_content</th>\n",
       "      <th>add_to_cart</th>\n",
       "      <th>purchase</th>\n",
       "      <th>ctr</th>\n",
       "      <th>cr</th>\n",
       "      <th>cpa</th>\n",
       "    </tr>\n",
       "  </thead>\n",
       "  <tbody>\n",
       "    <tr>\n",
       "      <th>4</th>\n",
       "      <td>Control Campaign</td>\n",
       "      <td>5.08.2019</td>\n",
       "      <td>1835</td>\n",
       "      <td>NaN</td>\n",
       "      <td>NaN</td>\n",
       "      <td>NaN</td>\n",
       "      <td>NaN</td>\n",
       "      <td>NaN</td>\n",
       "      <td>NaN</td>\n",
       "      <td>NaN</td>\n",
       "      <td>NaN</td>\n",
       "      <td>NaN</td>\n",
       "      <td>NaN</td>\n",
       "    </tr>\n",
       "  </tbody>\n",
       "</table>\n",
       "</div>"
      ],
      "text/plain": [
       "      campaign_name       date  spend  impressions  reach  website_clicks  \\\n",
       "4  Control Campaign  5.08.2019   1835          NaN    NaN             NaN   \n",
       "\n",
       "   searches  view_content  add_to_cart  purchase  ctr  cr  cpa  \n",
       "4       NaN           NaN          NaN       NaN  NaN NaN  NaN  "
      ]
     },
     "execution_count": 49,
     "metadata": {},
     "output_type": "execute_result"
    }
   ],
   "source": [
    "df[df[\"impressions\"].isna()]"
   ]
  },
  {
   "cell_type": "code",
   "execution_count": 50,
   "metadata": {},
   "outputs": [
    {
     "data": {
      "text/html": [
       "<div>\n",
       "<style scoped>\n",
       "    .dataframe tbody tr th:only-of-type {\n",
       "        vertical-align: middle;\n",
       "    }\n",
       "\n",
       "    .dataframe tbody tr th {\n",
       "        vertical-align: top;\n",
       "    }\n",
       "\n",
       "    .dataframe thead th {\n",
       "        text-align: right;\n",
       "    }\n",
       "</style>\n",
       "<table border=\"1\" class=\"dataframe\">\n",
       "  <thead>\n",
       "    <tr style=\"text-align: right;\">\n",
       "      <th></th>\n",
       "      <th>campaign_name</th>\n",
       "      <th>date</th>\n",
       "      <th>spend</th>\n",
       "      <th>impressions</th>\n",
       "      <th>reach</th>\n",
       "      <th>website_clicks</th>\n",
       "      <th>searches</th>\n",
       "      <th>view_content</th>\n",
       "      <th>add_to_cart</th>\n",
       "      <th>purchase</th>\n",
       "      <th>ctr</th>\n",
       "      <th>cr</th>\n",
       "      <th>cpa</th>\n",
       "    </tr>\n",
       "  </thead>\n",
       "  <tbody>\n",
       "    <tr>\n",
       "      <th>4</th>\n",
       "      <td>Control Campaign</td>\n",
       "      <td>5.08.2019</td>\n",
       "      <td>1835</td>\n",
       "      <td>NaN</td>\n",
       "      <td>NaN</td>\n",
       "      <td>NaN</td>\n",
       "      <td>NaN</td>\n",
       "      <td>NaN</td>\n",
       "      <td>NaN</td>\n",
       "      <td>NaN</td>\n",
       "      <td>NaN</td>\n",
       "      <td>NaN</td>\n",
       "      <td>NaN</td>\n",
       "    </tr>\n",
       "    <tr>\n",
       "      <th>34</th>\n",
       "      <td>Test Campaign</td>\n",
       "      <td>5.08.2019</td>\n",
       "      <td>2297</td>\n",
       "      <td>114295.0</td>\n",
       "      <td>95138.0</td>\n",
       "      <td>5863.0</td>\n",
       "      <td>2106.0</td>\n",
       "      <td>858.0</td>\n",
       "      <td>956.0</td>\n",
       "      <td>768.0</td>\n",
       "      <td>0.051297</td>\n",
       "      <td>0.130991</td>\n",
       "      <td>2.990885</td>\n",
       "    </tr>\n",
       "  </tbody>\n",
       "</table>\n",
       "</div>"
      ],
      "text/plain": [
       "       campaign_name       date  spend  impressions    reach  website_clicks  \\\n",
       "4   Control Campaign  5.08.2019   1835          NaN      NaN             NaN   \n",
       "34     Test Campaign  5.08.2019   2297     114295.0  95138.0          5863.0   \n",
       "\n",
       "    searches  view_content  add_to_cart  purchase       ctr        cr  \\\n",
       "4        NaN           NaN          NaN       NaN       NaN       NaN   \n",
       "34    2106.0         858.0        956.0     768.0  0.051297  0.130991   \n",
       "\n",
       "         cpa  \n",
       "4        NaN  \n",
       "34  2.990885  "
      ]
     },
     "execution_count": 50,
     "metadata": {},
     "output_type": "execute_result"
    }
   ],
   "source": [
    "df[df[\"date\"]== \"5.08.2019\"]"
   ]
  },
  {
   "cell_type": "code",
   "execution_count": 51,
   "metadata": {},
   "outputs": [],
   "source": [
    "df.dropna(inplace=True, how= \"any\")   #Me quita las filas donde haya al menos un nulo"
   ]
  },
  {
   "cell_type": "code",
   "execution_count": 52,
   "metadata": {},
   "outputs": [
    {
     "data": {
      "text/html": [
       "<div>\n",
       "<style scoped>\n",
       "    .dataframe tbody tr th:only-of-type {\n",
       "        vertical-align: middle;\n",
       "    }\n",
       "\n",
       "    .dataframe tbody tr th {\n",
       "        vertical-align: top;\n",
       "    }\n",
       "\n",
       "    .dataframe thead th {\n",
       "        text-align: right;\n",
       "    }\n",
       "</style>\n",
       "<table border=\"1\" class=\"dataframe\">\n",
       "  <thead>\n",
       "    <tr style=\"text-align: right;\">\n",
       "      <th></th>\n",
       "      <th>campaign_name</th>\n",
       "      <th>date</th>\n",
       "      <th>spend</th>\n",
       "      <th>impressions</th>\n",
       "      <th>reach</th>\n",
       "      <th>website_clicks</th>\n",
       "      <th>searches</th>\n",
       "      <th>view_content</th>\n",
       "      <th>add_to_cart</th>\n",
       "      <th>purchase</th>\n",
       "      <th>ctr</th>\n",
       "      <th>cr</th>\n",
       "      <th>cpa</th>\n",
       "    </tr>\n",
       "  </thead>\n",
       "  <tbody>\n",
       "    <tr>\n",
       "      <th>26</th>\n",
       "      <td>Control Campaign</td>\n",
       "      <td>27.08.2019</td>\n",
       "      <td>2061</td>\n",
       "      <td>104678.0</td>\n",
       "      <td>91579.0</td>\n",
       "      <td>4941.0</td>\n",
       "      <td>3549.0</td>\n",
       "      <td>3249.0</td>\n",
       "      <td>980.0</td>\n",
       "      <td>605.0</td>\n",
       "      <td>0.047202</td>\n",
       "      <td>0.122445</td>\n",
       "      <td>3.406612</td>\n",
       "    </tr>\n",
       "  </tbody>\n",
       "</table>\n",
       "</div>"
      ],
      "text/plain": [
       "       campaign_name        date  spend  impressions    reach  website_clicks  \\\n",
       "26  Control Campaign  27.08.2019   2061     104678.0  91579.0          4941.0   \n",
       "\n",
       "    searches  view_content  add_to_cart  purchase       ctr        cr  \\\n",
       "26    3549.0        3249.0        980.0     605.0  0.047202  0.122445   \n",
       "\n",
       "         cpa  \n",
       "26  3.406612  "
      ]
     },
     "execution_count": 52,
     "metadata": {},
     "output_type": "execute_result"
    }
   ],
   "source": [
    "df.sample()"
   ]
  },
  {
   "cell_type": "markdown",
   "metadata": {},
   "source": [
    "Mann-Whitney"
   ]
  },
  {
   "cell_type": "code",
   "execution_count": 55,
   "metadata": {},
   "outputs": [
    {
     "data": {
      "text/plain": [
       "0    0.084835\n",
       "1    0.067003\n",
       "Name: ctr, dtype: float64"
      ]
     },
     "metadata": {},
     "output_type": "display_data"
    },
    {
     "data": {
      "text/plain": [
       "30    0.076814\n",
       "31    0.046238\n",
       "Name: ctr, dtype: float64"
      ]
     },
     "metadata": {},
     "output_type": "display_data"
    }
   ],
   "source": [
    "datos_control_ctr=df[df[\"campaign_name\"]== \"Control Campaign\"][\"ctr\"]\n",
    "datos_test_ctr=df[df[\"campaign_name\"]== \"Test Campaign\"][\"ctr\"]\n",
    "\n",
    "display(datos_control_ctr.head(2))\n",
    "display(datos_test_ctr.head(2))"
   ]
  },
  {
   "cell_type": "code",
   "execution_count": 56,
   "metadata": {},
   "outputs": [
    {
     "data": {
      "text/plain": [
       "MannwhitneyuResult(statistic=np.float64(193.0), pvalue=np.float64(0.00025063172993413605))"
      ]
     },
     "execution_count": 56,
     "metadata": {},
     "output_type": "execute_result"
    }
   ],
   "source": [
    "stats.mannwhitneyu(datos_control_ctr,datos_test_ctr)"
   ]
  },
  {
   "cell_type": "markdown",
   "metadata": {},
   "source": [
    "Funcion para sacar Df grupos\n"
   ]
  },
  {
   "cell_type": "markdown",
   "metadata": {},
   "source": [
    "Esto lo hacemos porque como lo vamos a usar para el globals (crear variables) nos pueden dar problemas los espacios y minusculas"
   ]
  },
  {
   "cell_type": "code",
   "execution_count": 58,
   "metadata": {},
   "outputs": [],
   "source": [
    "df[\"campaign_name\"]=df[\"campaign_name\"].str.split(\" \", expand=True)[0]"
   ]
  },
  {
   "cell_type": "code",
   "execution_count": 67,
   "metadata": {},
   "outputs": [],
   "source": [
    "#El que hice yo que casi pero está mal\n",
    "\n",
    "def crear_df_grupo(dataframe,columna_grupo,columna_metrica):\n",
    "    lista_unicos=df[columna_grupo].unique()\n",
    "    for valor in lista_unicos:\n",
    "        datos_filtrados=dataframe[dataframe[columna_grupo]== valor][columna_metrica]\n",
    "        globals()[valor.lower()]= datos_filtrados\n",
    "\n",
    "    elegir_test(lista_unicos)\n",
    "\n",
    "def elegir_test(lista_unicos):\n",
    "        if len(lista_unicos) > 2:\n",
    "            print(\"El test óptimo es Kruskall-Wallis\")\n",
    "            resultado=stats.kruskal(*[globals()[var] for var in lista_unicos])\n",
    "        elif len(lista_unicos) > 1:\n",
    "            print(\"El test óptimo es Willcoxon\")\n",
    "            resultado=stats.wilcoxon(*[globals()[var] for var in lista_unicos])\n",
    "        else:\n",
    "            print(\"El test óptimo es Mann-Whitney\")\n",
    "            resultado=stats.mannwhitneyu(*[globals()[var] for var in lista_unicos])\n",
    "        display (resultado)\n"
   ]
  },
  {
   "cell_type": "code",
   "execution_count": 68,
   "metadata": {},
   "outputs": [],
   "source": [
    "#opción de Javi\n",
    "def crear_df_grupos(df, columna_grupo, columna_metrica):\n",
    "\n",
    "    lista_grupos = []\n",
    "\n",
    "    for valor in df[columna_grupo].unique():\n",
    "\n",
    "        datos_filtrados = df[df[columna_grupo] == valor][columna_metrica]\n",
    "        lista_grupos.append(datos_filtrados)\n",
    "\n",
    "    return lista_grupos\n",
    "\n",
    "\n",
    "def elegir_test(datos, dependencia=False):\n",
    "\n",
    "    if len(datos) > 2:\n",
    "        print('Test Krusal Wallis')\n",
    "        return stats.kruskal(*datos)\n",
    "\n",
    "    elif len(datos) == 2 and dependencia:\n",
    "        print('Wilcoxon')\n",
    "        return stats.wilcoxon(*datos)\n",
    "\n",
    "    elif len(datos) == 2 and not dependencia:\n",
    "        print('Test U')\n",
    "        return stats.mannwhitneyu(*datos)\n",
    "\n",
    "    else:\n",
    "        print('No hay test adecuado')"
   ]
  },
  {
   "cell_type": "code",
   "execution_count": 71,
   "metadata": {},
   "outputs": [
    {
     "name": "stdout",
     "output_type": "stream",
     "text": [
      "Test U\n"
     ]
    },
    {
     "data": {
      "text/plain": [
       "MannwhitneyuResult(statistic=np.float64(193.0), pvalue=np.float64(0.00025063172993413605))"
      ]
     },
     "execution_count": 71,
     "metadata": {},
     "output_type": "execute_result"
    }
   ],
   "source": [
    "lista=crear_df_grupos(df,\"campaign_name\",\"ctr\")\n",
    "elegir_test(lista)"
   ]
  }
 ],
 "metadata": {
  "kernelspec": {
   "display_name": "Python 3",
   "language": "python",
   "name": "python3"
  },
  "language_info": {
   "codemirror_mode": {
    "name": "ipython",
    "version": 3
   },
   "file_extension": ".py",
   "mimetype": "text/x-python",
   "name": "python",
   "nbconvert_exporter": "python",
   "pygments_lexer": "ipython3",
   "version": "3.11.9"
  }
 },
 "nbformat": 4,
 "nbformat_minor": 2
}
