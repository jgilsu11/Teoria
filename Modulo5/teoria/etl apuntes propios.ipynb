{
 "cells": [
  {
   "cell_type": "code",
   "execution_count": 1,
   "metadata": {},
   "outputs": [],
   "source": [
    "from selenium.webdriver.support.ui import WebDriverWait\n",
    "from selenium.webdriver.common.by import By\n",
    "from selenium.webdriver.support import expected_conditions as EC\n",
    "from time import sleep\n",
    "# Selenium para establecer la configuración del driver\n",
    "# -----------------------------------------------------------------------\n",
    "from selenium import webdriver\n",
    "\n",
    "# Para generar una barra de proceso en los bucles for\n",
    "# -----------------------------------------------------------------------\n",
    "from tqdm import tqdm\n",
    "\n",
    "# Para trabajar con ficheros\n",
    "# -----------------------------------------------------------------------\n",
    "import os\n",
    "\n",
    "import re\n",
    "\n",
    "import zipfile\n",
    "import shutil"
   ]
  },
  {
   "cell_type": "code",
   "execution_count": 8,
   "metadata": {},
   "outputs": [
    {
     "name": "stdout",
     "output_type": "stream",
     "text": [
      "13\n"
     ]
    },
    {
     "name": "stderr",
     "output_type": "stream",
     "text": [
      "100%|██████████| 12/12 [01:57<00:00,  9.78s/it]\n"
     ]
    }
   ],
   "source": [
    "# lo primero que vamos a hacer es configurar nuestras preferencias del navegador para el driver\n",
    "chrome_options = webdriver.ChromeOptions()\n",
    "\n",
    "# establacemos las preferencias que queremos\n",
    "prefs = {\n",
    "    \"download.default_directory\": r'C:\\Users\\jaime\\Desktop\\Teoria\\Modulo5\\teoria\\datos\\DatosDescargados',  # AQUÍ CADA UNO TENDREMOS QUE PONER LA RUTA QUE QUERAMOS PARA QUE SE GUARDEN LOS ARCHIVOS DESCARGADOS\n",
    "    \"download.prompt_for_download\": False,  # desactiva el diálogo que Chrome normalmente muestra para pedir confirmación del usuario antes de descargar un archivo(El pop up de elegir donde guardar el fichero no salga )\n",
    "    \"download.directory_upgrade\": True,  # hace que Chrome actualice el directorio de descarga predeterminado a la nueva ubicación especificada por download.default_directory si esta ha cambiado.\n",
    "    \"safebrowsing.enabled\": True,  # Desactiva las alertas de archivos peligrosos\n",
    "    \"plugins.always_open_pdf_externally\": True,  # Si el archivo es PDF, abrirlo directamente sin confirmación\n",
    "}\n",
    "\n",
    "\n",
    "url = \"https://www.sanidad.gob.es/estadisticas/microdatos.do\"\n",
    "\n",
    "chrome_options.add_experimental_option(\"prefs\", prefs)  #para añadir a las opciones nuetsras preferencias\n",
    "\n",
    "driver=webdriver.Chrome(options=chrome_options )\n",
    "driver.maximize_window()\n",
    "driver.get(url)\n",
    "#pinchar menú de datos\n",
    "sleep(2)\n",
    "driver.find_element(\"css selector\", \"#tipoMicrodatos\").click()\n",
    "#seleccionar los datos que queremos\n",
    "sleep(2)\n",
    "driver.find_element(\"css selector\", \"#tipoMicrodatos > option:nth-child(7)\").click()\n",
    "#pinchar menú de años\n",
    "sleep(2)\n",
    "driver.find_element(\"css selector\", \"#anioMicrodatos\").click()\n",
    "#coger todos los años que hay en el padre de años\n",
    "sleep(2)\n",
    "anios_padre=driver.find_elements(\"css selector\", \"#anioMicrodatos\")\n",
    "cant_anios=anios_padre[0].find_elements(By.TAG_NAME, \"option\")\n",
    "print(len(cant_anios))  #nos cuenta la opcion de seleccionar un año como si fuera un año con lo que hay que excluir el primero\n",
    "\n",
    "\n",
    "\n",
    "for anio in tqdm(range(2, len(cant_anios) +1 )):\n",
    "    \n",
    "    WebDriverWait(driver, 10).until(EC.element_to_be_clickable((By.CSS_SELECTOR, f\"#anioMicrodatos > option:nth-child({anio})\"))).click()\n",
    "\n",
    "    sleep(3)\n",
    "\n",
    "    driver.find_element(\"css selector\", \"#fl1 > div.text-center > input\").click()\n",
    "\n",
    "    sleep(2)\n",
    "\n",
    "    driver.find_element(By.PARTIAL_LINK_TEXT, \".zip\").click()   #esto es para que me descarge los datos de cada año y me los guarde en la carpeta datos\n",
    "\n",
    "\n",
    "    driver.back()\n",
    "    sleep(3)"
   ]
  },
  {
   "cell_type": "code",
   "execution_count": 9,
   "metadata": {},
   "outputs": [
    {
     "name": "stdout",
     "output_type": "stream",
     "text": [
      "<re.Match object; span=(0, 4), match='2010'>\n",
      "<re.Match object; span=(0, 4), match='2011'>\n",
      "<re.Match object; span=(0, 4), match='2012'>\n",
      "<re.Match object; span=(0, 4), match='2013'>\n",
      "<re.Match object; span=(0, 4), match='2014'>\n",
      "<re.Match object; span=(0, 4), match='2015'>\n",
      "<re.Match object; span=(0, 4), match='2016'>\n",
      "<re.Match object; span=(4, 8), match='2020'>\n",
      "<re.Match object; span=(5, 9), match='2017'>\n",
      "<re.Match object; span=(5, 9), match='2018'>\n",
      "<re.Match object; span=(5, 9), match='2019'>\n",
      "<re.Match object; span=(6, 10), match='2021'>\n"
     ]
    }
   ],
   "source": [
    "ruta= r'C:\\Users\\jaime\\Desktop\\Teoria\\Modulo5\\teoria\\datos\\DatosDescargados'\n",
    "os.listdir(ruta)  #me lista todos los archivos que hay en el lugar donde tengo el jupyter al no ser que le especifique una ruta\n",
    "\n",
    "#Esto es para renombrar las carpetas\n",
    "for archivo in os.listdir(ruta):\n",
    "    patron_anio= r\"\\d{4}\"\n",
    "\n",
    "    anio_regex= re.search(patron_anio, archivo)\n",
    "    print(anio_regex)\n",
    "\n",
    "    if anio_regex:\n",
    "        anio=anio_regex.group()\n",
    "\n",
    "        os.rename(f\"{ruta}/{archivo}\",f\"{ruta}/{anio}.zip\")"
   ]
  },
  {
   "cell_type": "code",
   "execution_count": 12,
   "metadata": {},
   "outputs": [
    {
     "name": "stdout",
     "output_type": "stream",
     "text": [
      "2011.zip\n",
      "C:\\Users\\jaime\\Desktop\\Teoria\\Modulo5\\teoria\\datos\\DatosDescargados\\2011.zip\n",
      "2012.zip\n",
      "C:\\Users\\jaime\\Desktop\\Teoria\\Modulo5\\teoria\\datos\\DatosDescargados\\2012.zip\n",
      "2013.zip\n",
      "C:\\Users\\jaime\\Desktop\\Teoria\\Modulo5\\teoria\\datos\\DatosDescargados\\2013.zip\n",
      "2014.zip\n",
      "C:\\Users\\jaime\\Desktop\\Teoria\\Modulo5\\teoria\\datos\\DatosDescargados\\2014.zip\n",
      "2015.zip\n",
      "C:\\Users\\jaime\\Desktop\\Teoria\\Modulo5\\teoria\\datos\\DatosDescargados\\2015.zip\n",
      "2016.zip\n",
      "C:\\Users\\jaime\\Desktop\\Teoria\\Modulo5\\teoria\\datos\\DatosDescargados\\2016.zip\n",
      "2017.zip\n",
      "C:\\Users\\jaime\\Desktop\\Teoria\\Modulo5\\teoria\\datos\\DatosDescargados\\2017.zip\n",
      "2018.zip\n",
      "C:\\Users\\jaime\\Desktop\\Teoria\\Modulo5\\teoria\\datos\\DatosDescargados\\2018.zip\n",
      "2019.zip\n",
      "C:\\Users\\jaime\\Desktop\\Teoria\\Modulo5\\teoria\\datos\\DatosDescargados\\2019.zip\n",
      "2020.zip\n",
      "C:\\Users\\jaime\\Desktop\\Teoria\\Modulo5\\teoria\\datos\\DatosDescargados\\2020.zip\n",
      "2021.zip\n",
      "C:\\Users\\jaime\\Desktop\\Teoria\\Modulo5\\teoria\\datos\\DatosDescargados\\2021.zip\n"
     ]
    }
   ],
   "source": [
    "\n",
    "carpeta_descomprimir = r'C:\\Users\\jaime\\Desktop\\Teoria\\Modulo5\\teoria\\datos\\DatosDescomprimidos'\n",
    "carpeta_zips = r'C:\\Users\\jaime\\Desktop\\Teoria\\Modulo5\\teoria\\datos\\DatosDescargados'\n",
    "\n",
    "\n",
    "#esto hace que si no existe esa carpeta que la cree\n",
    "os.makedirs(carpeta_descomprimir, exist_ok= True)\n",
    "\n",
    "#esto es para descomprimir los archivos zips\n",
    "for item in os.listdir(carpeta_zips)[1:]:\n",
    "    print(item)\n",
    "\n",
    "    ruta_origen = os.path.join(carpeta_zips, item)   #esto une la carpeta de los zips con los item\n",
    "    print(ruta_origen)\n",
    "\n",
    "    ruta_final = os.path.join(carpeta_descomprimir, item)   #esto es para crear una carpeta por cada año por si tienen más archivos dentro del zip de cada año\n",
    "    os.makedirs(ruta_final, exist_ok=True)\n",
    "\n",
    "    with zipfile.ZipFile(ruta_origen) as zip_ref:\n",
    "        zip_ref.extractall(ruta_final)\n"
   ]
  },
  {
   "cell_type": "code",
   "execution_count": 13,
   "metadata": {},
   "outputs": [],
   "source": [
    "carpeta_descomprimir = r'C:\\Users\\jaime\\Desktop\\Teoria\\Modulo5\\teoria\\datos\\DatosDescomprimidos'\n",
    "#Esto es porque hemos visto que hay algunas carpetas que tiene otras carpetas tras descomprimir el zip(comprobar si hay carpetas dentro de carpetas o si solo tiene ficheros)\n",
    "\n",
    "\n",
    "def identificar_fichero_carpeta(ruta_archivos_descomprimidos):\n",
    "    for carpeta in os.listdir(ruta_archivos_descomprimidos):\n",
    "        print(carpeta)\n",
    "\n",
    "        ruta_check= os.path.join(carpeta_descomprimir, carpeta)\n",
    "        print(ruta_check)\n",
    "     \n",
    "\n",
    "    for elemento in os.listdir(ruta_check):\n",
    "    \n",
    "\n",
    "        archivo_check= os.path.join(ruta_check, elemento)\n",
    "        if os.path.isdir(archivo_check):\n",
    "            #print(\"es una carpeta\")\n",
    "            return archivo_check\n",
    "\n",
    "\n",
    "        elif os.path.isfile(archivo_check):\n",
    "            #print(\"es un fichero\")\n",
    "            return None\n",
    "\n",
    "        else:\n",
    "            print(\"puede estar vacia\")\n",
    "\n",
    "    print(\"..............\")\n"
   ]
  },
  {
   "cell_type": "code",
   "execution_count": 16,
   "metadata": {},
   "outputs": [
    {
     "name": "stdout",
     "output_type": "stream",
     "text": [
      "C:\\Users\\jaime\\Desktop\\Teoria\\Modulo5\\teoria\\datos\\DatosDescomprimidos\\2011.zip\n"
     ]
    }
   ],
   "source": [
    "#queremos mover lo de esa segunda carpeta a nuestra carpeta que ya está renombrada bien con únicamente el año\n",
    "\n",
    "for carpeta in os.listdir(carpeta_descomprimir):\n",
    "    ruta= os.path.join(carpeta_descomprimir, carpeta)    #ruta de la carpeta buena con los nombres cambiados ya\n",
    "    print(ruta)\n",
    "    break\n",
    "    ruta_original= identificar_fichero_carpeta(ruta)   #ruta de la subcarpeta(de la que se quiere sacar los archivos y luego eliminar)\n",
    "    if ruta_original:\n",
    "        print(\"pasan cosas\")\n",
    "        for archivo in os.listdir(ruta_original):\n",
    "            print(archivo)\n",
    "            ruta_mover= os.path.join(ruta_original, archivo) \n",
    "            shutil.move(ruta_mover, ruta)                   #desde donde está (Ruta del fichero) hacia donde queremos que esté (Ruta de la carpeta donde queremos que esté)\n",
    "        os.removedirs(ruta_original)\n",
    "    else:\n",
    "        pass"
   ]
  }
 ],
 "metadata": {
  "kernelspec": {
   "display_name": "Python 3",
   "language": "python",
   "name": "python3"
  },
  "language_info": {
   "codemirror_mode": {
    "name": "ipython",
    "version": 3
   },
   "file_extension": ".py",
   "mimetype": "text/x-python",
   "name": "python",
   "nbconvert_exporter": "python",
   "pygments_lexer": "ipython3",
   "version": "3.11.9"
  }
 },
 "nbformat": 4,
 "nbformat_minor": 2
}
