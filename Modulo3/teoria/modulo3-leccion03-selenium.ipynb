{
 "cells": [
  {
   "cell_type": "markdown",
   "metadata": {},
   "source": [
    "<div style=\"text-align: center;\">\n",
    "  <img src=\"https://github.com/Hack-io-Data/Imagenes/blob/main/01-LogosHackio/logo_naranja@4x.png?raw=true\" alt=\"esquema\" />\n",
    "</div>"
   ]
  },
  {
   "cell_type": "markdown",
   "metadata": {
    "toc": true
   },
   "source": [
    "<h1>Table of Contents<span class=\"tocSkip\"></span></h1>\n",
    "<div class=\"toc\"><ul class=\"toc-item\"><li><span><a href=\"#Introducción-a-Selenium\" data-toc-modified-id=\"Introducción-a-Selenium-1\"><span class=\"toc-item-num\">1&nbsp;&nbsp;</span>Introducción a Selenium</a></span><ul class=\"toc-item\"><li><span><a href=\"#¿Qué-es-Selenium?\" data-toc-modified-id=\"¿Qué-es-Selenium?-1.1\"><span class=\"toc-item-num\">1.1&nbsp;&nbsp;</span>¿Qué es Selenium?</a></span></li><li><span><a href=\"#WebDriver-en-Selenium\" data-toc-modified-id=\"WebDriver-en-Selenium-1.2\"><span class=\"toc-item-num\">1.2&nbsp;&nbsp;</span>WebDriver en Selenium</a></span></li></ul></li><li><span><a href=\"#Métodos-importantes-de-Selenium\" data-toc-modified-id=\"Métodos-importantes-de-Selenium-2\"><span class=\"toc-item-num\">2&nbsp;&nbsp;</span>Métodos importantes de <em>Selenium</em></a></span></li><li><span><a href=\"#Extracción-de-datos-de-wikipedia:\" data-toc-modified-id=\"Extracción-de-datos-de-wikipedia:-3\"><span class=\"toc-item-num\">3&nbsp;&nbsp;</span>Extracción de datos de wikipedia:</a></span></li><li><span><a href=\"#Extracción-de-datos-de-Twitter:\" data-toc-modified-id=\"Extracción-de-datos-de-Twitter:-4\"><span class=\"toc-item-num\">4&nbsp;&nbsp;</span>Extracción de datos de Twitter:</a></span></li><li><span><a href=\"#Extracción-de-datos-de-wunderground\" data-toc-modified-id=\"Extracción-de-datos-de-wunderground-5\"><span class=\"toc-item-num\">5&nbsp;&nbsp;</span>Extracción de datos de wunderground</a></span></li><li><span><a href=\"#EXPLICACIÓN-IFRAME:\" data-toc-modified-id=\"EXPLICACIÓN-IFRAME:-6\"><span class=\"toc-item-num\">6&nbsp;&nbsp;</span>EXPLICACIÓN IFRAME:</a></span><ul class=\"toc-item\"><li><span><a href=\"#USO:\" data-toc-modified-id=\"USO:-6.1\"><span class=\"toc-item-num\">6.1&nbsp;&nbsp;</span>USO:</a></span></li><li><span><a href=\"#INTERACCIÓN-CON-IFRAMES-MEDIANTE-SELENIUM:\" data-toc-modified-id=\"INTERACCIÓN-CON-IFRAMES-MEDIANTE-SELENIUM:-6.2\"><span class=\"toc-item-num\">6.2&nbsp;&nbsp;</span>INTERACCIÓN CON IFRAMES MEDIANTE SELENIUM:</a></span></li><li><span><a href=\"#Creación-de-una-clase-para-la-extracción-de-datos\" data-toc-modified-id=\"Creación-de-una-clase-para-la-extracción-de-datos-6.3\"><span class=\"toc-item-num\">6.3&nbsp;&nbsp;</span>Creación de una clase para la extracción de datos</a></span></li></ul></li></ul></div>"
   ]
  },
  {
   "cell_type": "markdown",
   "metadata": {},
   "source": [
    "# Introducción a Selenium\n",
    "## ¿Qué es Selenium?\n",
    "\n",
    "**Selenium** es una biblioteca o conjunto de herramientas de automatización de pruebas para realizar pruebas funcionales en aplicaciones web. En Python, podemos utilizar Selenium para controlar un navegador web y simular las acciones de un usuario.\n",
    "\n",
    "Para utilizar Selenium en Python, primero deberemos instalarlo, igual que lo hicimos para la lección anterior con *Beautiful Soup*.\n",
    "\n",
    "```\n",
    "!pip install selenium\n",
    "!pip install webdriver-manager\n",
    "```\n",
    "\n",
    "\n",
    "Algunas de las ventajas más importantes de *Selenium* son:\n",
    "\n",
    "1. **Automatización**: Selenium nos permite automatizar procesos. Podemos simular las acciones de un usuario real, como hacer click en elementos, ingresar texto, interactuar con formularios, navegar por diferentes páginas, etc. Esto ayuda a reducir la carga de trabajo manual en la ejecución de pruebas repetitivas y ahorra tiempo y esfuerzo.\n",
    "\n",
    "2. **Soporte multiplataforma y multi-navegador**: Selenium es compatible con varios navegadores web populares, como Chrome, Firefox, Safari, Edge, e incluso navegadores móviles. \n",
    "\n",
    "3. **Flexibilidad**: Selenium nos ofrece una API completa que permite controlar y manipular elementos de página web de manera automática. POdemos interactuar con formularios, hacer click en enlaces, extraer información, validar resultados y mucho más. Además podemos usarlo con varios lenguajes de programación, incluyendo Python, Java, C#, entre otros.\n",
    "\n",
    "4. **Comunidad activa y recursos disponibles**: Selenium cuenta con una comunidad activa de usuarios y desarrolladores que proporciona soporte y comparte conocimientos. Existen muchos recursos disponibles, como tutoriales, documentación y ejemplos de código, lo que nos puede ayudar a encontrar ejemplos similares a aquellas tareas que tengamos que realizar.\n",
    "\n",
    "5. **Gran popularidad**: Selenium es una de las herramientas de automatización más populares. Esta amplia adopción garantiza una amplia gama de recursos, soporte y compatibilidad con otras herramientas y frameworks."
   ]
  },
  {
   "cell_type": "code",
   "execution_count": 1,
   "metadata": {},
   "outputs": [],
   "source": [
    "# Para instalar selenium descomenta las siguientes lineas de código:\n",
    "# !pip install selenium\n",
    "#!pip install webdriver-manager"
   ]
  },
  {
   "cell_type": "markdown",
   "metadata": {},
   "source": [
    "## WebDriver en Selenium\n",
    "\n",
    "El WebDriver es una parte fundamental de Selenium. Es una interfaz que permite la comunicación entre el código escrito en un lenguaje de programación (como Python) y el navegador web que se está controlando de manera automatizada.\n",
    "\n",
    "Selenium WebDriver tiene diferentes implementaciones para diferentes navegadores. Por ejemplo, hay un WebDriver específico para Google Chrome, otro para Mozilla Firefox, y así sucesivamente. Estas implementaciones están diseñadas para interactuar con las API específicas de cada navegador y proporcionar una experiencia de automatización consistente y confiable.\n",
    "\n",
    "Antes de utilizar el WebDriver en Selenium, necesitamos configurarlo correctamente en nuestro entorno de desarrollo. Esto implica descargar el controlador adecuado para el navegador que se desea controlar y configurar la ruta de acceso al mismo en el código.\n",
    "\n",
    "Una vez configurado, el WebDriver se crea e inicializa en el código de automatización. Esto lo haremos al principio del script. La creación del WebDriver implica instanciar un objeto de la clase correspondiente al navegador que se desea controlar (por ejemplo, `webdriver.Chrome()` para Google Chrome). A través de este objeto, podemos enviar comandos al navegador y recibir información de él.\n",
    "\n",
    "El WebDriver se utiliza a lo largo del script de automatización para interactuar con el navegador en diferentes puntos. Esto puede incluir abrir una URL al principio del script, encontrar elementos en la página web, realizar acciones sobre esos elementos (como hacer click o ingresar texto), y finalmente cerrar el navegador al finalizar la automatización.\n",
    "\n",
    "\n",
    "Es importante que al finalizar la automatización utilicemos el método `quit()` del WebDriver para cerrar todas las ventanas del navegador controlado y liberar los recursos asociados. Esto garantiza una finalización adecuada de la sesión del WebDriver y evita la acumulación de instancias del navegador en segundo plano, lo que podría consumir recursos innecesarios.\n",
    "\n",
    "Para iniciar el webdriver lo haremos de la siguiente manera:\n",
    "```python\n",
    "# Inicimaos el driver de Chrome\n",
    "driver = webdriver.Chrome()\n",
    "````\n"
   ]
  },
  {
   "cell_type": "markdown",
   "metadata": {},
   "source": [
    "# Métodos importantes de *Selenium*\n",
    "\n",
    "Después de iniciar nuestro driver podremos empezar a automatizar procesos. Algunos de los métodos más importantes de la librería Selenium son: \n",
    "\n",
    "1. `get()`: Este método se utiliza para abrir una URL específica en el navegador.\n",
    "\n",
    "   ```python\n",
    "   # Abrir una página web\n",
    "   driver.get('https://www.example.com')\n",
    "   ```\n",
    "\n",
    "\n",
    "2. `find_element()`: Este método se utiliza para encontrar el primer elemento en la página web según diferentes criterios, como el ID, la clase, el nombre, la etiqueta, el enlace de texto, el  **css selector**, el  **xpath**, etc. Nos devolverá un objeto de Selenium con la información del elemento encontrado.\n",
    "\n",
    "     ```python\n",
    "   # Buscamos un elemento por su id\n",
    "    elemento = driver.find_element('id', 'elemento_id')\n",
    "    ```\n",
    "\n",
    "\n",
    "3. `find_elements()`: Este método se utiliza para encontrar varios elementos en la página web según un criterio compartido por esos elementos, como el ID, el  el  **css selector** o el **xpath**. Este método nos devolverá una lista de objetos de selenium.\n",
    "\n",
    "   ```python\n",
    "   # Buscamos un conjunto de elementos por su css selector:\n",
    "   elementos = driver.find_elements('css selector', 'div.a.producto')\n",
    "   ```\n",
    "\n",
    "4. `click()`: Este método se utiliza para hacer click en un elemento específico de la página.\n",
    "   ```python\n",
    "   # Hacemos click en un botón\n",
    "    boton = driver.find_elements('id', 'boton_id')\n",
    "    boton.click()\n",
    "   ```\n",
    "\n",
    "5. `send_keys()`: Este método se utiliza para ingresar texto en un campo de formulario.\n",
    "   ```python\n",
    "   # Ingresamos texto en un campo de entrada\n",
    "   campo_input = driver.find_element('xpath', '//input[@id=\"password\"]')\n",
    "   campo_input.send_keys('Texto a ingresar')\n",
    "   ```\n",
    "\n",
    "6. `text`: Este atributo devuelve el texto contenido en un elemento específico.\n",
    "\n",
    "   ```python\n",
    "   # Obtenemos el texto de un elemento\n",
    "   elemento = driver.find_element('id' 'elemento_id')\n",
    "   texto = elemento.text # igual que el que teníamos en Beautiful Soup\n",
    "   ```\n",
    "7. `implicitly_wait()`: Este método se utiliza para esperar implícitamente un cierto período de tiempo antes de lanzar una excepción si un elemento no se encuentra de inmediato.\n",
    "\n",
    "   ```python\n",
    "   # Inicializamos el controlador del navegador (en este caso, Chrome)\n",
    "   driver = webdriver.Chrome('path/al/controlador/chromedriver')\n",
    "\n",
    "   # Configuramo el tiempo de espera implícito a 10 segundos.\n",
    "   driver.implicitly_wait(10)\n",
    "\n",
    "   # Abrimos la página web\n",
    "   driver.get('https://www.ejemplo.com')\n",
    "\n",
    "   try:\n",
    "      # Intentamos encontrar y hacer click en un botón\n",
    "      boton = driver.find_element('xpath', '//button[@id=\"boton_id\"]')\n",
    "      boton.click()\n",
    "      print(\"Se hizo click en el botón exitosamente.\")\n",
    "\n",
    "   except Exception as e:\n",
    "      print(\"No se pudo hacer click en el botón:\", e)\n",
    "\n",
    "   ``` \n",
    "\n",
    "   En este código, `driver.implicitly_wait(10)` se establece antes del bloque `try` para que se aplique a cualquier búsqueda de elementos realizada dentro de ese bloque. Esto asegura que Selenium esperará hasta 10 segundos antes de lanzar una excepción si un elemento no se encuentra de inmediato.\n",
    "\n",
    "\n",
    "8. `close()`: Este método se utiliza para cerrar la ventana del navegador controlada por nuestro driver.\n",
    "\n",
    "   ```python\n",
    "\n",
    "   # Cerramos la ventana actual\n",
    "   driver.close()\n",
    "   ``` \n",
    "9. `quit()` : Este método se utiliza para cerrar todas las ventanas controladas por nuestro drier y finaliza la seisón del WebDriver.\n",
    "\n",
    "   ```python\n",
    "\n",
    "   # Cerramos todas las ventanas y finalizamos el driver\n",
    "   driver.quit()\n",
    "   ```\n"
   ]
  },
  {
   "cell_type": "code",
   "execution_count": 2,
   "metadata": {},
   "outputs": [],
   "source": [
    "# Importamos las librerías que necesitamos\n",
    "\n",
    "# Librerías de extracción de datos\n",
    "# -----------------------------------------------------------------------\n",
    "\n",
    "# Importaciones:\n",
    "# Beautifulsoup\n",
    "from bs4 import BeautifulSoup\n",
    "\n",
    "# Requests\n",
    "import requests\n",
    "\n",
    "# Importar librerías para automatización de navegadores web con Selenium\n",
    "# -----------------------------------------------------------------------\n",
    "from selenium import webdriver  # Selenium es una herramienta para automatizar la interacción con navegadores web.\n",
    "from webdriver_manager.chrome import ChromeDriverManager  # ChromeDriverManager gestiona la instalación del controlador de Chrome.\n",
    "from selenium.webdriver.common.keys import Keys  # Keys es útil para simular eventos de teclado en Selenium.\n",
    "from selenium.webdriver.support.ui import Select  # Select se utiliza para interactuar con elementos <select> en páginas web.\n",
    "from selenium.webdriver.support.ui import WebDriverWait\n",
    "from selenium.webdriver.support import expected_conditions as EC\n",
    "from selenium.common.exceptions import NoSuchElementException # Excepciones comunes de selenium que nos podemos encontrar \n",
    "\n",
    "\n",
    "# Importar librerías para pausar la ejecución\n",
    "# -----------------------------------------------------------------------\n",
    "from time import sleep  # Sleep se utiliza para pausar la ejecución del programa por un número de segundos.\n",
    "\n",
    "# Librerías para tratamiento de datos\n",
    "# -----------------------------------------------------------------------\n",
    "import pandas as pd\n",
    "import numpy as np\n",
    "\n",
    "# Importación de las clases creadas en nuestro archivo de soporte\n",
    "# -----------------------------------------------------------------------\n",
    "from src import soporte_selenium as ss\n"
   ]
  },
  {
   "cell_type": "markdown",
   "metadata": {},
   "source": [
    "# Extracción de datos de wikipedia:\n",
    "Nuestro primer ejemplo de extracción de datos con selenium, al igual que con *BeautifulSoup*, lo haremos de Wikipedia:"
   ]
  },
  {
   "cell_type": "code",
   "execution_count": 3,
   "metadata": {},
   "outputs": [],
   "source": [
    "# Inicializamos un navegador web Chrome a través de WebDriver\n",
    "driver = webdriver.Chrome()\n",
    "\n",
    "# Definimos una variable con la url que de la que vamos a extraer la información\n",
    "url = \"https://es.wikipedia.org/wiki/Donald_Trump\"\n",
    "\n",
    "# Navegamos a la página web de wikipedia definida en la variable url\n",
    "driver.get(url)\n",
    "\n",
    "# Esperamos 3 segundos para que la página cargue completamente\n",
    "sleep(3)"
   ]
  },
  {
   "cell_type": "code",
   "execution_count": 4,
   "metadata": {},
   "outputs": [
    {
     "name": "stdout",
     "output_type": "stream",
     "text": [
      "El título de la página por el id es: Donald Trump\n",
      "El título de la página por el css_selector es: Donald Trump\n",
      "El título de la página por xpath es: Donald Trump\n"
     ]
    }
   ],
   "source": [
    "# Vamos a usar los métodos find_element y find_elements, similares a los métodos find y find_all de BeautifullSoup\n",
    "# Método find_element:\n",
    "# Primero vamos a buscar por el id\n",
    "titulo_por_id = driver.find_element(\"id\", \"firstHeading\")\n",
    "print(f\"El título de la página por el id es: {titulo_por_id.text}\")\n",
    "\n",
    "# ¿ Y si el elemento que buscamos no tiene un id? Podemos buscar por el ccselector:\n",
    "titulo_por_css_selector = driver.find_element(\"css selector\", \"#firstHeading\" )\n",
    "print(f\"El título de la página por el css_selector es: {titulo_por_css_selector.text}\")\n",
    "\n",
    "# O lo podemos buscar por su xpath\n",
    "titulo_por_xpath = driver.find_element(\"xpath\", '//*[@id=\"firstHeading\"]')\n",
    "print(f\"El título de la página por xpath es: {titulo_por_xpath.text}\")"
   ]
  },
  {
   "cell_type": "code",
   "execution_count": 5,
   "metadata": {},
   "outputs": [
    {
     "name": "stdout",
     "output_type": "stream",
     "text": [
      "88\n",
      "10\n"
     ]
    }
   ],
   "source": [
    "# Método find_elements:\n",
    "# Buscamos las imafenes dentro de la página por su css selector\n",
    "imagenes_csselector = driver.find_elements(\"css selector\", \"#mw-content-text > div.mw-content-ltr.mw-parser-output > figure \")\n",
    "print(len(imagenes_csselector))\n",
    "# Tambien podemos hacerlo por su xpath\n",
    "imagenes_xpath = driver.find_elements(\"xpath\", '//*[@id=\"mw-content-text\"]/div/table/tbody/tr/td/span/a')\n",
    "print(len(imagenes_xpath))\n",
    "\n",
    "# Obtenemos el src de cada imagen\n",
    "# Crear una lista para almacenar los atributos \"src\" de las imágenes\n",
    "srcs = [imagen.get_attribute(\"src\") for imagen in imagenes_csselector]\n"
   ]
  },
  {
   "cell_type": "code",
   "execution_count": 6,
   "metadata": {},
   "outputs": [],
   "source": [
    "# Cerramos la pestaña actual y cerramos el driver \n",
    "driver.close()\n",
    "driver.quit()"
   ]
  },
  {
   "cell_type": "markdown",
   "metadata": {},
   "source": [
    "# Extracción de datos de Twitter:\n",
    "\n",
    "Ahora vamos a extraer datos de twitter de manera muy similar pero vamos a añadir algún paso extra como aceptar las *cookies* de manera automática:"
   ]
  },
  {
   "cell_type": "code",
   "execution_count": 7,
   "metadata": {},
   "outputs": [],
   "source": [
    "# Inicializamos un navegador web Chrome a través de WebDriver\n",
    "driver = webdriver.Chrome()\n",
    "\n",
    "# Configuramos el tiempo de espera implícito a 10 segundos\n",
    "driver.implicitly_wait(10)\n",
    "\n",
    "# Definimos una variable con la url que de la que vamos a extraer la información\n",
    "url_twitter = \"https://twitter.com/xqTTs\"\n",
    "\n",
    "# Navegamos a la página web de wikipedia definida en la variable url\n",
    "driver.get(url_twitter)\n"
   ]
  },
  {
   "cell_type": "code",
   "execution_count": 8,
   "metadata": {},
   "outputs": [],
   "source": [
    "# Aceptar cookies: Primero buscamos el botón para aceptar todo:\n",
    "boton_cookies = driver.find_element(\"css selector\", '#layers > div > div:nth-child(3) > div > div > div > div.css-175oi2r.r-12kyg2d.r-eqz5dr.r-1w6e6rj.r-1t251xo.r-vakc41.r-13qz1uu > button:nth-child(1)')\n",
    "\n",
    "# Después usamos el método click() para interactuar con la página y aceptar las cookies:\n",
    "boton_cookies.click()"
   ]
  },
  {
   "cell_type": "code",
   "execution_count": 9,
   "metadata": {},
   "outputs": [
    {
     "name": "stdout",
     "output_type": "stream",
     "text": [
      "El nombre del usuario es: #PorQuéTT\n",
      "La ubicación del usuario buscado es: España\n",
      "El usuario sigue a: 900 personas\n",
      "El usuario tiene 91,8 mil seguidores\n",
      "La url de la imagen de usuario es: None\n"
     ]
    }
   ],
   "source": [
    "# Sacamos información de la cuenta:\n",
    "# Nombre de la cuenta. Accedemos al atributo text después de encontrar el elemento\n",
    "nombre = driver.find_element(\"css selector\", '#react-root > div > div > div.css-175oi2r.r-1f2l425.r-13qz1uu.r-417010.r-18u37iz > main > div > div > div > div > div > div.css-175oi2r.r-aqfbo4.r-gtdqiz.r-1gn8etr.r-1g40b8q > div:nth-child(1) > div > div > div > div > div > div.css-175oi2r.r-16y2uox.r-1wbh5a2.r-1pi2tsx.r-1777fci > div > h2 > div > div > div > div > span.css-1jxf684.r-bcqeeo.r-1ttztb7.r-qvutc0.r-poiln3.r-b88u0q.r-1awozwy.r-6koalj.r-1udh08x.r-3s2u2q > span > span:nth-child(1) ').text\n",
    "print(f\"El nombre del usuario es: {nombre}\")\n",
    "\n",
    "# Ubicación:\n",
    "ubicacion = driver.find_element(\"xpath\", '//*[@id=\"react-root\"]/div/div/div[2]/main/div/div/div/div[1]/div/div[3]/div/div/div/div/div[4]/div/span[1]/span/span').text\n",
    "print(f\"La ubicación del usuario buscado es: {ubicacion}\")\n",
    "\n",
    "# Personas a las que sigue:\n",
    "siguiendo = driver.find_element(\"css selector\", '#react-root > div > div > div.css-175oi2r.r-1f2l425.r-13qz1uu.r-417010.r-18u37iz > main > div > div > div > div.css-175oi2r.r-kemksi.r-1kqtdi0.r-1ua6aaf.r-th6na.r-1phboty.r-16y2uox.r-184en5c.r-1c4cdxw.r-1t251xo.r-f8sm7e.r-13qz1uu.r-1ye8kvj > div > div:nth-child(3) > div > div > div > div > div.css-175oi2r.r-13awgt0.r-18u37iz.r-1w6e6rj > div.css-175oi2r.r-1rtiivn > a > span.css-1jxf684.r-bcqeeo.r-1ttztb7.r-qvutc0.r-poiln3.r-1b43r93.r-1cwl3u0.r-b88u0q > span').text\n",
    "print(f\"El usuario sigue a: {siguiendo} personas\")\n",
    "\n",
    "# Seguidores:\n",
    "seguidores = driver.find_element(\"css selector\", '#react-root > div > div > div.css-175oi2r.r-1f2l425.r-13qz1uu.r-417010.r-18u37iz > main > div > div > div > div.css-175oi2r.r-kemksi.r-1kqtdi0.r-1ua6aaf.r-th6na.r-1phboty.r-16y2uox.r-184en5c.r-1c4cdxw.r-1t251xo.r-f8sm7e.r-13qz1uu.r-1ye8kvj > div > div:nth-child(3) > div > div > div > div > div.css-175oi2r.r-13awgt0.r-18u37iz.r-1w6e6rj > div:nth-child(2) > a > span.css-1jxf684.r-bcqeeo.r-1ttztb7.r-qvutc0.r-poiln3.r-1b43r93.r-1cwl3u0.r-b88u0q > span').text\n",
    "print(f\"El usuario tiene {seguidores} seguidores\")\n",
    "\n",
    "# Imagen del usuario:\n",
    "imagen = driver.find_element(\"css selector\", '#react-root > div > div > div.css-175oi2r.r-1f2l425.r-13qz1uu.r-417010.r-18u37iz > main > div > div > div > div.css-175oi2r.r-kemksi.r-1kqtdi0.r-1ua6aaf.r-th6na.r-1phboty.r-16y2uox.r-184en5c.r-1c4cdxw.r-1t251xo.r-f8sm7e.r-13qz1uu.r-1ye8kvj > div > div:nth-child(3) > div > div > div > div > div.css-175oi2r.r-1habvwh.r-18u37iz.r-1w6e6rj.r-1wtj0ep > div.css-175oi2r.r-1adg3ll.r-bztko3.r-16l9doz.r-6gpygo.r-2o1y69.r-1v6e3re.r-1xce0ei > div.r-1p0dtai.r-1pi2tsx.r-1d2f490.r-u8s1d.r-ipm5af.r-13qz1uu > div > div.r-1p0dtai.r-1pi2tsx.r-1d2f490.r-u8s1d.r-ipm5af.r-13qz1uu > div > a > div:nth-child(4) > div')\n",
    "url_imagen = imagen.get_attribute(\"href\")\n",
    "print(f\"La url de la imagen de usuario es: {url_imagen}\")\n"
   ]
  },
  {
   "cell_type": "code",
   "execution_count": 12,
   "metadata": {},
   "outputs": [],
   "source": [
    "# Twitter no carga todos los tweets a la vez en la página, para verlos(y acceder a ellos si lo necesitamos) tendremos que hacer un scroll por la página\n",
    "# Hacemos scroll hasta un punto distinto de la página\n",
    "driver.execute_script(\"window.scrollTo(0, 10000);\")\n"
   ]
  },
  {
   "cell_type": "code",
   "execution_count": 13,
   "metadata": {},
   "outputs": [],
   "source": [
    "# Cerramos la página y el driver\n",
    "driver.close()\n",
    "driver.quit()"
   ]
  },
  {
   "cell_type": "markdown",
   "metadata": {},
   "source": [
    "# Extracción de datos de wunderground\n",
    "\n",
    "En este ejemplo vamos a extraer datos metereológicos usando **Selenium** para la automatización de la navegación por la página web y **BeautifulSoup** para la extracción de los datos"
   ]
  },
  {
   "cell_type": "code",
   "execution_count": 14,
   "metadata": {},
   "outputs": [],
   "source": [
    "# Inicializamos un navegador web Chrome a través de WebDriver\n",
    "driver = webdriver.Chrome()\n",
    "\n",
    "# Configuramos el tiempo de espera implícito a 10 segundos\n",
    "driver.implicitly_wait(10)\n",
    "\n",
    "# Definimos una variable con la url que de la que vamos a extraer la información\n",
    "url_wunder = \"https://www.wunderground.com/history\"\n",
    "\n",
    "# Navegamos a la página web de wikipedia definida en la variable url\n",
    "driver.get(url_wunder)\n",
    "\n",
    "# Maximizamos a pantalla completa\n",
    "driver.maximize_window()"
   ]
  },
  {
   "cell_type": "code",
   "execution_count": 15,
   "metadata": {},
   "outputs": [
    {
     "name": "stdout",
     "output_type": "stream",
     "text": [
      "No se han aceptado las cookies pero hay 2 iframes en la página\n"
     ]
    }
   ],
   "source": [
    "# Intentamos aceptar las cookies:\n",
    "try:\n",
    "    boton_cookies = driver.find_element('xpath', '//*[@id=\"notice\"]/div[3]/div[1]/button').click()\n",
    "# Si no encuentra el elemento, miramos los iframes presentes en la página\n",
    "except NoSuchElementException: \n",
    "    iframe = driver.find_elements('tag name', \"iframe\")\n",
    "    print(f\"No se han aceptado las cookies pero hay {len(iframe)} iframes en la página\")"
   ]
  },
  {
   "cell_type": "code",
   "execution_count": 16,
   "metadata": {},
   "outputs": [],
   "source": [
    "driver.quit()"
   ]
  },
  {
   "cell_type": "markdown",
   "metadata": {},
   "source": [
    "# EXPLICACIÓN IFRAME:\n",
    "Los iframes (o marcos internos) son elementos HTML que permiten incrustar un documento HTML dentro de otro documento HTML. Esto significa que puedes insertar una página web dentro de otra página web. Los iframes los encontraremos en una etiqueta `<iframe>` de HTML.\n",
    "\n",
    "## USO:\n",
    "\n",
    "1. **Incrustación de contenido externo**: Una de las principales funciones de los iframes es permitir la incrustación de contenido externo dentro de una página web. Esto puede ser útil para mostrar contenido de otros sitios web, como videos de YouTube, mapas de Google Maps, widgets de redes sociales, entre otros.\n",
    "\n",
    "2. **Separación de contenido**: Los iframes permiten dividir una página web en secciones independientes. Cada iframe puede contener su propio documento HTML, lo que facilita la gestión y el mantenimiento del contenido.\n",
    "\n",
    "3. **Aislamiento de estilos y scripts**: Los iframes también proporcionan un nivel de aislamiento para el contenido incrustado. Esto significa que los estilos CSS y los scripts JavaScript dentro de un iframe no afectarán al contenido de la página principal y viceversa. Esto puede ser útil para evitar conflictos entre estilos y scripts en páginas web complejas.\n",
    "\n",
    "4. **Widgets y contenido dinámico**: Los iframes son comúnmente utilizados para incrustar widgets(componentes que permiten interactuar con el usuario) y contenido dinámico en una página web. Por ejemplo, un widget de noticias actualizado dinámicamente puede ser incrustado en una página principal utilizando un iframe.\n",
    "\n",
    "## INTERACCIÓN CON IFRAMES MEDIANTE SELENIUM:\n",
    "En Selenium para poder interactuar con elementos dentro de un iFrame tenemos que seguir algunos pasos específicos debido a que los iFrames son esencialmente documentos HTML anidados dentro de otro documento HTML.\n",
    "\n",
    "1. Primero esperamos a que el driver encuentre el elemento.Usamos el método `WebDriverWait`:\n",
    "\n",
    "   ``` python\n",
    "   # El driver tiene que esperar a que el elemento esté presente\n",
    "   iframe = WebDriverWait(driver, 10).until(EC.presence_of_element_located(('xpath', '//iframe[@id=\"id_iframe\"]')))\n",
    "\n",
    "   ``` \n",
    "2. Utilizamos el atributo `switch_to` y el método `frame()` para cambiar de iframe:\n",
    "\n",
    "   ``` python\n",
    "   driver.switch_to.frame(iframe)\n",
    "\n",
    "   ```\n"
   ]
  },
  {
   "cell_type": "code",
   "execution_count": 23,
   "metadata": {},
   "outputs": [],
   "source": [
    "# Inicializamos un navegador web Chrome a través de WebDriver\n",
    "driver = webdriver.Chrome()\n",
    "\n",
    "# Configuramos el tiempo de espera implícito a 10 segundos\n",
    "driver.implicitly_wait(10)\n",
    "\n",
    "# Definimos una variable con la url que de la que vamos a extraer la información\n",
    "url_wunder = \"https://www.wunderground.com/history\"\n",
    "\n",
    "# Navegamos a la página web de wikipedia definida en la variable url\n",
    "driver.get(url_wunder)\n",
    "\n",
    "# Maximizamos a pantalla completa\n",
    "driver.maximize_window()"
   ]
  },
  {
   "cell_type": "code",
   "execution_count": 24,
   "metadata": {},
   "outputs": [
    {
     "name": "stdout",
     "output_type": "stream",
     "text": [
      "Botón de aceptar cookies clicado con éxito.\n"
     ]
    }
   ],
   "source": [
    "# Cambiar al contexto del segundo iframe\n",
    "iframe = WebDriverWait(driver, 10).until(EC.presence_of_element_located(('xpath', '//*[@id=\"sp_message_iframe_1165301\"]')))\n",
    "driver.switch_to.frame(iframe)\n",
    "\n",
    "# Encontrar y hacer clic en el botón de aceptar cookies\n",
    "try:\n",
    "    driver.find_element(\"css selector\", \"#notice > div.message-component.message-row.cta-buttons-container > div.message-component.message-column.cta-button-column.reject-column\").click()\n",
    "    print(\"Botón de aceptar cookies clicado con éxito.\")\n",
    "except:\n",
    "    print(\"No se pudo encontrar el botón de aceptar cookies o hacer clic en él.\")\n",
    "\n",
    "# Cambiar de vuelta al contexto padre (fuera del iframe) para seguir con la automatización\n",
    "driver.switch_to.default_content()"
   ]
  },
  {
   "cell_type": "code",
   "execution_count": 26,
   "metadata": {},
   "outputs": [],
   "source": [
    "# Rellenamos el campo de localización:\n",
    "localizacion = 'Madrid, Madrid, Spain'\n",
    "sleep(2)\n",
    "driver.find_element('css selector', \"#historySearch\").send_keys(localizacion, Keys.TAB)\n",
    "# Hacemos click en el botón de view \n",
    "driver.find_element(\"css selector\", \"#dateSubmit\").click()\n",
    "driver.find_element(\"css selector\", \"#dateSubmit\").click()\n",
    "\n",
    "sleep(2)\n",
    "# Estamos buscando la tabla de datos de todo el mes. Hacemos que el driver espere hasta que el selector de monthly este presente. Cuando esté hacemos click\n",
    "driver.find_element('css selector', '#inner-content > div.region-content-main > div.row > div:nth-child(1) > div:nth-child(1) > div > lib-link-selector > div > div > div > a:nth-child(3)').click()\n",
    "# ¡A veces la primera vez no funciona! "
   ]
  },
  {
   "cell_type": "code",
   "execution_count": 27,
   "metadata": {},
   "outputs": [
    {
     "data": {
      "text/plain": [
       "str"
      ]
     },
     "execution_count": 27,
     "metadata": {},
     "output_type": "execute_result"
    }
   ],
   "source": [
    "# Extraemos la información de la tabla:\n",
    "tabla = driver.find_element('css selector', \"#inner-content > div.region-content-main > div.row > div:nth-child(5) > div:nth-child(1) > div > lib-city-history-observation > div > div.observation-table.ng-star-inserted\").text\n",
    "# El atributo text nos devuelve toda la tabla como un string, si queremos convertirlo a un dataframe, nuestra mejor opción es combinar selenium con BeautifulSoup y pandas\n",
    "type(tabla)"
   ]
  },
  {
   "cell_type": "code",
   "execution_count": 28,
   "metadata": {},
   "outputs": [],
   "source": [
    "# Cerramos el driver\n",
    "driver.quit()"
   ]
  }
 ],
 "metadata": {
  "kernelspec": {
   "display_name": "contenido",
   "language": "python",
   "name": "python3"
  },
  "language_info": {
   "codemirror_mode": {
    "name": "ipython",
    "version": 3
   },
   "file_extension": ".py",
   "mimetype": "text/x-python",
   "name": "python",
   "nbconvert_exporter": "python",
   "pygments_lexer": "ipython3",
   "version": "3.11.8"
  },
  "toc": {
   "base_numbering": 1,
   "nav_menu": {},
   "number_sections": true,
   "sideBar": true,
   "skip_h1_title": false,
   "title_cell": "Table of Contents",
   "title_sidebar": "Contents",
   "toc_cell": true,
   "toc_position": {
    "height": "calc(100% - 180px)",
    "left": "10px",
    "top": "150px",
    "width": "302.398px"
   },
   "toc_section_display": true,
   "toc_window_display": false
  }
 },
 "nbformat": 4,
 "nbformat_minor": 2
}
