{
 "cells": [
  {
   "cell_type": "code",
   "execution_count": 1,
   "metadata": {},
   "outputs": [],
   "source": [
    "# Importamos las librerías que necesitamos\n",
    "\n",
    "# Librerías de extracción de datos\n",
    "# -----------------------------------------------------------------------\n",
    "\n",
    "# Importaciones:\n",
    "# Beautifulsoup\n",
    "from bs4 import BeautifulSoup\n",
    "\n",
    "# Requests\n",
    "import requests\n",
    "\n",
    "import pandas as pd\n",
    "import numpy as np\n",
    "\n",
    "from time import sleep\n",
    "\n",
    "# Importar librerías para automatización de navegadores web con Selenium\n",
    "# -----------------------------------------------------------------------\n",
    "from selenium import webdriver  # Selenium es una herramienta para automatizar la interacción con navegadores web.\n",
    "from webdriver_manager.chrome import ChromeDriverManager  # ChromeDriverManager gestiona la instalación del controlador de Chrome.\n",
    "from selenium.webdriver.common.keys import Keys  # Keys es útil para simular eventos de teclado en Selenium.\n",
    "from selenium.webdriver.support.ui import Select  # Select se utiliza para interactuar con elementos <select> en páginas web.\n",
    "from selenium.webdriver.support.ui import WebDriverWait\n",
    "from selenium.webdriver.support import expected_conditions as EC\n",
    "from selenium.common.exceptions import NoSuchElementException # Excepciones comunes de selenium que nos podemos encontrar "
   ]
  },
  {
   "cell_type": "code",
   "execution_count": 2,
   "metadata": {},
   "outputs": [],
   "source": [
    "   #para que al abrir el navegador se maximice la pestaña\n",
    "                           \n",
    "\n",
    "# driver.implicitly_wait(20)   #El implicitly va a estar 20 segundos intentando clickar mientras q si pusieramos un sleep 20 seg solo intenta un click a los 20 segs \n",
    "#                              #le estamos dando la orden de q al pop up de cookies le de al reject por eso le decimos click()\n",
    "# driver.find_element(\"css selector\",\"#notice > div.message-component.message-row.cta-buttons-container > div.message-component.message-column.cta-button-column.reject-column > button\").click()\n",
    "\n"
   ]
  },
  {
   "cell_type": "markdown",
   "metadata": {},
   "source": [
    "iframe es una capa que tenemos por encima de la web principal"
   ]
  },
  {
   "cell_type": "code",
   "execution_count": 5,
   "metadata": {},
   "outputs": [],
   "source": [
    "driver = webdriver.Chrome()   #Driver va a ser el navegador que nos abra\n",
    "url_wunder = \"https://www.wunderground.com/history\"\n",
    "driver.get(url_wunder)\n",
    "\n",
    "driver.maximize_window()\n",
    "\n",
    "iframe= WebDriverWait(driver, 10).until(EC.presence_of_element_located(('xpath','//*[@id=\"sp_message_iframe_1165301\"]')))       #A la pag q encuentres dale 10 segundos hasta que encuentres el iframe de las cookies\n",
    "\n",
    "driver.switch_to.frame(iframe)\n",
    "\n",
    "\n",
    "try:\n",
    "    sleep(5)\n",
    "    driver.find_element(\"css selector\",\"#notice > div.message-component.message-row.cta-buttons-container > div.message-component.message-column.cta-button-column.reject-column > button\").click()\n",
    "except:\n",
    "    print(\"da error\")   \n",
    "driver.switch_to.default_content() \n",
    "sleep(5)\n",
    "driver.find_element(\"css selector\", \"#historySearch\").send_keys(\"Madrid, Madrid, España\", Keys.TAB)\n",
    "sleep(5)\n",
    "driver.find_element(\"css selector\", \"#dateSubmit\").click()\n",
    "sleep(5)\n",
    "driver.find_element(\"css selector\", \"#dateSubmit\").click()\n"
   ]
  },
  {
   "cell_type": "markdown",
   "metadata": {},
   "source": [
    "la opción con implicitly si no funciona se sustituyen por sleep que no sobrecarga la pagina web tanto"
   ]
  },
  {
   "cell_type": "code",
   "execution_count": 6,
   "metadata": {},
   "outputs": [
    {
     "ename": "StaleElementReferenceException",
     "evalue": "Message: stale element reference: stale element not found\n  (Session info: chrome=129.0.6668.90); For documentation on this error, please visit: https://www.selenium.dev/documentation/webdriver/troubleshooting/errors#stale-element-reference-exception\nStacktrace:\n\tGetHandleVerifier [0x00007FF66DE3B095+29557]\n\t(No symbol) [0x00007FF66DDAFA50]\n\t(No symbol) [0x00007FF66DC6B56A]\n\t(No symbol) [0x00007FF66DC7E05B]\n\t(No symbol) [0x00007FF66DC72D94]\n\t(No symbol) [0x00007FF66DC70C14]\n\t(No symbol) [0x00007FF66DC744B7]\n\t(No symbol) [0x00007FF66DC74570]\n\t(No symbol) [0x00007FF66DCC0522]\n\t(No symbol) [0x00007FF66DCC05F2]\n\t(No symbol) [0x00007FF66DCB63BB]\n\t(No symbol) [0x00007FF66DCE718A]\n\t(No symbol) [0x00007FF66DCB2E86]\n\t(No symbol) [0x00007FF66DCE73A0]\n\t(No symbol) [0x00007FF66DD0851C]\n\t(No symbol) [0x00007FF66DCE6F33]\n\t(No symbol) [0x00007FF66DCB116F]\n\t(No symbol) [0x00007FF66DCB22D1]\n\tGetHandleVerifier [0x00007FF66E16C96D+3378253]\n\tGetHandleVerifier [0x00007FF66E1B8497+3688311]\n\tGetHandleVerifier [0x00007FF66E1AD1CB+3642539]\n\tGetHandleVerifier [0x00007FF66DEFA6B6+813462]\n\t(No symbol) [0x00007FF66DDBAB5F]\n\t(No symbol) [0x00007FF66DDB6B74]\n\t(No symbol) [0x00007FF66DDB6D10]\n\t(No symbol) [0x00007FF66DDA5C1F]\n\tBaseThreadInitThunk [0x00007FFB9146257D+29]\n\tRtlUserThreadStart [0x00007FFB9296AF08+40]\n",
     "output_type": "error",
     "traceback": [
      "\u001b[1;31m---------------------------------------------------------------------------\u001b[0m",
      "\u001b[1;31mStaleElementReferenceException\u001b[0m            Traceback (most recent call last)",
      "Cell \u001b[1;32mIn[6], line 19\u001b[0m\n\u001b[0;32m     17\u001b[0m driver\u001b[38;5;241m.\u001b[39mswitch_to\u001b[38;5;241m.\u001b[39mdefault_content() \n\u001b[0;32m     18\u001b[0m driver\u001b[38;5;241m.\u001b[39mimplicitly_wait(\u001b[38;5;241m5\u001b[39m)\n\u001b[1;32m---> 19\u001b[0m \u001b[43mdriver\u001b[49m\u001b[38;5;241;43m.\u001b[39;49m\u001b[43mfind_element\u001b[49m\u001b[43m(\u001b[49m\u001b[38;5;124;43m\"\u001b[39;49m\u001b[38;5;124;43mcss selector\u001b[39;49m\u001b[38;5;124;43m\"\u001b[39;49m\u001b[43m,\u001b[49m\u001b[43m \u001b[49m\u001b[38;5;124;43m\"\u001b[39;49m\u001b[38;5;124;43m#historySearch\u001b[39;49m\u001b[38;5;124;43m\"\u001b[39;49m\u001b[43m)\u001b[49m\u001b[38;5;241;43m.\u001b[39;49m\u001b[43msend_keys\u001b[49m\u001b[43m(\u001b[49m\u001b[38;5;124;43m\"\u001b[39;49m\u001b[38;5;124;43mMadrid, Madrid, España\u001b[39;49m\u001b[38;5;124;43m\"\u001b[39;49m\u001b[43m,\u001b[49m\u001b[43m \u001b[49m\u001b[43mKeys\u001b[49m\u001b[38;5;241;43m.\u001b[39;49m\u001b[43mTAB\u001b[49m\u001b[43m)\u001b[49m\n\u001b[0;32m     20\u001b[0m driver\u001b[38;5;241m.\u001b[39mimplicitly_wait(\u001b[38;5;241m5\u001b[39m)\n\u001b[0;32m     21\u001b[0m driver\u001b[38;5;241m.\u001b[39mfind_element(\u001b[38;5;124m\"\u001b[39m\u001b[38;5;124mcss selector\u001b[39m\u001b[38;5;124m\"\u001b[39m, \u001b[38;5;124m\"\u001b[39m\u001b[38;5;124m#dateSubmit\u001b[39m\u001b[38;5;124m\"\u001b[39m)\u001b[38;5;241m.\u001b[39mclick()\n",
      "File \u001b[1;32m~\\AppData\\Local\\Packages\\PythonSoftwareFoundation.Python.3.11_qbz5n2kfra8p0\\LocalCache\\local-packages\\Python311\\site-packages\\selenium\\webdriver\\remote\\webelement.py:231\u001b[0m, in \u001b[0;36mWebElement.send_keys\u001b[1;34m(self, *value)\u001b[0m\n\u001b[0;32m    228\u001b[0m             remote_files\u001b[38;5;241m.\u001b[39mappend(\u001b[38;5;28mself\u001b[39m\u001b[38;5;241m.\u001b[39m_upload(file))\n\u001b[0;32m    229\u001b[0m         value \u001b[38;5;241m=\u001b[39m \u001b[38;5;124m\"\u001b[39m\u001b[38;5;130;01m\\n\u001b[39;00m\u001b[38;5;124m\"\u001b[39m\u001b[38;5;241m.\u001b[39mjoin(remote_files)\n\u001b[1;32m--> 231\u001b[0m \u001b[38;5;28;43mself\u001b[39;49m\u001b[38;5;241;43m.\u001b[39;49m\u001b[43m_execute\u001b[49m\u001b[43m(\u001b[49m\n\u001b[0;32m    232\u001b[0m \u001b[43m    \u001b[49m\u001b[43mCommand\u001b[49m\u001b[38;5;241;43m.\u001b[39;49m\u001b[43mSEND_KEYS_TO_ELEMENT\u001b[49m\u001b[43m,\u001b[49m\u001b[43m \u001b[49m\u001b[43m{\u001b[49m\u001b[38;5;124;43m\"\u001b[39;49m\u001b[38;5;124;43mtext\u001b[39;49m\u001b[38;5;124;43m\"\u001b[39;49m\u001b[43m:\u001b[49m\u001b[43m \u001b[49m\u001b[38;5;124;43m\"\u001b[39;49m\u001b[38;5;124;43m\"\u001b[39;49m\u001b[38;5;241;43m.\u001b[39;49m\u001b[43mjoin\u001b[49m\u001b[43m(\u001b[49m\u001b[43mkeys_to_typing\u001b[49m\u001b[43m(\u001b[49m\u001b[43mvalue\u001b[49m\u001b[43m)\u001b[49m\u001b[43m)\u001b[49m\u001b[43m,\u001b[49m\u001b[43m \u001b[49m\u001b[38;5;124;43m\"\u001b[39;49m\u001b[38;5;124;43mvalue\u001b[39;49m\u001b[38;5;124;43m\"\u001b[39;49m\u001b[43m:\u001b[49m\u001b[43m \u001b[49m\u001b[43mkeys_to_typing\u001b[49m\u001b[43m(\u001b[49m\u001b[43mvalue\u001b[49m\u001b[43m)\u001b[49m\u001b[43m}\u001b[49m\n\u001b[0;32m    233\u001b[0m \u001b[43m\u001b[49m\u001b[43m)\u001b[49m\n",
      "File \u001b[1;32m~\\AppData\\Local\\Packages\\PythonSoftwareFoundation.Python.3.11_qbz5n2kfra8p0\\LocalCache\\local-packages\\Python311\\site-packages\\selenium\\webdriver\\remote\\webelement.py:395\u001b[0m, in \u001b[0;36mWebElement._execute\u001b[1;34m(self, command, params)\u001b[0m\n\u001b[0;32m    393\u001b[0m     params \u001b[38;5;241m=\u001b[39m {}\n\u001b[0;32m    394\u001b[0m params[\u001b[38;5;124m\"\u001b[39m\u001b[38;5;124mid\u001b[39m\u001b[38;5;124m\"\u001b[39m] \u001b[38;5;241m=\u001b[39m \u001b[38;5;28mself\u001b[39m\u001b[38;5;241m.\u001b[39m_id\n\u001b[1;32m--> 395\u001b[0m \u001b[38;5;28;01mreturn\u001b[39;00m \u001b[38;5;28;43mself\u001b[39;49m\u001b[38;5;241;43m.\u001b[39;49m\u001b[43m_parent\u001b[49m\u001b[38;5;241;43m.\u001b[39;49m\u001b[43mexecute\u001b[49m\u001b[43m(\u001b[49m\u001b[43mcommand\u001b[49m\u001b[43m,\u001b[49m\u001b[43m \u001b[49m\u001b[43mparams\u001b[49m\u001b[43m)\u001b[49m\n",
      "File \u001b[1;32m~\\AppData\\Local\\Packages\\PythonSoftwareFoundation.Python.3.11_qbz5n2kfra8p0\\LocalCache\\local-packages\\Python311\\site-packages\\selenium\\webdriver\\remote\\webdriver.py:347\u001b[0m, in \u001b[0;36mWebDriver.execute\u001b[1;34m(self, driver_command, params)\u001b[0m\n\u001b[0;32m    345\u001b[0m response \u001b[38;5;241m=\u001b[39m \u001b[38;5;28mself\u001b[39m\u001b[38;5;241m.\u001b[39mcommand_executor\u001b[38;5;241m.\u001b[39mexecute(driver_command, params)\n\u001b[0;32m    346\u001b[0m \u001b[38;5;28;01mif\u001b[39;00m response:\n\u001b[1;32m--> 347\u001b[0m     \u001b[38;5;28;43mself\u001b[39;49m\u001b[38;5;241;43m.\u001b[39;49m\u001b[43merror_handler\u001b[49m\u001b[38;5;241;43m.\u001b[39;49m\u001b[43mcheck_response\u001b[49m\u001b[43m(\u001b[49m\u001b[43mresponse\u001b[49m\u001b[43m)\u001b[49m\n\u001b[0;32m    348\u001b[0m     response[\u001b[38;5;124m\"\u001b[39m\u001b[38;5;124mvalue\u001b[39m\u001b[38;5;124m\"\u001b[39m] \u001b[38;5;241m=\u001b[39m \u001b[38;5;28mself\u001b[39m\u001b[38;5;241m.\u001b[39m_unwrap_value(response\u001b[38;5;241m.\u001b[39mget(\u001b[38;5;124m\"\u001b[39m\u001b[38;5;124mvalue\u001b[39m\u001b[38;5;124m\"\u001b[39m, \u001b[38;5;28;01mNone\u001b[39;00m))\n\u001b[0;32m    349\u001b[0m     \u001b[38;5;28;01mreturn\u001b[39;00m response\n",
      "File \u001b[1;32m~\\AppData\\Local\\Packages\\PythonSoftwareFoundation.Python.3.11_qbz5n2kfra8p0\\LocalCache\\local-packages\\Python311\\site-packages\\selenium\\webdriver\\remote\\errorhandler.py:229\u001b[0m, in \u001b[0;36mErrorHandler.check_response\u001b[1;34m(self, response)\u001b[0m\n\u001b[0;32m    227\u001b[0m         alert_text \u001b[38;5;241m=\u001b[39m value[\u001b[38;5;124m\"\u001b[39m\u001b[38;5;124malert\u001b[39m\u001b[38;5;124m\"\u001b[39m]\u001b[38;5;241m.\u001b[39mget(\u001b[38;5;124m\"\u001b[39m\u001b[38;5;124mtext\u001b[39m\u001b[38;5;124m\"\u001b[39m)\n\u001b[0;32m    228\u001b[0m     \u001b[38;5;28;01mraise\u001b[39;00m exception_class(message, screen, stacktrace, alert_text)  \u001b[38;5;66;03m# type: ignore[call-arg]  # mypy is not smart enough here\u001b[39;00m\n\u001b[1;32m--> 229\u001b[0m \u001b[38;5;28;01mraise\u001b[39;00m exception_class(message, screen, stacktrace)\n",
      "\u001b[1;31mStaleElementReferenceException\u001b[0m: Message: stale element reference: stale element not found\n  (Session info: chrome=129.0.6668.90); For documentation on this error, please visit: https://www.selenium.dev/documentation/webdriver/troubleshooting/errors#stale-element-reference-exception\nStacktrace:\n\tGetHandleVerifier [0x00007FF66DE3B095+29557]\n\t(No symbol) [0x00007FF66DDAFA50]\n\t(No symbol) [0x00007FF66DC6B56A]\n\t(No symbol) [0x00007FF66DC7E05B]\n\t(No symbol) [0x00007FF66DC72D94]\n\t(No symbol) [0x00007FF66DC70C14]\n\t(No symbol) [0x00007FF66DC744B7]\n\t(No symbol) [0x00007FF66DC74570]\n\t(No symbol) [0x00007FF66DCC0522]\n\t(No symbol) [0x00007FF66DCC05F2]\n\t(No symbol) [0x00007FF66DCB63BB]\n\t(No symbol) [0x00007FF66DCE718A]\n\t(No symbol) [0x00007FF66DCB2E86]\n\t(No symbol) [0x00007FF66DCE73A0]\n\t(No symbol) [0x00007FF66DD0851C]\n\t(No symbol) [0x00007FF66DCE6F33]\n\t(No symbol) [0x00007FF66DCB116F]\n\t(No symbol) [0x00007FF66DCB22D1]\n\tGetHandleVerifier [0x00007FF66E16C96D+3378253]\n\tGetHandleVerifier [0x00007FF66E1B8497+3688311]\n\tGetHandleVerifier [0x00007FF66E1AD1CB+3642539]\n\tGetHandleVerifier [0x00007FF66DEFA6B6+813462]\n\t(No symbol) [0x00007FF66DDBAB5F]\n\t(No symbol) [0x00007FF66DDB6B74]\n\t(No symbol) [0x00007FF66DDB6D10]\n\t(No symbol) [0x00007FF66DDA5C1F]\n\tBaseThreadInitThunk [0x00007FFB9146257D+29]\n\tRtlUserThreadStart [0x00007FFB9296AF08+40]\n"
     ]
    }
   ],
   "source": [
    "# driver = webdriver.Chrome()   #Driver va a ser el navegador que nos abra\n",
    "# url_wunder = \"https://www.wunderground.com/history\"\n",
    "# driver.get(url_wunder)\n",
    "\n",
    "# driver.maximize_window()\n",
    "\n",
    "# iframe= WebDriverWait(driver, 10).until(EC.presence_of_element_located(('xpath','//*[@id=\"sp_message_iframe_1165301\"]')))       #A la pag q encuentres dale 10 segundos hasta que encuentres el iframe de las cookies\n",
    "\n",
    "# driver.switch_to.frame(iframe)\n",
    "\n",
    "\n",
    "# try:\n",
    "#     driver.implicitly_wait(5)\n",
    "#     driver.find_element(\"css selector\",\"#notice > div.message-component.message-row.cta-buttons-container > div.message-component.message-column.cta-button-column.reject-column > button\").click()\n",
    "# except:\n",
    "#     print(\"da error\")   \n",
    "# driver.switch_to.default_content() \n",
    "# driver.implicitly_wait(5)\n",
    "# driver.find_element(\"css selector\", \"#historySearch\").send_keys(\"Madrid, Madrid, España\", Keys.TAB)\n",
    "# driver.implicitly_wait(5)\n",
    "# driver.find_element(\"css selector\", \"#dateSubmit\").click()\n",
    "# driver.implicitly_wait(5)\n",
    "# driver.find_element(\"css selector\", \"#dateSubmit\").click()"
   ]
  }
 ],
 "metadata": {
  "kernelspec": {
   "display_name": "Python 3",
   "language": "python",
   "name": "python3"
  },
  "language_info": {
   "codemirror_mode": {
    "name": "ipython",
    "version": 3
   },
   "file_extension": ".py",
   "mimetype": "text/x-python",
   "name": "python",
   "nbconvert_exporter": "python",
   "pygments_lexer": "ipython3",
   "version": "3.11.9"
  }
 },
 "nbformat": 4,
 "nbformat_minor": 2
}
