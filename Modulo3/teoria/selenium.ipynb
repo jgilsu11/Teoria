{
 "cells": [
  {
   "cell_type": "code",
   "execution_count": 1,
   "metadata": {},
   "outputs": [],
   "source": [
    "# Importamos las librerías que necesitamos\n",
    "\n",
    "# Librerías de extracción de datos\n",
    "# -----------------------------------------------------------------------\n",
    "\n",
    "# Importaciones:\n",
    "# Beautifulsoup\n",
    "from bs4 import BeautifulSoup\n",
    "\n",
    "# Requests\n",
    "import requests\n",
    "\n",
    "import pandas as pd\n",
    "import numpy as np\n",
    "\n",
    "from time import sleep\n",
    "\n",
    "# Importar librerías para automatización de navegadores web con Selenium\n",
    "# -----------------------------------------------------------------------\n",
    "from selenium import webdriver  # Selenium es una herramienta para automatizar la interacción con navegadores web.\n",
    "from webdriver_manager.chrome import ChromeDriverManager  # ChromeDriverManager gestiona la instalación del controlador de Chrome.\n",
    "from selenium.webdriver.common.keys import Keys  # Keys es útil para simular eventos de teclado en Selenium.\n",
    "from selenium.webdriver.support.ui import Select  # Select se utiliza para interactuar con elementos <select> en páginas web.\n",
    "from selenium.webdriver.support.ui import WebDriverWait\n",
    "from selenium.webdriver.support import expected_conditions as EC\n",
    "from selenium.common.exceptions import NoSuchElementException # Excepciones comunes de selenium que nos podemos encontrar "
   ]
  },
  {
   "cell_type": "code",
   "execution_count": 2,
   "metadata": {},
   "outputs": [],
   "source": [
    "   #para que al abrir el navegador se maximice la pestaña\n",
    "                           \n",
    "\n",
    "# driver.implicitly_wait(20)   #El implicitly va a estar 20 segundos intentando clickar mientras q si pusieramos un sleep 20 seg solo intenta un click a los 20 segs \n",
    "#                              #le estamos dando la orden de q al pop up de cookies le de al reject por eso le decimos click()\n",
    "# driver.find_element(\"css selector\",\"#notice > div.message-component.message-row.cta-buttons-container > div.message-component.message-column.cta-button-column.reject-column > button\").click()\n",
    "\n"
   ]
  },
  {
   "cell_type": "markdown",
   "metadata": {},
   "source": [
    "iframe es una capa que tenemos por encima de la web principal"
   ]
  },
  {
   "cell_type": "code",
   "execution_count": 3,
   "metadata": {},
   "outputs": [
    {
     "name": "stdout",
     "output_type": "stream",
     "text": [
      "da error\n"
     ]
    },
    {
     "ename": "NoSuchWindowException",
     "evalue": "Message: no such window: target window already closed\nfrom unknown error: web view not found\n  (Session info: chrome=129.0.6668.90)\nStacktrace:\n\tGetHandleVerifier [0x00007FF66DE3B095+29557]\n\t(No symbol) [0x00007FF66DDAFA50]\n\t(No symbol) [0x00007FF66DC6B56A]\n\t(No symbol) [0x00007FF66DC3FCC5]\n\t(No symbol) [0x00007FF66DCEEE07]\n\t(No symbol) [0x00007FF66DD07E21]\n\t(No symbol) [0x00007FF66DCE6F33]\n\t(No symbol) [0x00007FF66DCB116F]\n\t(No symbol) [0x00007FF66DCB22D1]\n\tGetHandleVerifier [0x00007FF66E16C96D+3378253]\n\tGetHandleVerifier [0x00007FF66E1B8497+3688311]\n\tGetHandleVerifier [0x00007FF66E1AD1CB+3642539]\n\tGetHandleVerifier [0x00007FF66DEFA6B6+813462]\n\t(No symbol) [0x00007FF66DDBAB5F]\n\t(No symbol) [0x00007FF66DDB6B74]\n\t(No symbol) [0x00007FF66DDB6D10]\n\t(No symbol) [0x00007FF66DDA5C1F]\n\tBaseThreadInitThunk [0x00007FFB9146257D+29]\n\tRtlUserThreadStart [0x00007FFB9296AF08+40]\n",
     "output_type": "error",
     "traceback": [
      "\u001b[1;31m---------------------------------------------------------------------------\u001b[0m",
      "\u001b[1;31mNoSuchWindowException\u001b[0m                     Traceback (most recent call last)",
      "Cell \u001b[1;32mIn[3], line 17\u001b[0m\n\u001b[0;32m     15\u001b[0m \u001b[38;5;28;01mexcept\u001b[39;00m:\n\u001b[0;32m     16\u001b[0m     \u001b[38;5;28mprint\u001b[39m(\u001b[38;5;124m\"\u001b[39m\u001b[38;5;124mda error\u001b[39m\u001b[38;5;124m\"\u001b[39m)   \n\u001b[1;32m---> 17\u001b[0m \u001b[43mdriver\u001b[49m\u001b[38;5;241;43m.\u001b[39;49m\u001b[43mswitch_to\u001b[49m\u001b[38;5;241;43m.\u001b[39;49m\u001b[43mdefault_content\u001b[49m\u001b[43m(\u001b[49m\u001b[43m)\u001b[49m   \u001b[38;5;66;03m#ESto es para volver a la capa principal\u001b[39;00m\n\u001b[0;32m     18\u001b[0m sleep(\u001b[38;5;241m5\u001b[39m)\n\u001b[0;32m     19\u001b[0m driver\u001b[38;5;241m.\u001b[39mfind_element(\u001b[38;5;124m\"\u001b[39m\u001b[38;5;124mcss selector\u001b[39m\u001b[38;5;124m\"\u001b[39m, \u001b[38;5;124m\"\u001b[39m\u001b[38;5;124m#historySearch\u001b[39m\u001b[38;5;124m\"\u001b[39m)\u001b[38;5;241m.\u001b[39msend_keys(\u001b[38;5;124m\"\u001b[39m\u001b[38;5;124mMadrid, Madrid, España\u001b[39m\u001b[38;5;124m\"\u001b[39m, Keys\u001b[38;5;241m.\u001b[39mTAB)\n",
      "File \u001b[1;32m~\\AppData\\Local\\Packages\\PythonSoftwareFoundation.Python.3.11_qbz5n2kfra8p0\\LocalCache\\local-packages\\Python311\\site-packages\\selenium\\webdriver\\remote\\switch_to.py:69\u001b[0m, in \u001b[0;36mSwitchTo.default_content\u001b[1;34m(self)\u001b[0m\n\u001b[0;32m     61\u001b[0m \u001b[38;5;28;01mdef\u001b[39;00m \u001b[38;5;21mdefault_content\u001b[39m(\u001b[38;5;28mself\u001b[39m) \u001b[38;5;241m-\u001b[39m\u001b[38;5;241m>\u001b[39m \u001b[38;5;28;01mNone\u001b[39;00m:\n\u001b[0;32m     62\u001b[0m \u001b[38;5;250m    \u001b[39m\u001b[38;5;124;03m\"\"\"Switch focus to the default frame.\u001b[39;00m\n\u001b[0;32m     63\u001b[0m \n\u001b[0;32m     64\u001b[0m \u001b[38;5;124;03m    :Usage:\u001b[39;00m\n\u001b[1;32m   (...)\u001b[0m\n\u001b[0;32m     67\u001b[0m \u001b[38;5;124;03m            driver.switch_to.default_content()\u001b[39;00m\n\u001b[0;32m     68\u001b[0m \u001b[38;5;124;03m    \"\"\"\u001b[39;00m\n\u001b[1;32m---> 69\u001b[0m     \u001b[38;5;28;43mself\u001b[39;49m\u001b[38;5;241;43m.\u001b[39;49m\u001b[43m_driver\u001b[49m\u001b[38;5;241;43m.\u001b[39;49m\u001b[43mexecute\u001b[49m\u001b[43m(\u001b[49m\u001b[43mCommand\u001b[49m\u001b[38;5;241;43m.\u001b[39;49m\u001b[43mSWITCH_TO_FRAME\u001b[49m\u001b[43m,\u001b[49m\u001b[43m \u001b[49m\u001b[43m{\u001b[49m\u001b[38;5;124;43m\"\u001b[39;49m\u001b[38;5;124;43mid\u001b[39;49m\u001b[38;5;124;43m\"\u001b[39;49m\u001b[43m:\u001b[49m\u001b[43m \u001b[49m\u001b[38;5;28;43;01mNone\u001b[39;49;00m\u001b[43m}\u001b[49m\u001b[43m)\u001b[49m\n",
      "File \u001b[1;32m~\\AppData\\Local\\Packages\\PythonSoftwareFoundation.Python.3.11_qbz5n2kfra8p0\\LocalCache\\local-packages\\Python311\\site-packages\\selenium\\webdriver\\remote\\webdriver.py:347\u001b[0m, in \u001b[0;36mWebDriver.execute\u001b[1;34m(self, driver_command, params)\u001b[0m\n\u001b[0;32m    345\u001b[0m response \u001b[38;5;241m=\u001b[39m \u001b[38;5;28mself\u001b[39m\u001b[38;5;241m.\u001b[39mcommand_executor\u001b[38;5;241m.\u001b[39mexecute(driver_command, params)\n\u001b[0;32m    346\u001b[0m \u001b[38;5;28;01mif\u001b[39;00m response:\n\u001b[1;32m--> 347\u001b[0m     \u001b[38;5;28;43mself\u001b[39;49m\u001b[38;5;241;43m.\u001b[39;49m\u001b[43merror_handler\u001b[49m\u001b[38;5;241;43m.\u001b[39;49m\u001b[43mcheck_response\u001b[49m\u001b[43m(\u001b[49m\u001b[43mresponse\u001b[49m\u001b[43m)\u001b[49m\n\u001b[0;32m    348\u001b[0m     response[\u001b[38;5;124m\"\u001b[39m\u001b[38;5;124mvalue\u001b[39m\u001b[38;5;124m\"\u001b[39m] \u001b[38;5;241m=\u001b[39m \u001b[38;5;28mself\u001b[39m\u001b[38;5;241m.\u001b[39m_unwrap_value(response\u001b[38;5;241m.\u001b[39mget(\u001b[38;5;124m\"\u001b[39m\u001b[38;5;124mvalue\u001b[39m\u001b[38;5;124m\"\u001b[39m, \u001b[38;5;28;01mNone\u001b[39;00m))\n\u001b[0;32m    349\u001b[0m     \u001b[38;5;28;01mreturn\u001b[39;00m response\n",
      "File \u001b[1;32m~\\AppData\\Local\\Packages\\PythonSoftwareFoundation.Python.3.11_qbz5n2kfra8p0\\LocalCache\\local-packages\\Python311\\site-packages\\selenium\\webdriver\\remote\\errorhandler.py:229\u001b[0m, in \u001b[0;36mErrorHandler.check_response\u001b[1;34m(self, response)\u001b[0m\n\u001b[0;32m    227\u001b[0m         alert_text \u001b[38;5;241m=\u001b[39m value[\u001b[38;5;124m\"\u001b[39m\u001b[38;5;124malert\u001b[39m\u001b[38;5;124m\"\u001b[39m]\u001b[38;5;241m.\u001b[39mget(\u001b[38;5;124m\"\u001b[39m\u001b[38;5;124mtext\u001b[39m\u001b[38;5;124m\"\u001b[39m)\n\u001b[0;32m    228\u001b[0m     \u001b[38;5;28;01mraise\u001b[39;00m exception_class(message, screen, stacktrace, alert_text)  \u001b[38;5;66;03m# type: ignore[call-arg]  # mypy is not smart enough here\u001b[39;00m\n\u001b[1;32m--> 229\u001b[0m \u001b[38;5;28;01mraise\u001b[39;00m exception_class(message, screen, stacktrace)\n",
      "\u001b[1;31mNoSuchWindowException\u001b[0m: Message: no such window: target window already closed\nfrom unknown error: web view not found\n  (Session info: chrome=129.0.6668.90)\nStacktrace:\n\tGetHandleVerifier [0x00007FF66DE3B095+29557]\n\t(No symbol) [0x00007FF66DDAFA50]\n\t(No symbol) [0x00007FF66DC6B56A]\n\t(No symbol) [0x00007FF66DC3FCC5]\n\t(No symbol) [0x00007FF66DCEEE07]\n\t(No symbol) [0x00007FF66DD07E21]\n\t(No symbol) [0x00007FF66DCE6F33]\n\t(No symbol) [0x00007FF66DCB116F]\n\t(No symbol) [0x00007FF66DCB22D1]\n\tGetHandleVerifier [0x00007FF66E16C96D+3378253]\n\tGetHandleVerifier [0x00007FF66E1B8497+3688311]\n\tGetHandleVerifier [0x00007FF66E1AD1CB+3642539]\n\tGetHandleVerifier [0x00007FF66DEFA6B6+813462]\n\t(No symbol) [0x00007FF66DDBAB5F]\n\t(No symbol) [0x00007FF66DDB6B74]\n\t(No symbol) [0x00007FF66DDB6D10]\n\t(No symbol) [0x00007FF66DDA5C1F]\n\tBaseThreadInitThunk [0x00007FFB9146257D+29]\n\tRtlUserThreadStart [0x00007FFB9296AF08+40]\n"
     ]
    }
   ],
   "source": [
    "driver = webdriver.Chrome()   #Driver va a ser el navegador que nos abra\n",
    "url_wunder = \"https://www.wunderground.com/history\"\n",
    "driver.get(url_wunder)\n",
    "\n",
    "driver.maximize_window()\n",
    "\n",
    "iframe= WebDriverWait(driver, 10).until(EC.presence_of_element_located(('xpath','//*[@id=\"sp_message_iframe_1165301\"]')))       #A la pag q encuentres dale 10 segundos hasta que encuentres el iframe de las cookies\n",
    "\n",
    "driver.switch_to.frame(iframe)\n",
    "\n",
    "\n",
    "try:\n",
    "    sleep(5)\n",
    "    driver.find_element(\"css selector\",\"#notice > div.message-component.message-row.cta-buttons-container > div.message-component.message-column.cta-button-column.reject-column > button\").click()\n",
    "except:\n",
    "    print(\"da error\")   \n",
    "driver.switch_to.default_content()   #ESto es para volver a la capa principal\n",
    "sleep(5)\n",
    "driver.find_element(\"css selector\", \"#historySearch\").send_keys(\"Madrid, Madrid, España\", Keys.TAB)\n",
    "sleep(5)\n",
    "driver.find_element(\"css selector\", \"#dateSubmit\").click()\n",
    "sleep(5)\n",
    "driver.find_element(\"css selector\", \"#dateSubmit\").click()\n"
   ]
  },
  {
   "cell_type": "markdown",
   "metadata": {},
   "source": [
    "la opción con implicitly si no funciona se sustituyen por sleep que no sobrecarga la pagina web tanto"
   ]
  },
  {
   "cell_type": "code",
   "execution_count": 4,
   "metadata": {},
   "outputs": [],
   "source": [
    "# driver = webdriver.Chrome()   #Driver va a ser el navegador que nos abra\n",
    "# url_wunder = \"https://www.wunderground.com/history\"\n",
    "# driver.get(url_wunder)\n",
    "\n",
    "# driver.maximize_window()\n",
    "\n",
    "# iframe= WebDriverWait(driver, 10).until(EC.presence_of_element_located(('xpath','//*[@id=\"sp_message_iframe_1165301\"]')))       #A la pag q encuentres dale 10 segundos hasta que encuentres el iframe de las cookies\n",
    "\n",
    "# driver.switch_to.frame(iframe)\n",
    "\n",
    "\n",
    "# try:\n",
    "#     driver.implicitly_wait(5)\n",
    "#     driver.find_element(\"css selector\",\"#notice > div.message-component.message-row.cta-buttons-container > div.message-component.message-column.cta-button-column.reject-column > button\").click()\n",
    "# except:\n",
    "#     print(\"da error\")   \n",
    "# driver.switch_to.default_content() \n",
    "# driver.implicitly_wait(5)\n",
    "# driver.find_element(\"css selector\", \"#historySearch\").send_keys(\"Madrid, Madrid, España\", Keys.TAB)\n",
    "# driver.implicitly_wait(5)\n",
    "# driver.find_element(\"css selector\", \"#dateSubmit\").click()\n",
    "# driver.implicitly_wait(5)\n",
    "# driver.find_element(\"css selector\", \"#dateSubmit\").click()"
   ]
  },
  {
   "cell_type": "markdown",
   "metadata": {},
   "source": [
    "crear codigo que entre a deportes moya, que busque cualquier cosa(preguntar al usuario que quiere buscar(zapatillas, pantalones etc))"
   ]
  },
  {
   "cell_type": "code",
   "execution_count": 7,
   "metadata": {},
   "outputs": [
    {
     "ename": "InvalidSelectorException",
     "evalue": "Message: invalid selector\nfrom javascript error: {\"status\":32,\"value\":\"An invalid or illegal selector was specified\"}\n  (Session info: chrome=129.0.6668.90); For documentation on this error, please visit: https://www.selenium.dev/documentation/webdriver/troubleshooting/errors#invalid-selector-exception\nStacktrace:\n\tGetHandleVerifier [0x00007FF66DE3B095+29557]\n\t(No symbol) [0x00007FF66DDAFA50]\n\t(No symbol) [0x00007FF66DC6B56A]\n\t(No symbol) [0x00007FF66DC7213E]\n\t(No symbol) [0x00007FF66DC744B7]\n\t(No symbol) [0x00007FF66DC74570]\n\t(No symbol) [0x00007FF66DCBF20F]\n\t(No symbol) [0x00007FF66DCBF8EC]\n\t(No symbol) [0x00007FF66DD0B777]\n\t(No symbol) [0x00007FF66DCE71CF]\n\t(No symbol) [0x00007FF66DD0851C]\n\t(No symbol) [0x00007FF66DCE6F33]\n\t(No symbol) [0x00007FF66DCB116F]\n\t(No symbol) [0x00007FF66DCB22D1]\n\tGetHandleVerifier [0x00007FF66E16C96D+3378253]\n\tGetHandleVerifier [0x00007FF66E1B8497+3688311]\n\tGetHandleVerifier [0x00007FF66E1AD1CB+3642539]\n\tGetHandleVerifier [0x00007FF66DEFA6B6+813462]\n\t(No symbol) [0x00007FF66DDBAB5F]\n\t(No symbol) [0x00007FF66DDB6B74]\n\t(No symbol) [0x00007FF66DDB6D10]\n\t(No symbol) [0x00007FF66DDA5C1F]\n\tBaseThreadInitThunk [0x00007FFB9146257D+29]\n\tRtlUserThreadStart [0x00007FFB9296AF08+40]\n",
     "output_type": "error",
     "traceback": [
      "\u001b[1;31m---------------------------------------------------------------------------\u001b[0m",
      "\u001b[1;31mInvalidSelectorException\u001b[0m                  Traceback (most recent call last)",
      "Cell \u001b[1;32mIn[7], line 26\u001b[0m\n\u001b[0;32m     23\u001b[0m \u001b[38;5;28;01mfor\u001b[39;00m numero \u001b[38;5;129;01min\u001b[39;00m \u001b[38;5;28mrange\u001b[39m(\u001b[38;5;241m1\u001b[39m, \u001b[38;5;241m7\u001b[39m):\n\u001b[0;32m     24\u001b[0m     sleep(\u001b[38;5;241m3\u001b[39m)\n\u001b[1;32m---> 26\u001b[0m     nombre_url\u001b[38;5;241m=\u001b[39m \u001b[43mdriver\u001b[49m\u001b[38;5;241;43m.\u001b[39;49m\u001b[43mfind_element\u001b[49m\u001b[43m(\u001b[49m\u001b[38;5;124;43m\"\u001b[39;49m\u001b[38;5;124;43mcss selector\u001b[39;49m\u001b[38;5;124;43m\"\u001b[39;49m\u001b[43m,\u001b[49m\u001b[43m \u001b[49m\u001b[38;5;124;43m\"\u001b[39;49m\u001b[38;5;124;43m#ecommfinder_results > a:nth-child(\u001b[39;49m\u001b[38;5;132;43;01m{numero}\u001b[39;49;00m\u001b[38;5;124;43m)\u001b[39;49m\u001b[38;5;124;43m\"\u001b[39;49m\u001b[43m)\u001b[49m\u001b[38;5;241m.\u001b[39mget_attribute(\u001b[38;5;124m\"\u001b[39m\u001b[38;5;124mhref\u001b[39m\u001b[38;5;124m\"\u001b[39m) \u001b[38;5;66;03m#esto es un selector concreto para conseguir un articulo concreto habrá que usar por no son iguales\u001b[39;00m\n\u001b[0;32m     27\u001b[0m     lista_url\u001b[38;5;241m.\u001b[39mappend(nombre_url)\n\u001b[0;32m     29\u001b[0m     \u001b[38;5;28;01mfor\u001b[39;00m url \u001b[38;5;129;01min\u001b[39;00m lista_url:\n",
      "File \u001b[1;32m~\\AppData\\Local\\Packages\\PythonSoftwareFoundation.Python.3.11_qbz5n2kfra8p0\\LocalCache\\local-packages\\Python311\\site-packages\\selenium\\webdriver\\remote\\webdriver.py:741\u001b[0m, in \u001b[0;36mWebDriver.find_element\u001b[1;34m(self, by, value)\u001b[0m\n\u001b[0;32m    738\u001b[0m     by \u001b[38;5;241m=\u001b[39m By\u001b[38;5;241m.\u001b[39mCSS_SELECTOR\n\u001b[0;32m    739\u001b[0m     value \u001b[38;5;241m=\u001b[39m \u001b[38;5;124mf\u001b[39m\u001b[38;5;124m'\u001b[39m\u001b[38;5;124m[name=\u001b[39m\u001b[38;5;124m\"\u001b[39m\u001b[38;5;132;01m{\u001b[39;00mvalue\u001b[38;5;132;01m}\u001b[39;00m\u001b[38;5;124m\"\u001b[39m\u001b[38;5;124m]\u001b[39m\u001b[38;5;124m'\u001b[39m\n\u001b[1;32m--> 741\u001b[0m \u001b[38;5;28;01mreturn\u001b[39;00m \u001b[38;5;28;43mself\u001b[39;49m\u001b[38;5;241;43m.\u001b[39;49m\u001b[43mexecute\u001b[49m\u001b[43m(\u001b[49m\u001b[43mCommand\u001b[49m\u001b[38;5;241;43m.\u001b[39;49m\u001b[43mFIND_ELEMENT\u001b[49m\u001b[43m,\u001b[49m\u001b[43m \u001b[49m\u001b[43m{\u001b[49m\u001b[38;5;124;43m\"\u001b[39;49m\u001b[38;5;124;43musing\u001b[39;49m\u001b[38;5;124;43m\"\u001b[39;49m\u001b[43m:\u001b[49m\u001b[43m \u001b[49m\u001b[43mby\u001b[49m\u001b[43m,\u001b[49m\u001b[43m \u001b[49m\u001b[38;5;124;43m\"\u001b[39;49m\u001b[38;5;124;43mvalue\u001b[39;49m\u001b[38;5;124;43m\"\u001b[39;49m\u001b[43m:\u001b[49m\u001b[43m \u001b[49m\u001b[43mvalue\u001b[49m\u001b[43m}\u001b[49m\u001b[43m)\u001b[49m[\u001b[38;5;124m\"\u001b[39m\u001b[38;5;124mvalue\u001b[39m\u001b[38;5;124m\"\u001b[39m]\n",
      "File \u001b[1;32m~\\AppData\\Local\\Packages\\PythonSoftwareFoundation.Python.3.11_qbz5n2kfra8p0\\LocalCache\\local-packages\\Python311\\site-packages\\selenium\\webdriver\\remote\\webdriver.py:347\u001b[0m, in \u001b[0;36mWebDriver.execute\u001b[1;34m(self, driver_command, params)\u001b[0m\n\u001b[0;32m    345\u001b[0m response \u001b[38;5;241m=\u001b[39m \u001b[38;5;28mself\u001b[39m\u001b[38;5;241m.\u001b[39mcommand_executor\u001b[38;5;241m.\u001b[39mexecute(driver_command, params)\n\u001b[0;32m    346\u001b[0m \u001b[38;5;28;01mif\u001b[39;00m response:\n\u001b[1;32m--> 347\u001b[0m     \u001b[38;5;28;43mself\u001b[39;49m\u001b[38;5;241;43m.\u001b[39;49m\u001b[43merror_handler\u001b[49m\u001b[38;5;241;43m.\u001b[39;49m\u001b[43mcheck_response\u001b[49m\u001b[43m(\u001b[49m\u001b[43mresponse\u001b[49m\u001b[43m)\u001b[49m\n\u001b[0;32m    348\u001b[0m     response[\u001b[38;5;124m\"\u001b[39m\u001b[38;5;124mvalue\u001b[39m\u001b[38;5;124m\"\u001b[39m] \u001b[38;5;241m=\u001b[39m \u001b[38;5;28mself\u001b[39m\u001b[38;5;241m.\u001b[39m_unwrap_value(response\u001b[38;5;241m.\u001b[39mget(\u001b[38;5;124m\"\u001b[39m\u001b[38;5;124mvalue\u001b[39m\u001b[38;5;124m\"\u001b[39m, \u001b[38;5;28;01mNone\u001b[39;00m))\n\u001b[0;32m    349\u001b[0m     \u001b[38;5;28;01mreturn\u001b[39;00m response\n",
      "File \u001b[1;32m~\\AppData\\Local\\Packages\\PythonSoftwareFoundation.Python.3.11_qbz5n2kfra8p0\\LocalCache\\local-packages\\Python311\\site-packages\\selenium\\webdriver\\remote\\errorhandler.py:229\u001b[0m, in \u001b[0;36mErrorHandler.check_response\u001b[1;34m(self, response)\u001b[0m\n\u001b[0;32m    227\u001b[0m         alert_text \u001b[38;5;241m=\u001b[39m value[\u001b[38;5;124m\"\u001b[39m\u001b[38;5;124malert\u001b[39m\u001b[38;5;124m\"\u001b[39m]\u001b[38;5;241m.\u001b[39mget(\u001b[38;5;124m\"\u001b[39m\u001b[38;5;124mtext\u001b[39m\u001b[38;5;124m\"\u001b[39m)\n\u001b[0;32m    228\u001b[0m     \u001b[38;5;28;01mraise\u001b[39;00m exception_class(message, screen, stacktrace, alert_text)  \u001b[38;5;66;03m# type: ignore[call-arg]  # mypy is not smart enough here\u001b[39;00m\n\u001b[1;32m--> 229\u001b[0m \u001b[38;5;28;01mraise\u001b[39;00m exception_class(message, screen, stacktrace)\n",
      "\u001b[1;31mInvalidSelectorException\u001b[0m: Message: invalid selector\nfrom javascript error: {\"status\":32,\"value\":\"An invalid or illegal selector was specified\"}\n  (Session info: chrome=129.0.6668.90); For documentation on this error, please visit: https://www.selenium.dev/documentation/webdriver/troubleshooting/errors#invalid-selector-exception\nStacktrace:\n\tGetHandleVerifier [0x00007FF66DE3B095+29557]\n\t(No symbol) [0x00007FF66DDAFA50]\n\t(No symbol) [0x00007FF66DC6B56A]\n\t(No symbol) [0x00007FF66DC7213E]\n\t(No symbol) [0x00007FF66DC744B7]\n\t(No symbol) [0x00007FF66DC74570]\n\t(No symbol) [0x00007FF66DCBF20F]\n\t(No symbol) [0x00007FF66DCBF8EC]\n\t(No symbol) [0x00007FF66DD0B777]\n\t(No symbol) [0x00007FF66DCE71CF]\n\t(No symbol) [0x00007FF66DD0851C]\n\t(No symbol) [0x00007FF66DCE6F33]\n\t(No symbol) [0x00007FF66DCB116F]\n\t(No symbol) [0x00007FF66DCB22D1]\n\tGetHandleVerifier [0x00007FF66E16C96D+3378253]\n\tGetHandleVerifier [0x00007FF66E1B8497+3688311]\n\tGetHandleVerifier [0x00007FF66E1AD1CB+3642539]\n\tGetHandleVerifier [0x00007FF66DEFA6B6+813462]\n\t(No symbol) [0x00007FF66DDBAB5F]\n\t(No symbol) [0x00007FF66DDB6B74]\n\t(No symbol) [0x00007FF66DDB6D10]\n\t(No symbol) [0x00007FF66DDA5C1F]\n\tBaseThreadInitThunk [0x00007FFB9146257D+29]\n\tRtlUserThreadStart [0x00007FFB9296AF08+40]\n"
     ]
    }
   ],
   "source": [
    "busqueda=input(\"Escribe lo que quieres buscar ej pantalones: \").lower()\n",
    "\n",
    "driver = webdriver.Chrome()\n",
    "\n",
    "url_deportes_moya= \"https://deportesmoya.es/?gad_source=1&gclid=Cj0KCQjwyL24BhCtARIsALo0fSCyccgwHbgC7zydOxiOXbdwf7yFjJNhVz1G5GDmI1NOcTojfJ8eIRgaAq1kEALw_wcB\"\n",
    "driver.get(url_deportes_moya)\n",
    "\n",
    "driver.maximize_window()\n",
    "\n",
    "try:\n",
    "    sleep(3)\n",
    "    driver.find_element(\"css selector\",\"#soycontrolcookies > div.soycontrolcookies_header > div.soycontrolcookies_buttons > button.btn.btn-default.reject-button\").click()\n",
    "    sleep(3)\n",
    "    driver.find_element(\"css selector\", \"#search_widget > form > input.ui-autocomplete-input\").click()\n",
    "    sleep(3)\n",
    "    driver.find_element(\"css selector\", \"#ecommfinder_searchbox\").click()\n",
    "    sleep(3)\n",
    "    driver.find_element(\"css selector\", \"#ecommfinder_searchbox\").send_keys(busqueda)\n",
    "except:\n",
    "    print(\"Da error\")\n",
    "df_final=pd.DataFrame()\n",
    "lista_url= []\n",
    "for numero in range(1, 7):\n",
    "    sleep(3)\n",
    "\n",
    "    nombre_url= driver.find_element(\"css selector\", \"#ecommfinder_results > a:nth-child({numero})\").get_attribute(\"href\") #esto es un selector concreto para conseguir un articulo concreto habrá que usar por no son iguales\n",
    "    lista_url.append(nombre_url)\n",
    "    \n",
    "    for url in lista_url:\n",
    "        res=requests.get(url)\n",
    "        sopa= BeautifulSoup(res.content, \"html.parser\")\n",
    "        nombre= sopa.find(\"h1\",{\"class\":\"h1\"}).get_text()\n",
    "        print(nombre)\n",
    "        \n",
    "        precio_rebajado= sopa.find(\"span\",{\"class\":\"price\"}).get_text()\n",
    "        precio_original= sopa.find(\"span\",{\"class\":\"regular-price\"})\n",
    "        talla= sopa.find_all(\"span\", {\"class\": \"radio-label\"}) \n",
    "        descripcion= sopa.find(\"section\", {\"class\": \"product-description\"})  \n",
    "\n",
    "    # sleep(3)\n",
    "    # driver.find_element(\"css selector\", \"#ecommfinder_results > a:nth-child(1) > img\").click()\n",
    "    \n",
    "\n"
   ]
  },
  {
   "cell_type": "code",
   "execution_count": 10,
   "metadata": {},
   "outputs": [],
   "source": [
    "lista_url= []\n",
    "for url in lista_url:\n",
    "    res=requests.get(url)\n",
    "    sopa= BeautifulSoup(res.content, \"html.parser\")\n",
    "    nombre= sopa.find(\"h1\",{\"class\":\"h1\"}).get_text()\n",
    "    print(nombre)\n",
    "\n",
    "    #Esta forma es para no tener que poner try y except con cada find\n",
    "    dicc_result= {\"precio_original\": [], \"precio_rebajado\": [], \"talla\": [], \"descripcion\": [] }\n",
    "\n",
    "    dicc_busqueda={\"precio_original\": lambda e: sopa.find(\"span\",{\"class\":\"regular-price\"}).text,\n",
    "                   \"precio_rebajado\": lambda e:sopa.find(\"span\",{\"class\":\"price\"}).text,\n",
    "                    \"talla\": lambda e: [tal.text for tal in sopa.find_all(\"span\", {\"class\": \"radio-label\"})],\n",
    "                    \"descripcion\": lambda e: sopa.find(\"section\", {\"class\": \"product-description\"}).find_all(\"div\")[1].text }\n",
    "\n",
    "    for clave,funcion in dicc_busqueda.items():\n",
    "        try:\n",
    "            dicc_result[clave].append(funcion(sopa))\n",
    "        except:\n",
    "            dicc_result[clave].append(np.nan)    \n",
    "\n",
    "#ESTO ES LO QUE PONER SI NO SE USA EL DICC PARA HACER LOS TRY EXCEPT\n",
    "\n",
    "    # try:\n",
    "    #   precio_rebajado= sopa.find(\"span\",{\"class\":\"price\"}).text\n",
    "    # except:\n",
    "    #   precio_rebajado= np.nan\n",
    "    # precio_original= sopa.find(\"span\",{\"class\":\"regular-price\"}).text\n",
    "    # talla= [tal.text for tal in sopa.find_all(\"span\", {\"class\": \"radio-label\"})] #iteramos directamente para que cada talla la haga texto \n",
    "    # descripcion= sopa.find(\"section\", {\"class\": \"product-description\"}).find_all(\"div\")[1].text  #Buscamos dentro del box más grande y luego la posición 1 (2º) que es donde está la descripcción "
   ]
  },
  {
   "cell_type": "code",
   "execution_count": 8,
   "metadata": {},
   "outputs": [],
   "source": [
    "# driver.back()    #esto es para volver para atrás a la pagina principal y habría que repetirlo todo lo q es ineficaz SE PUEDE MEZCLAR SELENIUM CON BEAUTY SOUP\n",
    "\n",
    "\n",
    "\n",
    "    # pantalon=nombre.text \n",
    "    # df= pd.DataFrame({\"pantalones\": pantalon}, index= [0])\n",
    "    # df_final=pd.concat([df_final,df])\n",
    "# df_final[\"pantalones\"].str.split(\"\\n\", expand= True)"
   ]
  },
  {
   "cell_type": "markdown",
   "metadata": {},
   "source": [
    "Como las cajas no son exactamente iguales no podemos hacer un find_all con lo que hay que hacer un for"
   ]
  },
  {
   "cell_type": "code",
   "execution_count": null,
   "metadata": {},
   "outputs": [],
   "source": [
    "#ecommfinder_results > a:nth-child(1)\n",
    "#ecommfinder_results > a:nth-child(2)"
   ]
  },
  {
   "cell_type": "markdown",
   "metadata": {},
   "source": [
    "Como hacer scroll(para que si la web va cargando nuevos resultados segun vas bajando nos busque)(si la web me muetsra todo desde el principio no hace falta)"
   ]
  },
  {
   "cell_type": "code",
   "execution_count": null,
   "metadata": {},
   "outputs": [],
   "source": [
    "driver = webdriver.Chrome()\n",
    "url_deportes_moya= \"https://deportesmoya.es/?gad_source=1&gclid=Cj0KCQjwyL24BhCtARIsALo0fSCyccgwHbgC7zydOxiOXbdwf7yFjJNhVz1G5GDmI1NOcTojfJ8eIRgaAq1kEALw_wcB\"\n",
    "driver.get(url_deportes_moya)\n",
    "\n",
    "sleep(6)\n",
    "driver.execute_script(\"window.scrollTo(0,1000)\")            #Esto hace que scrollee pero en algun punto quiero que pare"
   ]
  }
 ],
 "metadata": {
  "kernelspec": {
   "display_name": "Python 3",
   "language": "python",
   "name": "python3"
  },
  "language_info": {
   "codemirror_mode": {
    "name": "ipython",
    "version": 3
   },
   "file_extension": ".py",
   "mimetype": "text/x-python",
   "name": "python",
   "nbconvert_exporter": "python",
   "pygments_lexer": "ipython3",
   "version": "3.11.9"
  }
 },
 "nbformat": 4,
 "nbformat_minor": 2
}
