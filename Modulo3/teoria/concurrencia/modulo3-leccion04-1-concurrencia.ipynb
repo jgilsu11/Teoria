{
 "cells": [
  {
   "cell_type": "markdown",
   "metadata": {},
   "source": [
    "<div style=\"text-align: center;\">\n",
    "  <img src=\"https://github.com/Hack-io-Data/Imagenes/blob/main/01-LogosHackio/logo_naranja@4x.png?raw=true\" alt=\"esquema\" />\n",
    "</div>\n",
    "\n",
    "\n",
    "# Introducción a la concurrencia y los procesos síncronos y asíncronos:\n",
    "\n",
    "- **Concurrencia**: Es la capacidad de un sistema para ejecutar múltiples tareas de manera **intercalada**. En un programa concurrente, varias tareas pueden avanzar de manera alternada, compartiendo tiempo de CPU, aunque no se ejecuten necesariamente al mismo tiempo.\n",
    "  \n",
    "- **Procesos síncronos**: En un sistema síncrono, las tareas se ejecutan una tras otra. Cada operación debe esperar a que la anterior termine antes de comenzar, lo que puede llevar a tiempos muertos o ineficiencias, especialmente cuando se realizan operaciones que involucran tiempos de espera, como la lectura de archivos o el acceso a la red.\n",
    "\n",
    "- **Procesos asíncronos**: En un sistema asíncrono, las tareas no tienen que esperar a que otras terminen para avanzar. Mientras una tarea se encuentra en una operación de espera (como una solicitud web), otras pueden continuar ejecutándose. Esto mejora la eficiencia, ya que el programa no se \"detiene\" en cada operación.\n"
   ]
  },
  {
   "cell_type": "markdown",
   "metadata": {},
   "source": [
    "\n",
    "### 1. Multihilo (Concurrencia con hilos)\n",
    "\n",
    "- **Uso de hilos**: Se crean múltiples hilos del sistema operativo dentro de un mismo proceso. Cada hilo puede ejecutar tareas concurrentemente, pero comparten el mismo espacio de memoria.\n",
    "- **Concurrencia real**: Los hilos permiten que varias tareas se ejecuten de manera \"concurrente\", alternando rápidamente entre ellas. Sin embargo, en sistemas de un solo núcleo, solo uno de los hilos se ejecuta a la vez (lo que se percibe como simultaneidad). Si hay varios núcleos, los hilos pueden ejecutarse en paralelo.\n",
    "- **Bloqueo**: Los hilos pueden ser interrumpidos si encuentran operaciones bloqueantes, como `time.sleep()` o llamadas a servicios externos. En este caso, el sistema puede continuar ejecutando otros hilos mientras uno está bloqueado.\n",
    "- **Ideal para**: Operaciones intensivas en **CPU** (como cálculos complejos o procesamiento paralelo de datos) o donde se necesita dividir el trabajo entre varias tareas concurrentes.\n",
    "\n",
    "### 2. Concurrencia Asíncrona (async/await)\n",
    "\n",
    "- **Uso de tareas asíncronas**: No crea hilos adicionales. En lugar de eso, se ejecuta todo dentro de un solo hilo, pero utiliza la capacidad de las tareas asíncronas para evitar el bloqueo del programa.\n",
    "- **No bloqueante**: En la concurrencia asíncrona, cuando una tarea necesita esperar (como cuando realiza una operación de entrada/salida), el programa no se bloquea; en su lugar, el control se cede a otra tarea, lo que permite que otras operaciones se ejecuten mientras se espera.\n",
    "- **Más eficiente en recursos**: Dado que no crea múltiples hilos ni procesos, el uso de **async/await** es más eficiente en cuanto a recursos, especialmente para tareas que dependen de la espera, como solicitudes a servidores, acceso a archivos o conexiones de red.\n",
    "- **Ideal para**: Operaciones **I/O intensivas** (como solicitudes a APIs, lectura/escritura en archivos, conexiones de red), donde la mayor parte del tiempo se dedica a esperar respuestas en lugar de procesar datos intensivamente.\n",
    "\n",
    "### 3. Paralelismo (Multiprocessing)\n",
    "\n",
    "- **Uso de procesos independientes**: Crea múltiples procesos que se ejecutan en paralelo, cada uno con su propio espacio de memoria independiente. Esto es diferente a los hilos, ya que cada proceso tiene su propia copia de la memoria, lo que evita muchos de los problemas de sincronización, pero hace que la comunicación entre procesos sea más costosa.\n",
    "- **Ejecución real en paralelo**: En `multiprocessing`, los procesos pueden ejecutarse **simultáneamente** en diferentes núcleos de CPU. A diferencia de los hilos, que pueden ser concurrentes pero no necesariamente paralelos, los procesos de `multiprocessing` realmente se ejecutan al mismo tiempo en núcleos separados (si el hardware lo permite).\n",
    "- **Alto consumo de recursos**: Crear procesos completos para cada tarea consume más recursos que los hilos o las tareas asíncronas, ya que cada proceso tiene su propio espacio de memoria y contexto.\n",
    "- **Ideal para**: Operaciones intensivas en **CPU** que requieren **procesamiento paralelo real**, como cálculos científicos, procesamiento de imágenes, o trabajos que necesitan aprovechar completamente los múltiples núcleos de CPU.\n",
    "\n",
    "### Resumen de Diferencias:\n",
    "\n",
    "| Característica                 | **Multihilo (Concurrencia)** | **Concurrencia Asíncrona (async/await)** | **Paralelismo (Multiprocessing)**  |\n",
    "|--------------------------------|-------------------------------|------------------------------------------|-----------------------------------|\n",
    "| **Uso de hilos/procesos**       | Múltiples hilos dentro de un solo proceso. | Un solo hilo, sin crear hilos o procesos adicionales. | Múltiples procesos independientes. |\n",
    "| **Simultaneidad real**          | Puede ser concurrente o paralelo (dependiendo del número de núcleos). | No hay simultaneidad real, sino alternancia entre tareas. | Paralelismo real (si hay varios núcleos disponibles). |\n",
    "| **Bloqueo**                    | Los hilos pueden bloquearse, pero otros hilos pueden seguir ejecutándose. | Las tareas asíncronas no bloquean, se espera sin detener el programa. | Los procesos se ejecutan en paralelo, cada uno de manera independiente. |\n",
    "| **Eficiencia de recursos**      | Moderado, depende del número de hilos. | Muy eficiente, ya que no crea hilos adicionales. | Menos eficiente, ya que los procesos son más pesados que los hilos. |\n",
    "| **Ideal para**                 | Tareas intensivas de CPU que pueden ser concurrentes. | Tareas intensivas de I/O (redes, archivos, APIs). | Tareas que requieren uso intensivo de CPU y paralelismo real. |\n",
    "| **Comunicación entre tareas**   | Comparten memoria, lo que facilita la comunicación, pero puede ser riesgoso por condiciones de carrera. | No hay necesidad de comunicación entre tareas, ya que todo ocurre en un solo hilo. | La comunicación entre procesos es más compleja, pero evita problemas de sincronización. |\n",
    "| **Escenarios ideales**          | Cálculos complejos, procesamiento de datos. | Conexiones de red, solicitudes a APIs, lectura de archivos. | Procesamiento intensivo que aprovecha múltiples núcleos de CPU. |\n",
    "\n",
    "### Comparación de escenarios:\n",
    "\n",
    "- **Multihilo**: Imagina que tienes que procesar varias imágenes. Puedes dividir el procesamiento de cada imagen en diferentes hilos, permitiendo que los cálculos se realicen concurrentemente en un solo núcleo, o en paralelo si tienes varios núcleos disponibles.\n",
    "  \n",
    "- **Concurrencia Asíncrona**: Supongamos que tienes que hacer múltiples solicitudes a diferentes APIs. Con `asyncio`, puedes enviar todas las solicitudes al mismo tiempo y continuar ejecutando otras partes del programa mientras esperas las respuestas, sin bloquear el hilo principal.\n",
    "\n",
    "- **Paralelismo (Multiprocessing)**: Si tienes que entrenar varios modelos de machine learning pesados, puedes usar `multiprocessing` para entrenar varios modelos al mismo tiempo, utilizando cada núcleo del procesador para una tarea diferente.\n",
    "\n",
    "### Conclusión:\n",
    "\n",
    "- Usa **multihilos** para dividir tareas en hilos cuando necesitas **concurrencia**, pero no necesariamente paralelismo real.\n",
    "- Usa **async/await** cuando tu programa tiene muchas operaciones **I/O intensivas** (como redes o acceso a archivos) y necesitas manejar múltiples tareas sin bloquear el flujo del programa.\n",
    "- Usa **multiprocessing** cuando necesites **paralelismo real** en operaciones intensivas de **CPU**, como cálculos o procesamiento de grandes volúmenes de datos en diferentes núcleos.\n"
   ]
  },
  {
   "cell_type": "markdown",
   "metadata": {},
   "source": []
  }
 ],
 "metadata": {
  "language_info": {
   "name": "python"
  }
 },
 "nbformat": 4,
 "nbformat_minor": 2
}
