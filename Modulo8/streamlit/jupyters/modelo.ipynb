{
 "cells": [
  {
   "cell_type": "code",
   "execution_count": 2,
   "metadata": {},
   "outputs": [],
   "source": [
    "import pandas as pd\n",
    "import numpy as np\n",
    "import pickle\n",
    "from sklearn.ensemble import RandomForestRegressor\n",
    "from sklearn.model_selection import train_test_split\n",
    "from sklearn.preprocessing import StandardScaler\n",
    "from sklearn.metrics import mean_squared_error\n",
    "from category_encoders import TargetEncoder\n"
   ]
  },
  {
   "cell_type": "code",
   "execution_count": 3,
   "metadata": {},
   "outputs": [],
   "source": [
    "# Crear un conjunto de datos ficticio\n",
    "import pandas as pd\n",
    "\n",
    "data = pd.DataFrame({\n",
    "    'Neighborhood': ['A', 'D', 'A', 'B', 'B', 'D', 'A', 'C', 'D', 'B',\n",
    "                     'A', 'C', 'C', 'A', 'C', 'D', 'B', 'A', 'D', 'C',\n",
    "                     'A', 'D', 'D', 'A', 'A', 'D', 'B', 'D', 'C', 'D',\n",
    "                     'B', 'B', 'A', 'C', 'B', 'C', 'D', 'D', 'B', 'D',\n",
    "                     'A', 'B', 'B', 'D', 'C', 'A', 'A', 'D', 'D', 'D',\n",
    "                     'B', 'D', 'D', 'B', 'B', 'C', 'D', 'B', 'D', 'A',\n",
    "                     'C', 'A', 'A', 'C', 'B', 'D', 'A', 'B', 'D', 'D',\n",
    "                     'D', 'B', 'C', 'A', 'C', 'A', 'D', 'D', 'C', 'C',\n",
    "                     'D', 'A', 'D', 'D', 'C', 'B', 'A', 'C', 'B', 'A',\n",
    "                     'A', 'C', 'B', 'C', 'A', 'A', 'D', 'B', 'C', 'A'],\n",
    "    'HouseType': ['Detached', 'Semi-Detached', 'Detached', 'Semi-Detached', 'Detached', \n",
    "                  'Detached', 'Detached', 'Detached', 'Semi-Detached', 'Semi-Detached',\n",
    "                  'Detached', 'Detached', 'Detached', 'Detached', 'Semi-Detached', 'Detached',\n",
    "                  'Detached', 'Semi-Detached', 'Detached', 'Semi-Detached', 'Detached', \n",
    "                  'Detached', 'Detached', 'Semi-Detached', 'Semi-Detached', 'Detached', \n",
    "                  'Semi-Detached', 'Detached', 'Detached', 'Semi-Detached', 'Detached',\n",
    "                  'Semi-Detached', 'Detached', 'Detached', 'Semi-Detached', 'Detached',\n",
    "                  'Detached', 'Detached', 'Semi-Detached', 'Detached', 'Semi-Detached',\n",
    "                  'Detached', 'Detached', 'Semi-Detached', 'Detached', 'Detached',\n",
    "                  'Detached', 'Detached', 'Semi-Detached', 'Detached', 'Detached',\n",
    "                  'Semi-Detached', 'Detached', 'Detached', 'Semi-Detached', 'Detached',\n",
    "                  'Detached', 'Semi-Detached', 'Detached', 'Detached', 'Detached',\n",
    "                  'Detached', 'Detached', 'Semi-Detached', 'Detached', 'Detached',\n",
    "                  'Semi-Detached', 'Semi-Detached', 'Detached', 'Detached', 'Detached',\n",
    "                  'Detached', 'Semi-Detached', 'Detached', 'Detached', 'Detached',\n",
    "                  'Semi-Detached', 'Detached', 'Detached', 'Semi-Detached', 'Detached',\n",
    "                  'Detached', 'Detached', 'Semi-Detached', 'Detached', 'Detached',\n",
    "                  'Detached', 'Detached', 'Detached', 'Semi-Detached', 'Detached',\n",
    "                  'Detached', 'Semi-Detached', 'Detached', 'Detached', 'Detached', \n",
    "                  'Semi-Detached', 'Detached', 'Detached', 'Detached'],\n",
    "    'Rooms':[4, 3, 3, 5, 4, 2, 1, 4, 5, 4, 4, 3, 2, 3, 4, 4, 3, 5, 1, 3,\n",
    "              5, 5, 3, 1, 3, 5, 1, 2, 5, 3, 3, 1, 5, 5, 5, 5, 1, 2, 1, 2,\n",
    "              4, 1, 1, 5, 2, 3, 2, 4, 5, 3, 5, 1, 1, 5, 1, 3, 4, 5, 5, 3,\n",
    "              3, 4, 5, 1, 1, 2, 5, 5, 5, 1, 3, 1, 5, 2, 5, 2, 4, 1, 4, 2,\n",
    "              4, 4, 4, 5, 2, 2, 3, 3, 5, 3, 2, 4, 4, 2, 3, 4, 5, 2, 3, 5],\n",
    "    'Area': [289, 235, 120, 146, 202, 188, 141, 113, 224, 207, 277, 165, 200, 115,\n",
    "             219, 108, 215, 289, 226, 102, 252, 168, 251, 215, 175, 175, 187, 194,\n",
    "             112, 186, 175, 240, 211, 120, 219, 208, 292, 151, 174, 101, 210, 209,\n",
    "             156, 180, 114, 240, 191, 216, 283, 136, 246, 109, 280, 232, 130, 207,\n",
    "             223, 205, 157, 132, 250, 220, 227, 162, 173, 240, 156, 252, 159, 255,\n",
    "             147, 125, 276, 105, 216, 133, 167, 217, 195, 195, 123, 211, 139, 224,\n",
    "             191, 225, 156, 213, 197, 147, 152, 131, 138, 207, 277, 239, 145, 163,\n",
    "             239, 266],\n",
    "    'Price': [225352.32, 324190.49, 262504.68, 295580.95, 332102.36, 245951.44, 224914.83,\n",
    "              336520.26, 321236.73, 287879.16, 317723.04, 306156.11, 270238.67, 299413.08,\n",
    "              319421.08, 268359.88, 346201.59, 340315.16, 238706.15, 299056.01, 336708.18,\n",
    "              356620.58, 328231.67, 269540.25, 252309.97, 282879.77, 243694.78, 295469.01,\n",
    "              256320.52, 326920.84, 243365.79, 303975.82, 247512.71, 307284.32, 234563.89,\n",
    "              286990.17, 270790.79, 296104.24, 330403.16, 257456.09, 232073.82, 289805.16,\n",
    "              326912.18, 237607.43, 232543.04, 329580.67, 240105.67, 338209.13, 250312.47,\n",
    "              339079.06, 332476.85, 262679.92, 229480.36, 281903.43, 316504.32, 285476.91,\n",
    "              266402.41, 336205.68, 253214.62, 267204.65, 280479.09, 304890.09, 297890.02,\n",
    "              255782.15, 243980.36, 238490.68, 343890.36, 256420.94, 318502.49, 330706.38,\n",
    "              284320.58, 280604.17, 333602.89, 260402.48, 232405.67, 281500.63, 309502.93,\n",
    "              342304.69, 283907.17, 331904.37, 323907.89, 261304.38, 263904.73, 324903.56,\n",
    "              300803.42, 276803.89, 342804.94, 248304.16, 299306.78, 320504.36, 242905.73, \n",
    "              270790.79, 296104.24, 330403.16, 257456.09, 262504.68, 295580.95, 332102.36, \n",
    "              245951.44, 224914.83 ]\n",
    "\n",
    "})\n",
    "\n",
    "\n",
    "# Separar características y target\n",
    "X = data.drop(columns=['Price'])\n",
    "y = data['Price']\n"
   ]
  },
  {
   "cell_type": "code",
   "execution_count": 8,
   "metadata": {},
   "outputs": [
    {
     "data": {
      "text/html": [
       "<div>\n",
       "<style scoped>\n",
       "    .dataframe tbody tr th:only-of-type {\n",
       "        vertical-align: middle;\n",
       "    }\n",
       "\n",
       "    .dataframe tbody tr th {\n",
       "        vertical-align: top;\n",
       "    }\n",
       "\n",
       "    .dataframe thead th {\n",
       "        text-align: right;\n",
       "    }\n",
       "</style>\n",
       "<table border=\"1\" class=\"dataframe\">\n",
       "  <thead>\n",
       "    <tr style=\"text-align: right;\">\n",
       "      <th></th>\n",
       "      <th>Neighborhood</th>\n",
       "      <th>HouseType</th>\n",
       "      <th>Rooms</th>\n",
       "      <th>Area</th>\n",
       "      <th>Price</th>\n",
       "    </tr>\n",
       "  </thead>\n",
       "  <tbody>\n",
       "    <tr>\n",
       "      <th>0</th>\n",
       "      <td>A</td>\n",
       "      <td>Detached</td>\n",
       "      <td>4</td>\n",
       "      <td>289</td>\n",
       "      <td>225352.32</td>\n",
       "    </tr>\n",
       "    <tr>\n",
       "      <th>1</th>\n",
       "      <td>D</td>\n",
       "      <td>Semi-Detached</td>\n",
       "      <td>3</td>\n",
       "      <td>235</td>\n",
       "      <td>324190.49</td>\n",
       "    </tr>\n",
       "    <tr>\n",
       "      <th>2</th>\n",
       "      <td>A</td>\n",
       "      <td>Detached</td>\n",
       "      <td>3</td>\n",
       "      <td>120</td>\n",
       "      <td>262504.68</td>\n",
       "    </tr>\n",
       "    <tr>\n",
       "      <th>3</th>\n",
       "      <td>B</td>\n",
       "      <td>Semi-Detached</td>\n",
       "      <td>5</td>\n",
       "      <td>146</td>\n",
       "      <td>295580.95</td>\n",
       "    </tr>\n",
       "    <tr>\n",
       "      <th>4</th>\n",
       "      <td>B</td>\n",
       "      <td>Detached</td>\n",
       "      <td>4</td>\n",
       "      <td>202</td>\n",
       "      <td>332102.36</td>\n",
       "    </tr>\n",
       "  </tbody>\n",
       "</table>\n",
       "</div>"
      ],
      "text/plain": [
       "  Neighborhood      HouseType  Rooms  Area      Price\n",
       "0            A       Detached      4   289  225352.32\n",
       "1            D  Semi-Detached      3   235  324190.49\n",
       "2            A       Detached      3   120  262504.68\n",
       "3            B  Semi-Detached      5   146  295580.95\n",
       "4            B       Detached      4   202  332102.36"
      ]
     },
     "execution_count": 8,
     "metadata": {},
     "output_type": "execute_result"
    }
   ],
   "source": [
    "data.head()"
   ]
  },
  {
   "cell_type": "markdown",
   "metadata": {},
   "source": [
    "# Preprocesado"
   ]
  },
  {
   "cell_type": "code",
   "execution_count": 4,
   "metadata": {},
   "outputs": [],
   "source": [
    "# Separamos los datos segun el tipo de variable\n",
    "categorical_columns = X.select_dtypes(include='object').columns\n",
    "numerical_columns = X.select_dtypes(include=np.number).columns\n",
    "\n",
    "# Hacemos la gestion de las variables categoricas\n",
    "target_encoder = TargetEncoder(cols=categorical_columns)\n",
    "X_encoded = target_encoder.fit_transform(X, y)\n",
    "\n",
    "# Escalamos las variables\n",
    "scaler = StandardScaler()\n",
    "X_encoded[numerical_columns] = scaler.fit_transform(X_encoded[numerical_columns])\n",
    "\n",
    "# Guardar los transformadores (TargetEncoder y StandardScaler)\n",
    "with open('target_encoder.pkl', 'wb') as f:\n",
    "    pickle.dump(target_encoder, f)\n",
    "\n",
    "with open('scaler.pkl', 'wb') as f:\n",
    "    pickle.dump(scaler, f)\n"
   ]
  },
  {
   "cell_type": "markdown",
   "metadata": {},
   "source": [
    "# Modelo"
   ]
  },
  {
   "cell_type": "code",
   "execution_count": 6,
   "metadata": {},
   "outputs": [
    {
     "name": "stdout",
     "output_type": "stream",
     "text": [
      "Precio real vs Predicción:\n"
     ]
    },
    {
     "data": {
      "text/html": [
       "<div>\n",
       "<style scoped>\n",
       "    .dataframe tbody tr th:only-of-type {\n",
       "        vertical-align: middle;\n",
       "    }\n",
       "\n",
       "    .dataframe tbody tr th {\n",
       "        vertical-align: top;\n",
       "    }\n",
       "\n",
       "    .dataframe thead th {\n",
       "        text-align: right;\n",
       "    }\n",
       "</style>\n",
       "<table border=\"1\" class=\"dataframe\">\n",
       "  <thead>\n",
       "    <tr style=\"text-align: right;\">\n",
       "      <th></th>\n",
       "      <th>Real</th>\n",
       "      <th>Predicción</th>\n",
       "    </tr>\n",
       "  </thead>\n",
       "  <tbody>\n",
       "    <tr>\n",
       "      <th>0</th>\n",
       "      <td>324903.56</td>\n",
       "      <td>316905.2514</td>\n",
       "    </tr>\n",
       "    <tr>\n",
       "      <th>1</th>\n",
       "      <td>281903.43</td>\n",
       "      <td>307955.3945</td>\n",
       "    </tr>\n",
       "  </tbody>\n",
       "</table>\n",
       "</div>"
      ],
      "text/plain": [
       "        Real   Predicción\n",
       "0  324903.56  316905.2514\n",
       "1  281903.43  307955.3945"
      ]
     },
     "metadata": {},
     "output_type": "display_data"
    },
    {
     "name": "stdout",
     "output_type": "stream",
     "text": [
      "\n",
      "RMSE: 42905.87\n"
     ]
    }
   ],
   "source": [
    "\n",
    "# Dividimos los datos en train y test\n",
    "X_train, X_test, y_train, y_test = train_test_split(X_encoded, y, test_size=0.8, random_state=42)\n",
    "\n",
    "# Entrenamos los datos.\n",
    "model = RandomForestRegressor(random_state=42)\n",
    "model.fit(X_train, y_train)\n",
    "\n",
    "# predecimos\n",
    "y_pred = model.predict(X_test)\n",
    "\n",
    "# calculamos el rmse\n",
    "rmse = np.sqrt(mean_squared_error(y_test, y_pred))\n",
    "\n",
    "print(\"Precio real vs Predicción:\")\n",
    "display(pd.DataFrame({'Real': y_test.values, 'Predicción': y_pred}).head(2))\n",
    "print(f\"\\nRMSE: {rmse:.2f}\")"
   ]
  },
  {
   "cell_type": "code",
   "execution_count": 7,
   "metadata": {},
   "outputs": [],
   "source": [
    "# guardo el modelo\n",
    "with open('random_forest_model.pkl', 'wb') as f:\n",
    "    pickle.dump(model, f)"
   ]
  },
  {
   "cell_type": "code",
   "execution_count": null,
   "metadata": {},
   "outputs": [],
   "source": []
  }
 ],
 "metadata": {
  "kernelspec": {
   "display_name": "contenido",
   "language": "python",
   "name": "python3"
  },
  "language_info": {
   "codemirror_mode": {
    "name": "ipython",
    "version": 3
   },
   "file_extension": ".py",
   "mimetype": "text/x-python",
   "name": "python",
   "nbconvert_exporter": "python",
   "pygments_lexer": "ipython3",
   "version": "3.11.8"
  }
 },
 "nbformat": 4,
 "nbformat_minor": 2
}
