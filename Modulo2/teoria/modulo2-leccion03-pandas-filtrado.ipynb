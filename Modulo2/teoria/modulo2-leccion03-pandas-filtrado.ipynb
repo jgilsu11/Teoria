{
 "cells": [
  {
   "cell_type": "markdown",
   "id": "cb927d83",
   "metadata": {},
   "source": [
    "<div style=\"text-align: center;\">\n",
    "  <img src=\"https://github.com/Hack-io-Data/Imagenes/blob/main/01-LogosHackio/logo_naranja@4x.png?raw=true\" alt=\"esquema\" />\n",
    "</div>"
   ]
  },
  {
   "cell_type": "markdown",
   "id": "5f5685e6",
   "metadata": {
    "toc": true
   },
   "source": [
    "<h1>Table of Contents<span class=\"tocSkip\"></span></h1>\n",
    "<div class=\"toc\"><ul class=\"toc-item\"><li><span><a href=\"#Filtrado-de-datos\" data-toc-modified-id=\"Filtrado-de-datos-1\"><span class=\"toc-item-num\">1&nbsp;&nbsp;</span>Filtrado de datos</a></span></li><li><span><a href=\"#Operadores-de-comparación\" data-toc-modified-id=\"Operadores-de-comparación-2\"><span class=\"toc-item-num\">2&nbsp;&nbsp;</span>Operadores de comparación</a></span></li><li><span><a href=\"#Método-.isin()\" data-toc-modified-id=\"Método-.isin()-3\"><span class=\"toc-item-num\">3&nbsp;&nbsp;</span>Método <code>.isin()</code></a></span></li><li><span><a href=\"#Método-.between()\" data-toc-modified-id=\"Método-.between()-4\"><span class=\"toc-item-num\">4&nbsp;&nbsp;</span>Método <code>.between()</code></a></span></li><li><span><a href=\"#Método-.str.contains()\" data-toc-modified-id=\"Método-.str.contains()-5\"><span class=\"toc-item-num\">5&nbsp;&nbsp;</span>Método <code>.str.contains()</code></a></span></li><li><span><a href=\"#Método-.filter()\" data-toc-modified-id=\"Método-.filter()-6\"><span class=\"toc-item-num\">6&nbsp;&nbsp;</span>Método <code>.filter()</code></a></span></li><li><span><a href=\"#Método-.query()\" data-toc-modified-id=\"Método-.query()-7\"><span class=\"toc-item-num\">7&nbsp;&nbsp;</span>Método <code>.query()</code></a></span></li><li><span><a href=\"#Método-.nlargest()\" data-toc-modified-id=\"Método-.nlargest()-8\"><span class=\"toc-item-num\">8&nbsp;&nbsp;</span>Método <code>.nlargest()</code></a></span></li><li><span><a href=\"#Método-.nsmallest()\" data-toc-modified-id=\"Método-.nsmallest()-9\"><span class=\"toc-item-num\">9&nbsp;&nbsp;</span>Método <code>.nsmallest()</code></a></span></li><li><span><a href=\"#Otras-formas-de-filtrado\" data-toc-modified-id=\"Otras-formas-de-filtrado-10\"><span class=\"toc-item-num\">10&nbsp;&nbsp;</span>Otras formas de filtrado</a></span></li><li><span><a href=\"#Resumen-de-los-métodos-aprendidos\" data-toc-modified-id=\"Resumen-de-los-métodos-aprendidos-11\"><span class=\"toc-item-num\">11&nbsp;&nbsp;</span>Resumen de los métodos aprendidos</a></span></li></ul></div>"
   ]
  },
  {
   "cell_type": "markdown",
   "id": "77ccf9ed",
   "metadata": {},
   "source": [
    "# Filtrado de datos\n",
    "\n",
    "El filtrado de datos es una etapa crucial en el proceso de limpieza de un DataFrame para los analistas de datos. Aquí explicamos la importancia del filtrado de datos:\n",
    "\n",
    "- **Eliminación de datos irrelevantes**: Los DataFrames pueden contener muchos datos irrelevantes para el análisis. El filtrado elimina filas o columnas no útiles, reduciendo el ruido y enfocándose en los datos importantes.\n",
    "\n",
    "- **Tratamiento de valores faltantes**: Los valores nulos son comunes en los conjuntos de datos. El filtrado nos va a permitir identificar y poder manejarlos para que nuestro análisis sea más robusto.  \n",
    "\n",
    "- **Filtrado por condiciones específicas**: A menudo, se necesita trabajar con subconjuntos de datos que cumplen ciertas condiciones. El filtrado selecciona filas que satisfacen criterios específicos, facilitando un análisis enfocado y preciso.\n",
    "\n",
    "En Pandas, hay métodos para filtrar datos:\n",
    "\n",
    "- **Operadores de comparación**: Se usan para crear condiciones de filtrado basadas en los valores de columnas.\n",
    "\n",
    "- **Método `isin()`**: Filtra filas según una lista de valores permitidos.\n",
    "\n",
    "- **Método `between()`**: Filtra filas en un rango de valores.\n",
    "\n",
    "- **Método `str.contains()`**: Filtra datos basados en la presencia de una subcadena en strings.\n",
    "\n",
    "- **Método `filter()`**: Selecciona columnas o filas que cumplen ciertas condiciones. Puede usarse para seleccionar columnas por nombre, por un patrón o por su índice.\n",
    "\n",
    "- **Método `query()`**: Realiza filtrado basado en condiciones expresadas como una cadena, como si fuera una query.\n",
    "\n",
    "- **Método `nlargest()`**: Selecciona las *n* filas con los valores más altos en una o varias columnas.\n",
    "\n",
    "- **Método `nsmallest()`**: Selecciona las *n* filas con los valores más bajos en una o varias columnas.\n",
    "\n",
    "- Otras formas de filtrado:\n",
    "\n",
    "    - **Métodos para filtrar nulos (`isnull()` / `notnull()`)**: Se utilizan para filtrar filas que contienen valores nulos o no nulos.\n",
    "\n",
    "    - **Métodos para filtrar duplicados (`duplicated()` / `drop_duplicates()`)**: Se usan para identificar y filtrar filas duplicadas."
   ]
  },
  {
   "cell_type": "code",
   "execution_count": 17,
   "id": "941c520e",
   "metadata": {},
   "outputs": [],
   "source": [
    "# Tratamiento de datos\n",
    "# -----------------------------------------------------------------------\n",
    "import pandas as pd\n",
    "import numpy as np\n",
    "\n",
    "\n",
    "# Configuración\n",
    "# -----------------------------------------------------------------------\n",
    "pd.set_option('display.max_columns', None) # para poder visualizar todas las columnas de los DataFrames\n"
   ]
  },
  {
   "cell_type": "code",
   "execution_count": 8,
   "id": "5382e6fb",
   "metadata": {},
   "outputs": [
    {
     "data": {
      "text/html": [
       "<div>\n",
       "<style scoped>\n",
       "    .dataframe tbody tr th:only-of-type {\n",
       "        vertical-align: middle;\n",
       "    }\n",
       "\n",
       "    .dataframe tbody tr th {\n",
       "        vertical-align: top;\n",
       "    }\n",
       "\n",
       "    .dataframe thead th {\n",
       "        text-align: right;\n",
       "    }\n",
       "</style>\n",
       "<table border=\"1\" class=\"dataframe\">\n",
       "  <thead>\n",
       "    <tr style=\"text-align: right;\">\n",
       "      <th></th>\n",
       "      <th>DistanceFromHome</th>\n",
       "      <th>Education</th>\n",
       "      <th>EducationField</th>\n",
       "      <th>Gender</th>\n",
       "      <th>MaritalStatus</th>\n",
       "      <th>Age</th>\n",
       "      <th>EmployeeId</th>\n",
       "      <th>DateEmployment</th>\n",
       "      <th>YearsInCurrentRole</th>\n",
       "      <th>YearsSinceLastPromotion</th>\n",
       "      <th>YearsWithCurrManager</th>\n",
       "      <th>TotalWorkingYears</th>\n",
       "      <th>Over18</th>\n",
       "      <th>NumCompaniesWorked</th>\n",
       "      <th>Country</th>\n",
       "      <th>Sons</th>\n",
       "      <th>Attrition</th>\n",
       "      <th>BusinessTravel</th>\n",
       "      <th>DailyRate</th>\n",
       "      <th>Department</th>\n",
       "      <th>EmployeeCount</th>\n",
       "      <th>HourlyRate</th>\n",
       "      <th>JobLevel</th>\n",
       "      <th>JobRole</th>\n",
       "      <th>MonthlyIncome</th>\n",
       "      <th>MonthlyRate</th>\n",
       "      <th>OverTime</th>\n",
       "      <th>PercentSalaryHike</th>\n",
       "      <th>StandardHours</th>\n",
       "      <th>StockOptionLevel</th>\n",
       "      <th>TrainingTimesLastYear</th>\n",
       "      <th>EnvironmentSatisfaction</th>\n",
       "      <th>JobInvolvement</th>\n",
       "      <th>JobSatisfaction</th>\n",
       "      <th>PerformanceRating</th>\n",
       "      <th>RelationshipSatisfaction</th>\n",
       "    </tr>\n",
       "  </thead>\n",
       "  <tbody>\n",
       "    <tr>\n",
       "      <th>0</th>\n",
       "      <td>21</td>\n",
       "      <td>Bachelor</td>\n",
       "      <td>Other</td>\n",
       "      <td>Male</td>\n",
       "      <td>Single</td>\n",
       "      <td>19</td>\n",
       "      <td>70b8db40-4f58-476f-8776-c00802b0cdb9</td>\n",
       "      <td>2000-01-13 02:53:47</td>\n",
       "      <td>14</td>\n",
       "      <td>0</td>\n",
       "      <td>0</td>\n",
       "      <td>1</td>\n",
       "      <td>NaN</td>\n",
       "      <td>1.0</td>\n",
       "      <td>Austria</td>\n",
       "      <td>1</td>\n",
       "      <td>Yes</td>\n",
       "      <td>Travel_Rarely</td>\n",
       "      <td>419.0</td>\n",
       "      <td>Sales</td>\n",
       "      <td>1</td>\n",
       "      <td>37</td>\n",
       "      <td>1</td>\n",
       "      <td>Sales Representative</td>\n",
       "      <td>2121</td>\n",
       "      <td>9947</td>\n",
       "      <td>Yes</td>\n",
       "      <td>13</td>\n",
       "      <td>80.0</td>\n",
       "      <td>0</td>\n",
       "      <td>3</td>\n",
       "      <td>Very High</td>\n",
       "      <td>Medium</td>\n",
       "      <td>Medium</td>\n",
       "      <td>Excellent</td>\n",
       "      <td>Medium</td>\n",
       "    </tr>\n",
       "  </tbody>\n",
       "</table>\n",
       "</div>"
      ],
      "text/plain": [
       "   DistanceFromHome Education EducationField Gender MaritalStatus  Age  \\\n",
       "0                21  Bachelor          Other   Male        Single   19   \n",
       "\n",
       "                             EmployeeId       DateEmployment  \\\n",
       "0  70b8db40-4f58-476f-8776-c00802b0cdb9  2000-01-13 02:53:47   \n",
       "\n",
       "   YearsInCurrentRole  YearsSinceLastPromotion  YearsWithCurrManager  \\\n",
       "0                  14                        0                     0   \n",
       "\n",
       "   TotalWorkingYears Over18  NumCompaniesWorked  Country  Sons Attrition  \\\n",
       "0                  1    NaN                 1.0  Austria     1       Yes   \n",
       "\n",
       "  BusinessTravel  DailyRate Department  EmployeeCount  HourlyRate  JobLevel  \\\n",
       "0  Travel_Rarely      419.0      Sales              1          37         1   \n",
       "\n",
       "                JobRole  MonthlyIncome  MonthlyRate OverTime  \\\n",
       "0  Sales Representative           2121         9947      Yes   \n",
       "\n",
       "   PercentSalaryHike  StandardHours  StockOptionLevel  TrainingTimesLastYear  \\\n",
       "0                 13           80.0                 0                      3   \n",
       "\n",
       "  EnvironmentSatisfaction JobInvolvement JobSatisfaction PerformanceRating  \\\n",
       "0               Very High         Medium          Medium         Excellent   \n",
       "\n",
       "  RelationshipSatisfaction  \n",
       "0                   Medium  "
      ]
     },
     "execution_count": 8,
     "metadata": {},
     "output_type": "execute_result"
    }
   ],
   "source": [
    "# antes de empezar vamos a leer los datos, el primero que importaremos será el csv donde tenemos la información de la campaña de marketing\n",
    "df = pd.read_csv(\"datos/IBM_HR_Employee_Attrition_full.csv\", index_col=0)\n",
    "df.head(1)"
   ]
  },
  {
   "cell_type": "markdown",
   "id": "53c75cd1",
   "metadata": {},
   "source": [
    "# Operadores de comparación\n",
    "\n",
    "Son útiles para seleccionar filas basadas en condiciones específicas:\n",
    "\n",
    "1. **Crear una condición**: Utiliza operadores como `>`, `<`, `>=`, `<=`, `==`, `!=` para comparar valores.\n",
    "   \n",
    "2. **Aplicar la condición**: Aplícala directamente dentro de corchetes `[]` al DataFrame.\n",
    "   \n",
    "3. **Combinar condiciones**: Usa `&` (and) y `|` (or) para condiciones complejas."
   ]
  },
  {
   "cell_type": "code",
   "execution_count": null,
   "id": "5648a68a",
   "metadata": {},
   "outputs": [],
   "source": []
  },
  {
   "cell_type": "code",
   "execution_count": null,
   "id": "f9050c81",
   "metadata": {},
   "outputs": [],
   "source": []
  },
  {
   "cell_type": "markdown",
   "id": "bf4438b1",
   "metadata": {},
   "source": [
    "# Método `.isin()`\n",
    "\n",
    "\n",
    "El método `isin()` se usa para filtrar datos basados en una lista de valores permitidos. Permite seleccionar filas en un DataFrame cuyos valores en una columna específica coinciden con cualquiera de los valores proporcionados en la lista.\n",
    "\n",
    "A continuación, una explicación sobre cómo usar `isin()` en el filtrado de Pandas:\n",
    "\n",
    "1. **Crear una lista de valores permitidos**: Primero, se crea una lista con los valores que se desean permitir en el filtrado. Pueden ser valores únicos o una lista de varios valores.\n",
    "\n",
    "2. **Aplicar la función `isin()`**: Una vez que se tiene la lista de valores permitidos, se aplica la función `isin()` a la columna deseada en el DataFrame usando corchetes `[]`.\n",
    "\n",
    "La sintaxis básica es:\n",
    "```python\n",
    "dataframe[columna].isin(valores)\n",
    "```\n",
    "Donde:\n",
    "- `dataframe`: Especifica el nombre del DataFrame en el que se aplicará el método.\n",
    "  \n",
    "- `columna`: Especifica la columna del DataFrame que se usará para el filtrado.\n",
    "  \n",
    "- `valores`: Puede ser una lista, Serie o array-like que contiene los valores que se desean comprobar."
   ]
  },
  {
   "cell_type": "code",
   "execution_count": null,
   "id": "8f56315a",
   "metadata": {},
   "outputs": [],
   "source": []
  },
  {
   "cell_type": "code",
   "execution_count": null,
   "id": "6898c297",
   "metadata": {},
   "outputs": [],
   "source": []
  },
  {
   "cell_type": "markdown",
   "id": "d0314f98",
   "metadata": {},
   "source": [
    "# Método `.between()`\n",
    "\n",
    "El método `between`se utiliza para filtrar filas de un DataFrame o una Serie basándose en un rango numérico o de fechas. Verifica si los valores de la columna seleccionada están dentro del rango especificado y devuelve una máscara booleana que indica qué filas cumplen con la condición.\n",
    "\n",
    "La sintaxis del método `between` es la siguiente:\n",
    "\n",
    "```python\n",
    "dataframe[columna].between(inicio, fin, inclusive=True)\n",
    "```\n",
    "Donde:\n",
    "\n",
    "- `dataframe`: Especifica el nombre del DataFrame en el que se aplicará el método.\n",
    "  \n",
    "- `columna`: Especifica la columna del DataFrame que se usará para el filtrado.\n",
    "  \n",
    "- `inicio` y `fin`: Indican los límites del rango.\n",
    "  \n",
    "- `inclusive` (opcional): Determina si los límites del rango son inclusivos o exclusivos. Sus valores pueden ser:\n",
    "\n",
    "    - both: incluye el inicio y el final.\n",
    "  \n",
    "    - left: incluye el inicio pero no el final.\n",
    "  \n",
    "    - right: incluye el final pero no el inicio.\n",
    "  \n",
    "    - neither: no incluye el inicio ni el final."
   ]
  },
  {
   "cell_type": "code",
   "execution_count": null,
   "id": "4a3a75f0",
   "metadata": {},
   "outputs": [],
   "source": []
  },
  {
   "cell_type": "code",
   "execution_count": null,
   "id": "54a91cd9",
   "metadata": {},
   "outputs": [],
   "source": []
  },
  {
   "cell_type": "code",
   "execution_count": null,
   "id": "6b1851a6",
   "metadata": {},
   "outputs": [],
   "source": []
  },
  {
   "cell_type": "markdown",
   "id": "9645f795",
   "metadata": {},
   "source": [
    "# Método `.str.contains()`\n",
    "\n",
    "El método `str.contains()` se utiliza para verificar si un patrón de texto específico está presente en una serie de objetos de tipo cadena.\n",
    "\n",
    "La sintaxis general del método `str.contains()` es la siguiente:\n",
    "\n",
    "```python\n",
    "dataframe[columna].str.contains(pat, case=True, na=nan, regex=True)\n",
    "```\n",
    "\n",
    "Donde:\n",
    "\n",
    "- `dataframe`: Especifica el nombre del DataFrame en el que se aplicará el método.\n",
    "  \n",
    "- `columna`: Especifica la columna del DataFrame que se usará para la búsqueda.\n",
    "  \n",
    "- `pat`: Es el patrón de texto que deseas buscar en la columna.\n",
    "  \n",
    "- `case` (opcional): Indica si se debe realizar una búsqueda sensible a mayúsculas y minúsculas. El valor predeterminado es `True`, lo que significa que se realiza una búsqueda sensible a mayúsculas y minúsculas.\n",
    "  \n",
    "- `na` (opcional): Indica cómo manejar los valores nulos en la columna. Toma dos valores:\n",
    "\n",
    "  -  True, para incluir los nulos en el resultado.\n",
    "  \n",
    "  -  False, para excluir los nulos del resultado.\n",
    "  \n",
    "\n",
    "- `regex` (opcional): Indica si el patrón dado debe tratarse como una expresión regular. El valor predeterminado es `True`, lo que significa que el patrón se interpreta como una expresión regular."
   ]
  },
  {
   "cell_type": "code",
   "execution_count": null,
   "id": "e2b0476e",
   "metadata": {},
   "outputs": [],
   "source": []
  },
  {
   "cell_type": "code",
   "execution_count": null,
   "id": "0f218c3f",
   "metadata": {},
   "outputs": [],
   "source": []
  },
  {
   "cell_type": "code",
   "execution_count": null,
   "id": "4bdbcd37",
   "metadata": {},
   "outputs": [],
   "source": []
  },
  {
   "cell_type": "markdown",
   "id": "ff3de987",
   "metadata": {},
   "source": [
    "La principal diferencia entre poner el parámetro `na` en True o en False es que al ponerlo en True nos devolverá también las filas cuyos valores sean nulos para la columna que estamos filtrando. "
   ]
  },
  {
   "cell_type": "markdown",
   "id": "2f0fd49b",
   "metadata": {},
   "source": [
    "# Método `.filter()`\n",
    "\n",
    "El método `filter()` se utiliza para seleccionar columnas o filas de un DataFrame basadas en etiquetas específicas, patrones o criterios. Este método es muy útil para seleccionar subconjuntos de datos de manera flexible.\n",
    "\n",
    "La sintaxis general del método `filter()` es la siguiente:\n",
    "\n",
    "```python\n",
    "dataframe.filter(items=None, like=None, regex=None, axis=None)\n",
    "```\n",
    "\n",
    "Donde:\n",
    "\n",
    "- **`dataframe`**: Especifica el nombre del DataFrame en el que se aplicará el método.\n",
    "\n",
    "- **`items`** (opcional): Especifica una lista de nombres exactos de columnas o índices que deseamos seleccionar.\n",
    "\n",
    "- **`like`** (opcional): Permite seleccionar columnas o filas que contienen un patrón específico en su nombre. Este argumento es útil cuando queremos seleccionar todas las columnas o filas cuyos nombres contienen una subcadena específica.\n",
    "\n",
    "- **`regex`** (opcional): Permite seleccionar columnas o filas cuyos nombres coincidan con una expresión regular. Esto proporciona una forma más avanzada de filtrar. Por defecto esta en None.\n",
    "\n",
    "- **`axis`** (opcional): Especifica si el filtrado se realiza en columnas (`axis=1`) o filas (`axis=0`). El valor predeterminado es `axis=1` (columnas).\n"
   ]
  },
  {
   "cell_type": "code",
   "execution_count": null,
   "id": "849b806f",
   "metadata": {},
   "outputs": [],
   "source": []
  },
  {
   "cell_type": "code",
   "execution_count": null,
   "id": "9664b700",
   "metadata": {},
   "outputs": [],
   "source": []
  },
  {
   "cell_type": "code",
   "execution_count": null,
   "id": "679c2373",
   "metadata": {},
   "outputs": [],
   "source": []
  },
  {
   "cell_type": "code",
   "execution_count": null,
   "id": "028e88be",
   "metadata": {},
   "outputs": [],
   "source": []
  },
  {
   "cell_type": "markdown",
   "id": "9d96ca3f",
   "metadata": {},
   "source": [
    "# Método `.query()`\n",
    "\n",
    "El método `query()` se utiliza para filtrar filas de un DataFrame utilizando una expresión basada en cadenas que imita la sintaxis de una consulta SQL. Este método es particularmente útil para hacer filtrados complejos de manera legible y concisa.\n",
    "\n",
    "La sintaxis general del método `query()` es la siguiente:\n",
    "\n",
    "```python\n",
    "dataframe.query(expr, inplace=False)\n",
    "```\n",
    "\n",
    "Donde:\n",
    "\n",
    "- **`dataframe`**: Especifica el nombre del DataFrame en el que se aplicará el método.\n",
    "\n",
    "- **`expr`**: Es una cadena que representa la expresión que deseas aplicar para filtrar los datos. La expresión debe estar en formato similar a Python y puede incluir operadores lógicos como `and`, `or`, `not`, así como operadores de comparación como `>`, `<`, `==`, `!=`, etc.\n",
    "\n",
    "- **`inplace`** (opcional): Indica si la operación debe realizarse en el propio DataFrame, modificándolo directamente. El valor predeterminado es `False`, lo que significa que se devuelve un nuevo DataFrame sin modificar el original.\n"
   ]
  },
  {
   "cell_type": "code",
   "execution_count": null,
   "id": "af27c550",
   "metadata": {},
   "outputs": [],
   "source": []
  },
  {
   "cell_type": "code",
   "execution_count": null,
   "id": "7a7172e5",
   "metadata": {},
   "outputs": [],
   "source": []
  },
  {
   "cell_type": "code",
   "execution_count": null,
   "id": "426aaca2",
   "metadata": {},
   "outputs": [],
   "source": []
  },
  {
   "cell_type": "code",
   "execution_count": null,
   "id": "25be5302",
   "metadata": {},
   "outputs": [],
   "source": []
  },
  {
   "cell_type": "markdown",
   "id": "1d17b146",
   "metadata": {},
   "source": [
    "# Método `.nlargest()`\n",
    "\n",
    "El método `nlargest()` se utiliza para seleccionar las *n* filas con los valores más altos en una o más columnas de un DataFrame. Este método es útil para identificar los registros que contienen los valores máximos en una métrica específica.\n",
    "\n",
    "La sintaxis general del método `nlargest()` es la siguiente:\n",
    "\n",
    "```python\n",
    "dataframe.nlargest(n, columns, keep='first')\n",
    "```\n",
    "\n",
    "Donde:\n",
    "\n",
    "- **`dataframe`**: Especifica el nombre del DataFrame en el que se aplicará el método.\n",
    "\n",
    "- **`n`**: Especifica el número de filas que desearemos seleccionar con los valores más altos.\n",
    "\n",
    "- **`columns`**: Especifica la columna o las columnas en las que se basará la selección de los valores más altos. Puede ser una columna individual o una lista de columnas.\n",
    "\n",
    "- **`keep`** (opcional): Determina cómo manejar los empates cuando varios valores ocupan la misma posición en el ranking. Los valores pueden ser:\n",
    "\n",
    "  - `'first'` (predeterminado): Mantiene la primera aparición en caso de empate.\n",
    "\n",
    "  - `'last'`: Mantiene la última aparición en caso de empate.\n",
    "\n",
    "  - `'all'`: Devuelve todas las filas en caso de empate.\n"
   ]
  },
  {
   "cell_type": "code",
   "execution_count": null,
   "id": "402db841",
   "metadata": {},
   "outputs": [],
   "source": []
  },
  {
   "cell_type": "code",
   "execution_count": null,
   "id": "b91fc737",
   "metadata": {},
   "outputs": [],
   "source": []
  },
  {
   "cell_type": "code",
   "execution_count": null,
   "id": "04180b38",
   "metadata": {},
   "outputs": [],
   "source": []
  },
  {
   "cell_type": "code",
   "execution_count": null,
   "id": "1131e409",
   "metadata": {},
   "outputs": [],
   "source": []
  },
  {
   "cell_type": "markdown",
   "id": "b1f87c37",
   "metadata": {},
   "source": [
    "# Método `.nsmallest()`\n",
    "\n",
    "El método `nsmallest()` se utiliza para seleccionar las *n* filas con los valores más bajos en una o más columnas de un DataFrame. Este método es útil para identificar los registros que contienen los valores mínimos en una métrica específica.\n",
    "\n",
    "La sintaxis general del método `nsmallest()` es la siguiente:\n",
    "\n",
    "```python\n",
    "dataframe.nsmallest(n, columns, keep='first')\n",
    "```\n",
    "\n",
    "Donde:\n",
    "\n",
    "- **`dataframe`**: Especifica el nombre del DataFrame en el que se aplicará el método.\n",
    "\n",
    "- **`n`**: Especifica el número de filas que deseamos seleccionar con los valores más bajos.\n",
    "\n",
    "- **`columns`**: Especifica la columna o las columnas en las que se basará la selección de los valores más bajos. Puede ser una columna individual o una lista de columnas.\n",
    "\n",
    "- **`keep`** (opcional): Determina cómo manejar los empates cuando varios valores ocupan la misma posición en el ranking. Los valores pueden ser:\n",
    "\n",
    "  - `'first'` (predeterminado): Mantiene la primera aparición en caso de empate.\n",
    "\n",
    "  - `'last'`: Mantiene la última aparición en caso de empate.\n",
    "\n",
    "  - `'all'`: Devuelve todas las filas en caso de empate.\n"
   ]
  },
  {
   "cell_type": "code",
   "execution_count": null,
   "id": "7a34a015",
   "metadata": {},
   "outputs": [],
   "source": []
  },
  {
   "cell_type": "code",
   "execution_count": null,
   "id": "ab2118d2",
   "metadata": {},
   "outputs": [],
   "source": []
  },
  {
   "cell_type": "code",
   "execution_count": null,
   "id": "dcb491a5",
   "metadata": {},
   "outputs": [],
   "source": []
  },
  {
   "cell_type": "markdown",
   "id": "d09b6a96",
   "metadata": {},
   "source": [
    "# Otras formas de filtrado"
   ]
  },
  {
   "cell_type": "code",
   "execution_count": null,
   "id": "9342cdd0",
   "metadata": {},
   "outputs": [],
   "source": []
  },
  {
   "cell_type": "code",
   "execution_count": null,
   "id": "702c6a0f",
   "metadata": {},
   "outputs": [],
   "source": []
  },
  {
   "cell_type": "markdown",
   "id": "645d1523",
   "metadata": {},
   "source": [
    "# Resumen de los métodos aprendidos\n",
    "\n",
    "| Método          | Descripción                                                                 | Ejemplo en Python                                      |\n",
    "|-----------------|-----------------------------------------------------------------------------|--------------------------------------------------------|\n",
    "| `isin`          | Comprueba si los elementos están en una lista.                              | ```df['columna'].isin(['valor1', 'valor2'])```         |\n",
    "| `between`       | Filtra filas basadas en valores en un rango.                                | ```df[df['columna'].between(5, 10)]```                 |\n",
    "| `str.contains`  | Comprueba si una columna contiene un patrón.                                | ```df['columna'].str.contains('patrón')```             |\n",
    "| `query`         | Filtra filas usando expresiones similares a SQL.                            | ```df.query('columna > 10 and otra_columna == \"valor\"')``` |\n",
    "| `filter`        | Selecciona columnas o filas que cumplen ciertas condiciones.                | ```df.filter(like='patrón', axis=1)```                 |\n",
    "| `nlargest`      | Selecciona las *n* filas con los valores más altos en una o varias columnas.| ```df.nlargest(5, ['columna1', 'columna2'])```         |\n",
    "| `nsmallest`     | Selecciona las *n* filas con los valores más bajos en una o varias columnas.| ```df.nsmallest(5, ['columna1', 'columna2'])```        |\n"
   ]
  }
 ],
 "metadata": {
  "kernelspec": {
   "display_name": "Python 3 (ipykernel)",
   "language": "python",
   "name": "python3"
  },
  "language_info": {
   "codemirror_mode": {
    "name": "ipython",
    "version": 3
   },
   "file_extension": ".py",
   "mimetype": "text/x-python",
   "name": "python",
   "nbconvert_exporter": "python",
   "pygments_lexer": "ipython3",
   "version": "3.11.8"
  },
  "toc": {
   "base_numbering": 1,
   "nav_menu": {},
   "number_sections": true,
   "sideBar": true,
   "skip_h1_title": false,
   "title_cell": "Table of Contents",
   "title_sidebar": "Contents",
   "toc_cell": true,
   "toc_position": {
    "height": "calc(100% - 180px)",
    "left": "10px",
    "top": "150px",
    "width": "326.667px"
   },
   "toc_section_display": true,
   "toc_window_display": true
  },
  "vscode": {
   "interpreter": {
    "hash": "8560ba40f25f8debc3b21cfdc72602d7855270eb253b25380125fbd9b6cd3418"
   }
  }
 },
 "nbformat": 4,
 "nbformat_minor": 5
}
