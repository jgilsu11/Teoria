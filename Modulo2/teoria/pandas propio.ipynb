{
 "cells": [
  {
   "cell_type": "code",
   "execution_count": 1,
   "metadata": {},
   "outputs": [],
   "source": [
    "import pandas as pd"
   ]
  },
  {
   "cell_type": "code",
   "execution_count": 2,
   "metadata": {},
   "outputs": [
    {
     "data": {
      "text/html": [
       "<div>\n",
       "<style scoped>\n",
       "    .dataframe tbody tr th:only-of-type {\n",
       "        vertical-align: middle;\n",
       "    }\n",
       "\n",
       "    .dataframe tbody tr th {\n",
       "        vertical-align: top;\n",
       "    }\n",
       "\n",
       "    .dataframe thead th {\n",
       "        text-align: right;\n",
       "    }\n",
       "</style>\n",
       "<table border=\"1\" class=\"dataframe\">\n",
       "  <thead>\n",
       "    <tr style=\"text-align: right;\">\n",
       "      <th></th>\n",
       "      <th>Nombre</th>\n",
       "      <th>Edad</th>\n",
       "      <th>Carrera</th>\n",
       "      <th>Promedio</th>\n",
       "      <th>Ciudad</th>\n",
       "    </tr>\n",
       "  </thead>\n",
       "  <tbody>\n",
       "    <tr>\n",
       "      <th>0</th>\n",
       "      <td>Ana</td>\n",
       "      <td>23</td>\n",
       "      <td>Ingeniería</td>\n",
       "      <td>9.1</td>\n",
       "      <td>Madrid</td>\n",
       "    </tr>\n",
       "    <tr>\n",
       "      <th>1</th>\n",
       "      <td>Luis</td>\n",
       "      <td>21</td>\n",
       "      <td>Medicina</td>\n",
       "      <td>8.5</td>\n",
       "      <td>Barcelona</td>\n",
       "    </tr>\n",
       "    <tr>\n",
       "      <th>2</th>\n",
       "      <td>Sofia</td>\n",
       "      <td>22</td>\n",
       "      <td>Arquitectura</td>\n",
       "      <td>8.7</td>\n",
       "      <td>Valencia</td>\n",
       "    </tr>\n",
       "    <tr>\n",
       "      <th>3</th>\n",
       "      <td>Carlos</td>\n",
       "      <td>24</td>\n",
       "      <td>Derecho</td>\n",
       "      <td>9.0</td>\n",
       "      <td>Sevilla</td>\n",
       "    </tr>\n",
       "    <tr>\n",
       "      <th>4</th>\n",
       "      <td>María</td>\n",
       "      <td>20</td>\n",
       "      <td>Psicología</td>\n",
       "      <td>9.3</td>\n",
       "      <td>Bilbao</td>\n",
       "    </tr>\n",
       "  </tbody>\n",
       "</table>\n",
       "</div>"
      ],
      "text/plain": [
       "   Nombre  Edad       Carrera  Promedio     Ciudad\n",
       "0     Ana    23    Ingeniería       9.1     Madrid\n",
       "1    Luis    21      Medicina       8.5  Barcelona\n",
       "2   Sofia    22  Arquitectura       8.7   Valencia\n",
       "3  Carlos    24       Derecho       9.0    Sevilla\n",
       "4   María    20    Psicología       9.3     Bilbao"
      ]
     },
     "execution_count": 2,
     "metadata": {},
     "output_type": "execute_result"
    }
   ],
   "source": [
    "data = {\n",
    "    'Nombre': ['Ana', 'Luis', 'Sofia', 'Carlos', 'María'],\n",
    "    'Edad': [23, 21, 22, 24, 20],\n",
    "    'Carrera': ['Ingeniería', 'Medicina', 'Arquitectura', 'Derecho', 'Psicología'],\n",
    "    'Promedio': [9.1, 8.5, 8.7, 9.0, 9.3],\n",
    "    'Ciudad': ['Madrid', 'Barcelona', 'Valencia', 'Sevilla', 'Bilbao']\n",
    "}\n",
    "\n",
    "\n",
    "df = pd.DataFrame(data)\n",
    "df.head()"
   ]
  },
  {
   "cell_type": "code",
   "execution_count": 3,
   "metadata": {},
   "outputs": [
    {
     "data": {
      "text/plain": [
       "Edad             21\n",
       "Carrera    Medicina\n",
       "Name: 1, dtype: object"
      ]
     },
     "execution_count": 3,
     "metadata": {},
     "output_type": "execute_result"
    }
   ],
   "source": [
    "df.iloc[1, 1:3]   #Usamos iloc para sacar el valor 21 y Medicina"
   ]
  },
  {
   "cell_type": "code",
   "execution_count": 4,
   "metadata": {},
   "outputs": [
    {
     "data": {
      "text/plain": [
       "0    9.1\n",
       "1    8.5\n",
       "2    8.7\n",
       "3    9.0\n",
       "4    9.3\n",
       "Name: Promedio, dtype: float64"
      ]
     },
     "execution_count": 4,
     "metadata": {},
     "output_type": "execute_result"
    }
   ],
   "source": [
    "df.iloc[:,3] #Queremos la columna promedio"
   ]
  },
  {
   "cell_type": "code",
   "execution_count": 8,
   "metadata": {},
   "outputs": [
    {
     "data": {
      "text/plain": [
       "Nombre          María\n",
       "Carrera    Psicología\n",
       "Name: 4, dtype: object"
      ]
     },
     "execution_count": 8,
     "metadata": {},
     "output_type": "execute_result"
    }
   ],
   "source": [
    "df.loc[4, [\"Nombre\", \"Carrera\"]]  #Usando loc queremos sacar María y psicología"
   ]
  },
  {
   "cell_type": "code",
   "execution_count": 9,
   "metadata": {},
   "outputs": [
    {
     "data": {
      "text/html": [
       "<div>\n",
       "<style scoped>\n",
       "    .dataframe tbody tr th:only-of-type {\n",
       "        vertical-align: middle;\n",
       "    }\n",
       "\n",
       "    .dataframe tbody tr th {\n",
       "        vertical-align: top;\n",
       "    }\n",
       "\n",
       "    .dataframe thead th {\n",
       "        text-align: right;\n",
       "    }\n",
       "</style>\n",
       "<table border=\"1\" class=\"dataframe\">\n",
       "  <thead>\n",
       "    <tr style=\"text-align: right;\">\n",
       "      <th></th>\n",
       "      <th>Nombre</th>\n",
       "      <th>Edad</th>\n",
       "      <th>Carrera</th>\n",
       "      <th>Promedio</th>\n",
       "      <th>Ciudad</th>\n",
       "    </tr>\n",
       "  </thead>\n",
       "  <tbody>\n",
       "    <tr>\n",
       "      <th>al1</th>\n",
       "      <td>Ana</td>\n",
       "      <td>23</td>\n",
       "      <td>Ingeniería</td>\n",
       "      <td>9.1</td>\n",
       "      <td>Madrid</td>\n",
       "    </tr>\n",
       "    <tr>\n",
       "      <th>al2</th>\n",
       "      <td>Luis</td>\n",
       "      <td>21</td>\n",
       "      <td>Medicina</td>\n",
       "      <td>8.5</td>\n",
       "      <td>Barcelona</td>\n",
       "    </tr>\n",
       "    <tr>\n",
       "      <th>al3</th>\n",
       "      <td>Sofia</td>\n",
       "      <td>22</td>\n",
       "      <td>Arquitectura</td>\n",
       "      <td>8.7</td>\n",
       "      <td>Valencia</td>\n",
       "    </tr>\n",
       "    <tr>\n",
       "      <th>al4</th>\n",
       "      <td>Carlos</td>\n",
       "      <td>24</td>\n",
       "      <td>Derecho</td>\n",
       "      <td>9.0</td>\n",
       "      <td>Sevilla</td>\n",
       "    </tr>\n",
       "    <tr>\n",
       "      <th>al5</th>\n",
       "      <td>María</td>\n",
       "      <td>20</td>\n",
       "      <td>Psicología</td>\n",
       "      <td>9.3</td>\n",
       "      <td>Bilbao</td>\n",
       "    </tr>\n",
       "  </tbody>\n",
       "</table>\n",
       "</div>"
      ],
      "text/plain": [
       "     Nombre  Edad       Carrera  Promedio     Ciudad\n",
       "al1     Ana    23    Ingeniería       9.1     Madrid\n",
       "al2    Luis    21      Medicina       8.5  Barcelona\n",
       "al3   Sofia    22  Arquitectura       8.7   Valencia\n",
       "al4  Carlos    24       Derecho       9.0    Sevilla\n",
       "al5   María    20    Psicología       9.3     Bilbao"
      ]
     },
     "execution_count": 9,
     "metadata": {},
     "output_type": "execute_result"
    }
   ],
   "source": [
    "df = pd.DataFrame(data, index= [\"al1\", \"al2\", \"al3\", \"al4\", \"al5\"])  #Usamos index para poner los índices que queramos (para q sea más facil)\n",
    "df.head()"
   ]
  },
  {
   "cell_type": "code",
   "execution_count": 10,
   "metadata": {},
   "outputs": [
    {
     "data": {
      "text/plain": [
       "Carrera     Ingeniería\n",
       "Promedio           9.1\n",
       "Name: al1, dtype: object"
      ]
     },
     "execution_count": 10,
     "metadata": {},
     "output_type": "execute_result"
    }
   ],
   "source": [
    "df.loc[\"al1\", [\"Carrera\", \"Promedio\"]]        #Usando loc con el nuevo index"
   ]
  },
  {
   "cell_type": "code",
   "execution_count": 11,
   "metadata": {},
   "outputs": [
    {
     "data": {
      "text/plain": [
       "Carrera     Ingeniería\n",
       "Promedio           9.1\n",
       "Name: al1, dtype: object"
      ]
     },
     "execution_count": 11,
     "metadata": {},
     "output_type": "execute_result"
    }
   ],
   "source": [
    "df.iloc[0, 2:4]    #Usando iloc con el nuevo index"
   ]
  },
  {
   "cell_type": "code",
   "execution_count": 13,
   "metadata": {},
   "outputs": [
    {
     "data": {
      "text/html": [
       "<div>\n",
       "<style scoped>\n",
       "    .dataframe tbody tr th:only-of-type {\n",
       "        vertical-align: middle;\n",
       "    }\n",
       "\n",
       "    .dataframe tbody tr th {\n",
       "        vertical-align: top;\n",
       "    }\n",
       "\n",
       "    .dataframe thead th {\n",
       "        text-align: right;\n",
       "    }\n",
       "</style>\n",
       "<table border=\"1\" class=\"dataframe\">\n",
       "  <thead>\n",
       "    <tr style=\"text-align: right;\">\n",
       "      <th></th>\n",
       "      <th>Carrera</th>\n",
       "      <th>Promedio</th>\n",
       "      <th>Ciudad</th>\n",
       "    </tr>\n",
       "  </thead>\n",
       "  <tbody>\n",
       "    <tr>\n",
       "      <th>al1</th>\n",
       "      <td>Ingeniería</td>\n",
       "      <td>9.1</td>\n",
       "      <td>Madrid</td>\n",
       "    </tr>\n",
       "    <tr>\n",
       "      <th>al2</th>\n",
       "      <td>Medicina</td>\n",
       "      <td>8.5</td>\n",
       "      <td>Barcelona</td>\n",
       "    </tr>\n",
       "    <tr>\n",
       "      <th>al3</th>\n",
       "      <td>Arquitectura</td>\n",
       "      <td>8.7</td>\n",
       "      <td>Valencia</td>\n",
       "    </tr>\n",
       "    <tr>\n",
       "      <th>al4</th>\n",
       "      <td>Derecho</td>\n",
       "      <td>9.0</td>\n",
       "      <td>Sevilla</td>\n",
       "    </tr>\n",
       "    <tr>\n",
       "      <th>al5</th>\n",
       "      <td>Psicología</td>\n",
       "      <td>9.3</td>\n",
       "      <td>Bilbao</td>\n",
       "    </tr>\n",
       "  </tbody>\n",
       "</table>\n",
       "</div>"
      ],
      "text/plain": [
       "          Carrera  Promedio     Ciudad\n",
       "al1    Ingeniería       9.1     Madrid\n",
       "al2      Medicina       8.5  Barcelona\n",
       "al3  Arquitectura       8.7   Valencia\n",
       "al4       Derecho       9.0    Sevilla\n",
       "al5    Psicología       9.3     Bilbao"
      ]
     },
     "execution_count": 13,
     "metadata": {},
     "output_type": "execute_result"
    }
   ],
   "source": [
    "df.iloc[:, 2:5]     #Usando iloc recuerda que el último número del rango no lo incluye\n",
    "df.iloc[:, -3:]    #Para que nos coja todos no ponemos -1 porque sino Ciudad no lo coge"
   ]
  },
  {
   "cell_type": "code",
   "execution_count": 15,
   "metadata": {},
   "outputs": [
    {
     "data": {
      "text/html": [
       "<div>\n",
       "<style scoped>\n",
       "    .dataframe tbody tr th:only-of-type {\n",
       "        vertical-align: middle;\n",
       "    }\n",
       "\n",
       "    .dataframe tbody tr th {\n",
       "        vertical-align: top;\n",
       "    }\n",
       "\n",
       "    .dataframe thead th {\n",
       "        text-align: right;\n",
       "    }\n",
       "</style>\n",
       "<table border=\"1\" class=\"dataframe\">\n",
       "  <thead>\n",
       "    <tr style=\"text-align: right;\">\n",
       "      <th></th>\n",
       "      <th>Nombre</th>\n",
       "      <th>Edad</th>\n",
       "      <th>Carrera</th>\n",
       "      <th>Promedio</th>\n",
       "      <th>Ciudad</th>\n",
       "    </tr>\n",
       "  </thead>\n",
       "  <tbody>\n",
       "    <tr>\n",
       "      <th>al3</th>\n",
       "      <td>Sofia</td>\n",
       "      <td>22</td>\n",
       "      <td>Arquitectura</td>\n",
       "      <td>8.7</td>\n",
       "      <td>Valencia</td>\n",
       "    </tr>\n",
       "    <tr>\n",
       "      <th>al5</th>\n",
       "      <td>María</td>\n",
       "      <td>20</td>\n",
       "      <td>Psicología</td>\n",
       "      <td>9.3</td>\n",
       "      <td>Bilbao</td>\n",
       "    </tr>\n",
       "  </tbody>\n",
       "</table>\n",
       "</div>"
      ],
      "text/plain": [
       "    Nombre  Edad       Carrera  Promedio    Ciudad\n",
       "al3  Sofia    22  Arquitectura       8.7  Valencia\n",
       "al5  María    20    Psicología       9.3    Bilbao"
      ]
     },
     "execution_count": 15,
     "metadata": {},
     "output_type": "execute_result"
    }
   ],
   "source": [
    "df.iloc[[2,4], :]    #Para que nos coja todas las columnas de María y Sofía "
   ]
  },
  {
   "cell_type": "code",
   "execution_count": 16,
   "metadata": {},
   "outputs": [
    {
     "data": {
      "text/html": [
       "<div>\n",
       "<style scoped>\n",
       "    .dataframe tbody tr th:only-of-type {\n",
       "        vertical-align: middle;\n",
       "    }\n",
       "\n",
       "    .dataframe tbody tr th {\n",
       "        vertical-align: top;\n",
       "    }\n",
       "\n",
       "    .dataframe thead th {\n",
       "        text-align: right;\n",
       "    }\n",
       "</style>\n",
       "<table border=\"1\" class=\"dataframe\">\n",
       "  <thead>\n",
       "    <tr style=\"text-align: right;\">\n",
       "      <th></th>\n",
       "      <th>Nombre</th>\n",
       "      <th>Edad</th>\n",
       "      <th>Carrera</th>\n",
       "      <th>Promedio</th>\n",
       "      <th>Ciudad</th>\n",
       "    </tr>\n",
       "  </thead>\n",
       "  <tbody>\n",
       "    <tr>\n",
       "      <th>al1</th>\n",
       "      <td>Ana</td>\n",
       "      <td>23</td>\n",
       "      <td>Ingeniería</td>\n",
       "      <td>9.1</td>\n",
       "      <td>Madrid</td>\n",
       "    </tr>\n",
       "    <tr>\n",
       "      <th>al3</th>\n",
       "      <td>Sofia</td>\n",
       "      <td>22</td>\n",
       "      <td>Arquitectura</td>\n",
       "      <td>8.7</td>\n",
       "      <td>Valencia</td>\n",
       "    </tr>\n",
       "    <tr>\n",
       "      <th>al5</th>\n",
       "      <td>María</td>\n",
       "      <td>20</td>\n",
       "      <td>Psicología</td>\n",
       "      <td>9.3</td>\n",
       "      <td>Bilbao</td>\n",
       "    </tr>\n",
       "  </tbody>\n",
       "</table>\n",
       "</div>"
      ],
      "text/plain": [
       "    Nombre  Edad       Carrera  Promedio    Ciudad\n",
       "al1    Ana    23    Ingeniería       9.1    Madrid\n",
       "al3  Sofia    22  Arquitectura       8.7  Valencia\n",
       "al5  María    20    Psicología       9.3    Bilbao"
      ]
     },
     "execution_count": 16,
     "metadata": {},
     "output_type": "execute_result"
    }
   ],
   "source": [
    "df.iloc[::2, :]   #Para que nos coja todas las columnas de Ana, María y Sofía [START, STOP STEP]=[:, :, 2]"
   ]
  }
 ],
 "metadata": {
  "kernelspec": {
   "display_name": "Python 3",
   "language": "python",
   "name": "python3"
  },
  "language_info": {
   "codemirror_mode": {
    "name": "ipython",
    "version": 3
   },
   "file_extension": ".py",
   "mimetype": "text/x-python",
   "name": "python",
   "nbconvert_exporter": "python",
   "pygments_lexer": "ipython3",
   "version": "3.11.9"
  }
 },
 "nbformat": 4,
 "nbformat_minor": 2
}
