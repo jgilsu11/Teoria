{
 "cells": [
  {
   "cell_type": "code",
   "execution_count": 1,
   "metadata": {},
   "outputs": [],
   "source": [
    "import psycopg2\n",
    "from psycopg2 import OperationalError, errorcodes, errors\n",
    "import pandas as pd"
   ]
  },
  {
   "cell_type": "markdown",
   "metadata": {},
   "source": [
    "Esto es para conectarnos a la base de datos"
   ]
  },
  {
   "cell_type": "code",
   "execution_count": 17,
   "metadata": {},
   "outputs": [],
   "source": [
    "try:\n",
    "    conexion= psycopg2.connect(\n",
    "        database= \"Chinook\",\n",
    "        user= \"postgres\",\n",
    "        password= \"admin\",\n",
    "        host= \"localhost\",\n",
    "        port= \"5432\"\n",
    "    )\n",
    "except OperationalError as e:\n",
    "    if e.pgcode == errorcodes.INVALID_PASSWORD:\n",
    "        print(\"La contraseña es erronea\")\n",
    "    elif e.pgcode == errorcodes.CONNECTION_EXCEPTION:\n",
    "        print(\"Error de conexion\")\n",
    "    else:\n",
    "        print(f\"Ocurrió el error {e}\")\n"
   ]
  },
  {
   "cell_type": "markdown",
   "metadata": {},
   "source": [
    "El cursor es el tren que lleva la query(consulta) a SQL y quien trae la info a Python  \n",
    "IMPORTANTE que una tiene que tener simples y otras dobles"
   ]
  },
  {
   "cell_type": "code",
   "execution_count": 18,
   "metadata": {},
   "outputs": [],
   "source": [
    "cursor= conexion.cursor()\n",
    "cursor.execute('SELECT * FROM \"Genre\";')         #Esto ejecuta la query en SQL (DBeaver)\n",
    "df_genero= pd.DataFrame(cursor.fetchall())        #fetchall (fetchone es para traer solo uno) es lo que trae la ejecución a Python   nos da una lista de tuplas por eso hacemos un dataframe"
   ]
  },
  {
   "cell_type": "markdown",
   "metadata": {},
   "source": [
    "Para cerrar la conexion "
   ]
  },
  {
   "cell_type": "code",
   "execution_count": 19,
   "metadata": {},
   "outputs": [],
   "source": [
    "cursor.close()\n",
    "conexion.close()"
   ]
  },
  {
   "cell_type": "markdown",
   "metadata": {},
   "source": [
    "Ya podríamos trabajar con lo que nos hemos traido"
   ]
  },
  {
   "cell_type": "code",
   "execution_count": 20,
   "metadata": {},
   "outputs": [
    {
     "data": {
      "text/html": [
       "<div>\n",
       "<style scoped>\n",
       "    .dataframe tbody tr th:only-of-type {\n",
       "        vertical-align: middle;\n",
       "    }\n",
       "\n",
       "    .dataframe tbody tr th {\n",
       "        vertical-align: top;\n",
       "    }\n",
       "\n",
       "    .dataframe thead th {\n",
       "        text-align: right;\n",
       "    }\n",
       "</style>\n",
       "<table border=\"1\" class=\"dataframe\">\n",
       "  <thead>\n",
       "    <tr style=\"text-align: right;\">\n",
       "      <th></th>\n",
       "      <th>0</th>\n",
       "      <th>1</th>\n",
       "    </tr>\n",
       "  </thead>\n",
       "  <tbody>\n",
       "    <tr>\n",
       "      <th>0</th>\n",
       "      <td>1</td>\n",
       "      <td>Rock</td>\n",
       "    </tr>\n",
       "    <tr>\n",
       "      <th>1</th>\n",
       "      <td>2</td>\n",
       "      <td>Jazz</td>\n",
       "    </tr>\n",
       "    <tr>\n",
       "      <th>2</th>\n",
       "      <td>3</td>\n",
       "      <td>Metal</td>\n",
       "    </tr>\n",
       "    <tr>\n",
       "      <th>3</th>\n",
       "      <td>4</td>\n",
       "      <td>Alternative &amp; Punk</td>\n",
       "    </tr>\n",
       "    <tr>\n",
       "      <th>4</th>\n",
       "      <td>5</td>\n",
       "      <td>Rock And Roll</td>\n",
       "    </tr>\n",
       "  </tbody>\n",
       "</table>\n",
       "</div>"
      ],
      "text/plain": [
       "   0                   1\n",
       "0  1                Rock\n",
       "1  2                Jazz\n",
       "2  3               Metal\n",
       "3  4  Alternative & Punk\n",
       "4  5       Rock And Roll"
      ]
     },
     "execution_count": 20,
     "metadata": {},
     "output_type": "execute_result"
    }
   ],
   "source": [
    "df_genero.head()"
   ]
  },
  {
   "cell_type": "markdown",
   "metadata": {},
   "source": [
    "Vamos a conectar a otra y vamos a crear tablas"
   ]
  },
  {
   "cell_type": "code",
   "execution_count": 25,
   "metadata": {},
   "outputs": [],
   "source": [
    "try:\n",
    "    conexion= psycopg2.connect(\n",
    "        database= \"Teoriadia14\",\n",
    "        user= \"postgres\",\n",
    "        password= \"admin\",\n",
    "        host= \"localhost\",\n",
    "        port= \"5432\"\n",
    "    )\n",
    "except OperationalError as e:\n",
    "    if e.pgcode == errorcodes.INVALID_PASSWORD:\n",
    "        print(\"La contraseña es erronea\")\n",
    "    elif e.pgcode == errorcodes.CONNECTION_EXCEPTION:\n",
    "        print(\"Error de conexion\")\n",
    "    else:\n",
    "        print(f\"Ocurrió el error {e}\")\n",
    "\n",
    " "
   ]
  },
  {
   "cell_type": "code",
   "execution_count": 27,
   "metadata": {},
   "outputs": [],
   "source": [
    "cursor= conexion.cursor()\n",
    "query_creacion= \"\"\"\n",
    "CREATE TABLE IF NOT EXISTS clientes(\n",
    "    id_cliente SERIAL PRIMARY KEY,\n",
    "    nombre VARCHAR(100),\n",
    "    edad INT CHECK(edad >18)\n",
    ");\n",
    "\"\"\"\n",
    "cursor.execute(query_creacion)   \n",
    "conexion.commit()                   #El commit es para confirmar los cambios porque no estamos solo trayendo info sino haciendo cambios\n",
    "query_insercion= \"INSERT INTO clientes (nombre, edad) VALUES (%s, %s);\"      #%s es como el format de los strings (la f)\n",
    "valores= (\"Lola\", 19)    #Si queremos insertar un solo valor, hay que hacerlo con tupla\n",
    "cursor.execute(query_insercion, valores)     #Hay que darle los valores que queremos insertar\n",
    "conexion.commit()\n",
    "\n",
    "\n",
    "valores_multiples= [               \n",
    "    (\"Marcos\", 21),\n",
    "    (\"Mariano\", 32)\n",
    "    ]                             #Si queremos insertar varios valores con lista de tuplas\n",
    "\n",
    "cursor.executemany(query_insercion, valores_multiples)                 #Executemany es para poder insertar varios valores\n",
    "conexion.commit()\n",
    "\n"
   ]
  },
  {
   "cell_type": "markdown",
   "metadata": {},
   "source": [
    "Vamos a ver como pasar un DataFrame a lista de tupla spara poder introducir sus valores a postrgres"
   ]
  },
  {
   "cell_type": "code",
   "execution_count": 28,
   "metadata": {},
   "outputs": [
    {
     "data": {
      "text/html": [
       "<div>\n",
       "<style scoped>\n",
       "    .dataframe tbody tr th:only-of-type {\n",
       "        vertical-align: middle;\n",
       "    }\n",
       "\n",
       "    .dataframe tbody tr th {\n",
       "        vertical-align: top;\n",
       "    }\n",
       "\n",
       "    .dataframe thead th {\n",
       "        text-align: right;\n",
       "    }\n",
       "</style>\n",
       "<table border=\"1\" class=\"dataframe\">\n",
       "  <thead>\n",
       "    <tr style=\"text-align: right;\">\n",
       "      <th></th>\n",
       "      <th>nombre_zapatillas</th>\n",
       "      <th>imagen</th>\n",
       "      <th>precio</th>\n",
       "    </tr>\n",
       "  </thead>\n",
       "  <tbody>\n",
       "    <tr>\n",
       "      <th>0</th>\n",
       "      <td>Adidas Hombres 7.5 NMD_V3 BOOST Zapatos Nube B...</td>\n",
       "      <td>https://i.ebayimg.com/thumbs/images/g/7YMAAOSw...</td>\n",
       "      <td>169,48 EUR</td>\n",
       "    </tr>\n",
       "    <tr>\n",
       "      <th>1</th>\n",
       "      <td>Adidas Pro Model Zapatos JH7147 Preloved Marró...</td>\n",
       "      <td>https://i.ebayimg.com/thumbs/images/g/X4IAAOSw...</td>\n",
       "      <td>171,82 EUR</td>\n",
       "    </tr>\n",
       "  </tbody>\n",
       "</table>\n",
       "</div>"
      ],
      "text/plain": [
       "                                   nombre_zapatillas  \\\n",
       "0  Adidas Hombres 7.5 NMD_V3 BOOST Zapatos Nube B...   \n",
       "1  Adidas Pro Model Zapatos JH7147 Preloved Marró...   \n",
       "\n",
       "                                              imagen      precio  \n",
       "0  https://i.ebayimg.com/thumbs/images/g/7YMAAOSw...  169,48 EUR  \n",
       "1  https://i.ebayimg.com/thumbs/images/g/X4IAAOSw...  171,82 EUR  "
      ]
     },
     "execution_count": 28,
     "metadata": {},
     "output_type": "execute_result"
    }
   ],
   "source": [
    "df= pd.read_csv(\"datos\\datos_ebay_zapatillas2024-10-15.csv\", index_col=0)\n",
    "df.head(2)"
   ]
  },
  {
   "cell_type": "code",
   "execution_count": 34,
   "metadata": {},
   "outputs": [
    {
     "data": {
      "text/plain": [
       "[('Adidas Hombres 7.5 NMD_V3 BOOST Zapatos Nube Blanco/Gris Dos HP9831 NUEVO',\n",
       "  'https://i.ebayimg.com/thumbs/images/g/7YMAAOSwjfFnDgZF/s-l960.jpg',\n",
       "  '169,48 EUR'),\n",
       " ('Adidas Pro Model Zapatos JH7147 Preloved Marrón/Núcleo Negro/Marfil',\n",
       "  'https://i.ebayimg.com/thumbs/images/g/X4IAAOSwwxNnACBO/s-l960.jpg',\n",
       "  '171,82 EUR'),\n",
       " ('Adidas Originals SL 72 RS Spark Core Negro Blanco IH7912 Hombres Talla',\n",
       "  'https://i.ebayimg.com/thumbs/images/g/tJEAAOSwqSZm-ito/s-l960.jpg',\n",
       "  '174,13 EUR')]"
      ]
     },
     "execution_count": 34,
     "metadata": {},
     "output_type": "execute_result"
    }
   ],
   "source": [
    "tuple(df.values[0])    #Values da u array de listas y luego pasamos cada elemento a tupla con un for\n",
    "\n",
    "lista_de_tuplas=[]\n",
    "for fila in df.values:\n",
    "    lista_de_tuplas.append(tuple(fila))\n",
    "lista_de_tuplas2= [tuple(fila) for fila in df.values]    #El for se puede hacer en list comprehension\n",
    "lista_de_tuplas[:3]"
   ]
  },
  {
   "cell_type": "markdown",
   "metadata": {},
   "source": [
    "IMPORTANTE QUE LOS ID NO PODEMOS HACER SERIAL PORQUE ES UN LÍO ASI QUE HABRÁ QUE HACER UNA QUERY PARA CREAR LOS ID"
   ]
  }
 ],
 "metadata": {
  "kernelspec": {
   "display_name": "Python 3",
   "language": "python",
   "name": "python3"
  },
  "language_info": {
   "codemirror_mode": {
    "name": "ipython",
    "version": 3
   },
   "file_extension": ".py",
   "mimetype": "text/x-python",
   "name": "python",
   "nbconvert_exporter": "python",
   "pygments_lexer": "ipython3",
   "version": "3.11.9"
  }
 },
 "nbformat": 4,
 "nbformat_minor": 2
}
